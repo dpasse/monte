{
 "cells": [
  {
   "cell_type": "code",
   "execution_count": 1,
   "metadata": {},
   "outputs": [],
   "source": [
    "import random\n",
    "import numpy as np\n",
    "\n",
    "from scipy.stats import norm"
   ]
  },
  {
   "cell_type": "code",
   "execution_count": null,
   "metadata": {},
   "outputs": [],
   "source": []
  },
  {
   "cell_type": "code",
   "execution_count": 25,
   "metadata": {},
   "outputs": [],
   "source": [
    "sagarin_rankings = {\n",
    "  'Kansas': 97.93,\n",
    "  'UNC': 92.83\n",
    "}\n",
    "\n",
    "teams = [''] + list(sagarin_rankings.keys())"
   ]
  },
  {
   "cell_type": "code",
   "execution_count": 29,
   "metadata": {},
   "outputs": [
    {
     "data": {
      "text/plain": [
       "{'Kansas': 0.7852, 'UNC': 0.2148}"
      ]
     },
     "execution_count": 29,
     "metadata": {},
     "output_type": "execute_result"
    }
   ],
   "source": [
    "def play_game(home, away, std = 10):\n",
    "    mu = home - away\n",
    "    observation = norm.ppf(random.random(), mu, std)\n",
    "\n",
    "    home_score = home + observation\n",
    "    away_score = away - observation\n",
    "\n",
    "    return home_score, away_score\n",
    "\n",
    "### http://sagarin.com/sports/cbsend.htm\n",
    "### https://masseyratings.com/cb/compare.htm\n",
    "\n",
    "def simulate(team1, team2, n_iters=10000):\n",
    "    did_home_team_win = []\n",
    "\n",
    "    t1 = sagarin_rankings[team1]\n",
    "    t2 = sagarin_rankings[team2]\n",
    "\n",
    "    for _ in range(n_iters):\n",
    "        h, a = play_game(t1, t2)\n",
    "        while h == a:\n",
    "            h, a = play_game(t1, t2)\n",
    "\n",
    "        did_home_team_win.append(h > a)\n",
    "\n",
    "    win_perc = np.mean(did_home_team_win)\n",
    "    return {\n",
    "        team1: round(win_perc, 5),\n",
    "        team2: round(1 - win_perc, 5)\n",
    "    }\n",
    "\n",
    "simulate('Kansas', 'UNC')\n"
   ]
  },
  {
   "cell_type": "code",
   "execution_count": null,
   "metadata": {},
   "outputs": [],
   "source": []
  },
  {
   "cell_type": "code",
   "execution_count": 35,
   "metadata": {},
   "outputs": [
    {
     "data": {
      "application/vnd.jupyter.widget-view+json": {
       "model_id": "3f583228fcc649478cd5b39e2ecf3f77",
       "version_major": 2,
       "version_minor": 0
      },
      "text/plain": [
       "interactive(children=(Dropdown(description='team1', options=('', 'Kansas', 'UNC'), value=''), Dropdown(descrip…"
      ]
     },
     "metadata": {},
     "output_type": "display_data"
    }
   ],
   "source": [
    "import numpy as np\n",
    "from ipywidgets import interact\n",
    "from IPython.display import clear_output\n",
    "\n",
    "@interact(team1=teams, team2=teams)\n",
    "def update(team1, team2):\n",
    "    clear_output()\n",
    "\n",
    "    if len(team1) == 0 or len(team2) == 0:\n",
    "        return\n",
    "\n",
    "    print(team1, 'vs', team2, '...')\n",
    "\n",
    "    observation = simulate(team1, team2, 10000)\n",
    "    clear_output()\n",
    "\n",
    "    print()\n",
    "    print('------ RESULTS ------')\n",
    "    t1 = observation[team1]\n",
    "    print(f'{team1}: {t1}')\n",
    "    t2 = observation[team2]\n",
    "    print(f'{team2}: {t2}')\n",
    "\n"
   ]
  },
  {
   "cell_type": "code",
   "execution_count": null,
   "metadata": {},
   "outputs": [],
   "source": []
  },
  {
   "cell_type": "code",
   "execution_count": null,
   "metadata": {},
   "outputs": [],
   "source": []
  }
 ],
 "metadata": {
  "interpreter": {
   "hash": "2304a4306d72a9fc8f52cfa19ebef60f8a2cea47ec9230cdf955b20fb7741e1a"
  },
  "kernelspec": {
   "display_name": "Python 3.9.1 ('monte': venv)",
   "language": "python",
   "name": "python3"
  },
  "language_info": {
   "codemirror_mode": {
    "name": "ipython",
    "version": 3
   },
   "file_extension": ".py",
   "mimetype": "text/x-python",
   "name": "python",
   "nbconvert_exporter": "python",
   "pygments_lexer": "ipython3",
   "version": "3.9.9"
  },
  "orig_nbformat": 4
 },
 "nbformat": 4,
 "nbformat_minor": 2
}
