{
 "cells": [
  {
   "cell_type": "code",
   "execution_count": 1,
   "metadata": {},
   "outputs": [],
   "source": [
    "import random\n",
    "\n",
    "from yatz.strategy import RandomStrategy, PickHighestStrategy, AggressiveRandomStrategy, RollStrategies\n",
    "from yatz.player import Player\n",
    "from yatz.yatzy import Yatzy"
   ]
  },
  {
   "cell_type": "code",
   "execution_count": null,
   "metadata": {},
   "outputs": [],
   "source": []
  },
  {
   "cell_type": "code",
   "execution_count": 2,
   "metadata": {},
   "outputs": [
    {
     "data": {
      "text/plain": [
       "[('Ted', 96), ('Jack', 72), ('Ned', 31), ('Bob', 15)]"
      ]
     },
     "execution_count": 2,
     "metadata": {},
     "output_type": "execute_result"
    }
   ],
   "source": [
    "players = [\n",
    "    Player(\n",
    "        name='Ted',\n",
    "        roll_strategies=RollStrategies({\n",
    "            '1st': AggressiveRandomStrategy(),\n",
    "            '2nd': RandomStrategy(),\n",
    "        }),\n",
    "        pick_strategy=PickHighestStrategy(),\n",
    "    ),\n",
    "    Player(\n",
    "        name='Bob',\n",
    "        roll_strategies=RollStrategies({\n",
    "            '1st': RandomStrategy(),\n",
    "            '2nd': RandomStrategy(),\n",
    "        }),\n",
    "        pick_strategy=RandomStrategy(),\n",
    "    ),\n",
    "    Player(\n",
    "        name='Jack',\n",
    "        roll_strategies=RollStrategies({\n",
    "            '1st': RandomStrategy(),\n",
    "            '2nd': RandomStrategy(),\n",
    "        }),\n",
    "        pick_strategy=RandomStrategy(),\n",
    "    ),\n",
    "    Player(\n",
    "        name='Ned',\n",
    "        roll_strategies=RollStrategies({\n",
    "            '1st': RandomStrategy(),\n",
    "            '2nd': RandomStrategy(),\n",
    "        }),\n",
    "        pick_strategy=PickHighestStrategy(),\n",
    "    ),\n",
    "]\n",
    "\n",
    "Yatzy(players, debug=False).play()"
   ]
  },
  {
   "cell_type": "code",
   "execution_count": null,
   "metadata": {},
   "outputs": [],
   "source": []
  },
  {
   "cell_type": "code",
   "execution_count": 3,
   "metadata": {},
   "outputs": [
    {
     "data": {
      "text/plain": [
       "{'Ted': [3346, 2956, 2295, 1403],\n",
       " 'Ned': [2561, 2979, 2687, 1773],\n",
       " 'Bob': [2054, 2024, 2500, 3422],\n",
       " 'Jack': [2039, 2041, 2518, 3402]}"
      ]
     },
     "execution_count": 3,
     "metadata": {},
     "output_type": "execute_result"
    }
   ],
   "source": [
    "scores = { \n",
    "    'Ted': [0, 0, 0, 0],\n",
    "    'Ned': [0, 0, 0, 0],\n",
    "    'Bob': [0, 0, 0, 0],\n",
    "    'Jack': [0, 0, 0, 0]\n",
    "}\n",
    "\n",
    "n_sims = 10000\n",
    "for _ in range(n_sims):\n",
    "    random.shuffle(players)\n",
    "    for i, obj in enumerate(Yatzy(players, debug=False).play()):\n",
    "        name = obj[0]\n",
    "        scores[name][i] += 1\n",
    "\n",
    "scores"
   ]
  },
  {
   "cell_type": "code",
   "execution_count": 4,
   "metadata": {},
   "outputs": [
    {
     "data": {
      "text/plain": [
       "{'Ted': 33.46, 'Ned': 25.61, 'Bob': 20.54, 'Jack': 20.39}"
      ]
     },
     "execution_count": 4,
     "metadata": {},
     "output_type": "execute_result"
    }
   ],
   "source": [
    "{\n",
    "    name: round((ranks[0] / n_sims) * 100, 3)\n",
    "    for name, ranks\n",
    "    in scores.items()\n",
    "}"
   ]
  },
  {
   "cell_type": "code",
   "execution_count": null,
   "metadata": {},
   "outputs": [],
   "source": []
  }
 ],
 "metadata": {
  "kernelspec": {
   "display_name": "Python 3.9.9 ('monte': venv)",
   "language": "python",
   "name": "python3"
  },
  "language_info": {
   "codemirror_mode": {
    "name": "ipython",
    "version": 3
   },
   "file_extension": ".py",
   "mimetype": "text/x-python",
   "name": "python",
   "nbconvert_exporter": "python",
   "pygments_lexer": "ipython3",
   "version": "3.9.9"
  },
  "orig_nbformat": 4,
  "vscode": {
   "interpreter": {
    "hash": "2304a4306d72a9fc8f52cfa19ebef60f8a2cea47ec9230cdf955b20fb7741e1a"
   }
  }
 },
 "nbformat": 4,
 "nbformat_minor": 2
}
