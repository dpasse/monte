{
 "cells": [
  {
   "cell_type": "code",
   "execution_count": 1,
   "metadata": {},
   "outputs": [],
   "source": [
    "import random\n",
    "\n",
    "from yatz.strategy import RandomStrategy, PickHighestStrategy, AggressiveRandomStrategy, RollStrategies\n",
    "from yatz.player import Player\n",
    "from yatz.yatzy import Yatzy"
   ]
  },
  {
   "cell_type": "code",
   "execution_count": null,
   "metadata": {},
   "outputs": [],
   "source": []
  },
  {
   "cell_type": "code",
   "execution_count": 2,
   "metadata": {},
   "outputs": [
    {
     "data": {
      "text/plain": [
       "[('Ted', 70), ('Ned', 46), ('Bob', 34), ('Jack', 25)]"
      ]
     },
     "execution_count": 2,
     "metadata": {},
     "output_type": "execute_result"
    }
   ],
   "source": [
    "players = [\n",
    "    Player(\n",
    "        name='Ted',\n",
    "        roll_strategies=RollStrategies({\n",
    "            '1st': AggressiveRandomStrategy(),\n",
    "            '2nd': RandomStrategy(),\n",
    "        }),\n",
    "        pick_strategy=PickHighestStrategy(),\n",
    "    ),\n",
    "    Player(\n",
    "        name='Bob',\n",
    "        roll_strategies=RollStrategies({\n",
    "            '1st': RandomStrategy(),\n",
    "            '2nd': RandomStrategy(),\n",
    "        }),\n",
    "        pick_strategy=RandomStrategy(),\n",
    "    ),\n",
    "    Player(\n",
    "        name='Jack',\n",
    "        roll_strategies=RollStrategies({\n",
    "            '1st': RandomStrategy(),\n",
    "            '2nd': RandomStrategy(),\n",
    "        }),\n",
    "        pick_strategy=RandomStrategy(),\n",
    "    ),\n",
    "    Player(\n",
    "        name='Ned',\n",
    "        roll_strategies=RollStrategies({\n",
    "            '1st': RandomStrategy(),\n",
    "            '2nd': RandomStrategy(),\n",
    "        }),\n",
    "        pick_strategy=PickHighestStrategy(),\n",
    "    ),\n",
    "]\n",
    "\n",
    "Yatzy(players, debug=False).play()"
   ]
  },
  {
   "cell_type": "code",
   "execution_count": null,
   "metadata": {},
   "outputs": [],
   "source": []
  },
  {
   "cell_type": "code",
   "execution_count": 3,
   "metadata": {},
   "outputs": [
    {
     "name": "stdout",
     "output_type": "stream",
     "text": [
      "1000\n",
      "2000\n",
      "3000\n",
      "4000\n",
      "5000\n",
      "6000\n",
      "7000\n",
      "8000\n",
      "9000\n"
     ]
    },
    {
     "data": {
      "text/plain": [
       "{'Ted': [3338, 2887, 2329, 1446],\n",
       " 'Ned': [2515, 3028, 2578, 1879],\n",
       " 'Bob': [2054, 2023, 2550, 3373],\n",
       " 'Jack': [2093, 2062, 2543, 3302]}"
      ]
     },
     "execution_count": 3,
     "metadata": {},
     "output_type": "execute_result"
    }
   ],
   "source": [
    "scores = { \n",
    "    'Ted': [0, 0, 0, 0],\n",
    "    'Ned': [0, 0, 0, 0],\n",
    "    'Bob': [0, 0, 0, 0],\n",
    "    'Jack': [0, 0, 0, 0]\n",
    "}\n",
    "\n",
    "n_sims = 10000\n",
    "for i in range(n_sims):\n",
    "\n",
    "    if i % 1000 == 0 and i != 0:\n",
    "        print(i)\n",
    "\n",
    "    random.shuffle(players)\n",
    "    for i, obj in enumerate(Yatzy(players, debug=False).play()):\n",
    "        name = obj[0]\n",
    "        scores[name][i] += 1\n",
    "\n",
    "scores"
   ]
  },
  {
   "cell_type": "code",
   "execution_count": 4,
   "metadata": {},
   "outputs": [
    {
     "data": {
      "text/plain": [
       "{'Ted': 33.38, 'Ned': 25.15, 'Bob': 20.54, 'Jack': 20.93}"
      ]
     },
     "execution_count": 4,
     "metadata": {},
     "output_type": "execute_result"
    }
   ],
   "source": [
    "{\n",
    "    name: round((ranks[0] / n_sims) * 100, 3)\n",
    "    for name, ranks\n",
    "    in scores.items()\n",
    "}"
   ]
  },
  {
   "cell_type": "code",
   "execution_count": null,
   "metadata": {},
   "outputs": [],
   "source": []
  }
 ],
 "metadata": {
  "kernelspec": {
   "display_name": "Python 3.9.9 ('monte': venv)",
   "language": "python",
   "name": "python3"
  },
  "language_info": {
   "codemirror_mode": {
    "name": "ipython",
    "version": 3
   },
   "file_extension": ".py",
   "mimetype": "text/x-python",
   "name": "python",
   "nbconvert_exporter": "python",
   "pygments_lexer": "ipython3",
   "version": "3.9.13"
  },
  "orig_nbformat": 4,
  "vscode": {
   "interpreter": {
    "hash": "2304a4306d72a9fc8f52cfa19ebef60f8a2cea47ec9230cdf955b20fb7741e1a"
   }
  }
 },
 "nbformat": 4,
 "nbformat_minor": 2
}
