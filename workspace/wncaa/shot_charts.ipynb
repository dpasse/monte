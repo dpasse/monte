{
 "cells": [
  {
   "cell_type": "code",
   "execution_count": 1,
   "metadata": {},
   "outputs": [],
   "source": [
    "import re\n",
    "import numpy as np\n",
    "import pandas as pd\n",
    "import matplotlib.pyplot as plt\n",
    "import seaborn as sns\n",
    "\n",
    "from PIL import Image\n",
    "from sklearn.svm import SVC"
   ]
  },
  {
   "cell_type": "code",
   "execution_count": null,
   "metadata": {},
   "outputs": [],
   "source": []
  },
  {
   "cell_type": "code",
   "execution_count": null,
   "metadata": {},
   "outputs": [],
   "source": [
    "x_scale = 5\n",
    "y_scale = 3\n",
    "\n",
    "full_court_img = Image.open('../../data/wnba/ml-bg-court.png').resize((x_scale * 100, y_scale * 100), Image.ANTIALIAS)\n",
    "full_court_img.size"
   ]
  },
  {
   "cell_type": "code",
   "execution_count": null,
   "metadata": {},
   "outputs": [],
   "source": [
    "df_boxscores = pd.read_csv('../../data/wnba/wnba_boxscores.csv')\n",
    "df_boxscores.head()"
   ]
  },
  {
   "cell_type": "code",
   "execution_count": null,
   "metadata": {},
   "outputs": [],
   "source": [
    "df = pd.read_csv('../../data/wnba/wnba_shot_chart.csv')\n",
    "df.head()"
   ]
  },
  {
   "cell_type": "code",
   "execution_count": null,
   "metadata": {},
   "outputs": [],
   "source": [
    "def who_shot(row):\n",
    "    match = re.search(r'^([a-z\\']+[\\s-]+)+(?=makes|misses)', row, flags=re.IGNORECASE)\n",
    "    if match is not None:\n",
    "        return match.group().strip()\n",
    "        \n",
    "    match = re.search(r'blocks\\s+([a-z\\']+[\\s-]+)+?(?=\\'s)', row, flags=re.IGNORECASE)\n",
    "    if match is None:\n",
    "        return ''\n",
    "\n",
    "    return re.sub(r'^blocks\\s+', '', match.group()).strip()\n",
    "\n",
    "def who_blocked(row):\n",
    "    match = re.search(r'^([a-z\\']+[\\s-]+)+(?=blocks)', row, flags=re.IGNORECASE)\n",
    "    if match is None:\n",
    "        return ''\n",
    "\n",
    "    return match.group().strip()\n",
    "\n",
    "def distance(row):\n",
    "    match = re.search(r'(\\d+)[\\s-]+foot', row, flags=re.IGNORECASE)\n",
    "    if match is None:\n",
    "        return ''\n",
    "\n",
    "    return match.group(1).strip()\n",
    "\n",
    "def distance_category(distance):\n",
    "    if distance == '':\n",
    "        return ''\n",
    "    \n",
    "    distance_as_integer = int(distance)\n",
    "    if distance_as_integer < 6:\n",
    "        return '0-5 footer'\n",
    "\n",
    "    if distance_as_integer < 17:\n",
    "        return '<= 16 footer'\n",
    "\n",
    "    if distance_as_integer <= 22:\n",
    "        return '<= 22 footer'\n",
    "\n",
    "    return '+22 footer'\n",
    "\n",
    "def shot(row):\n",
    "    match = re.search(r'(pullup|floating|step\\s+back)\\s+jump', row)\n",
    "    if match is None:\n",
    "        match = re.search(r'(layup)', row)\n",
    "\n",
    "    if match is None:\n",
    "        match = re.search(r'(hook|jumper)', row)\n",
    "\n",
    "    if match is None:\n",
    "        match = re.search(r'(free\\s+throw)', row)\n",
    "\n",
    "    if match is None:\n",
    "        return 'set'\n",
    "\n",
    "    return match.group(1).strip()\n",
    "\n",
    "def assist(row):\n",
    "    match = re.search(r'\\(((?:[a-z\\']+[\\s-])+)(?=assists)', row, flags=re.IGNORECASE)\n",
    "    if match is None:\n",
    "        return ''\n",
    "\n",
    "    return match.group(1).strip()\n",
    "\n",
    "def is_3pt(row):\n",
    "    shot_distance = row['shot_distance']\n",
    "    if len(shot_distance) > 0:\n",
    "        return int(shot_distance) > 22\n",
    "    \n",
    "    return len(re.findall(r'three\\s+point', row['description'])) > 0\n",
    "\n",
    "df['shot_by'] = df.description.map(who_shot)\n",
    "df['shot_distance'] = df.description.map(distance)\n",
    "df['shot_distance_cat'] = df.shot_distance.map(distance_category)\n",
    "df['blocked_by'] = df.description.map(who_blocked)\n",
    "df['shot_type'] = df.description.map(shot)\n",
    "df['assist_by'] = df.description.map(assist)\n",
    "\n",
    "df['is_3pt'] = df.apply(is_3pt, axis=1)"
   ]
  },
  {
   "cell_type": "code",
   "execution_count": null,
   "metadata": {},
   "outputs": [],
   "source": []
  },
  {
   "cell_type": "code",
   "execution_count": null,
   "metadata": {},
   "outputs": [],
   "source": [
    "def parse(loc):\n",
    "  locations = list(map(float, re.findall(r'calc\\(([\\d.]+)%', ' '.join(loc))))\n",
    "  if len(locations) != 2:\n",
    "    return [-1, -1]\n",
    "\n",
    "  ## css is bottom ... bottom 6% would mean lower shot near line\n",
    "  ##                   bottom 96% would mean upper shot new line\n",
    "  return [ round(x, 2) for x in locations ]\n",
    "\n",
    "def is_valid(loc):\n",
    "  return not any(list(map(lambda a: a > 100 or a < 0, loc)))\n",
    "\n",
    "df.location = df.location.map(eval).map(parse)\n",
    "df['is_valid'] = df.location.map(is_valid)\n",
    "\n",
    "df.head(n=10)"
   ]
  },
  {
   "cell_type": "code",
   "execution_count": null,
   "metadata": {},
   "outputs": [],
   "source": []
  },
  {
   "cell_type": "code",
   "execution_count": null,
   "metadata": {},
   "outputs": [],
   "source": [
    "## only use the valid shot locations moving forward\n",
    "df_valid = df[df.is_valid].copy()"
   ]
  },
  {
   "cell_type": "code",
   "execution_count": null,
   "metadata": {},
   "outputs": [],
   "source": []
  },
  {
   "cell_type": "code",
   "execution_count": null,
   "metadata": {},
   "outputs": [],
   "source": [
    "def side(loc):\n",
    "  return 'right' if loc[1] >= 50  else 'left'\n",
    "\n",
    "df_valid['side_of_court'] = df_valid.location.map(lambda loc: 'right' if loc[1] >= 50  else 'left')\n",
    "\n",
    "def flip(row):\n",
    "\n",
    "  location = row['location']\n",
    "  shot_distance = row['shot_distance']\n",
    "\n",
    "  if shot_distance != '' and int(shot_distance) >= 46:\n",
    "    return [50, 50]\n",
    "\n",
    "  if row['side_of_court'] == 'right':\n",
    "    x = location[1]\n",
    "    y = location[0]  \n",
    "\n",
    "    return [round(100-y, 1), round(100-x, 1)]\n",
    "\n",
    "  return location\n",
    "\n",
    "df_valid['single_location'] = df_valid.apply(flip, axis=1)\n",
    "df_valid['side_of_the_half_court'] = df_valid.single_location.map(lambda loc: 'right' if loc[0] > 50 else 'left') ## doesnt make sense yet...\n",
    "\n",
    "df_valid.head(n=5)"
   ]
  },
  {
   "cell_type": "code",
   "execution_count": null,
   "metadata": {},
   "outputs": [],
   "source": []
  },
  {
   "cell_type": "code",
   "execution_count": null,
   "metadata": {},
   "outputs": [],
   "source": [
    "def get_makes_and_misses_full_court(df):\n",
    "    def get_coordinates(df):\n",
    "        x = df.location.map(lambda a: a[1])\n",
    "        y = df.location.map(lambda a: a[0])\n",
    "\n",
    "        return x, y\n",
    "\n",
    "    df_sub = df[df.blocked_by.map(lambda bb: len(bb) == 0)]\n",
    "\n",
    "    x_make, y_make = get_coordinates(df_sub[df_sub.made])\n",
    "    x_missed, y_missed = get_coordinates(df_sub[~df_sub.made])\n",
    "\n",
    "    return x_make, y_make, x_missed, y_missed"
   ]
  },
  {
   "cell_type": "code",
   "execution_count": null,
   "metadata": {},
   "outputs": [],
   "source": [
    "def get_makes_and_misses_half_court(df):\n",
    "    def get_coordinates(df):\n",
    "        x = df.single_location.map(lambda a: a[1])\n",
    "        y = df.single_location.map(lambda a: a[0])\n",
    "\n",
    "        return x, y\n",
    "\n",
    "    df_sub = df[df.blocked_by.map(lambda bb: len(bb) == 0)]\n",
    "\n",
    "    x_make, y_make = get_coordinates(df_sub[df_sub.made])\n",
    "    x_missed, y_missed = get_coordinates(df_sub[~df_sub.made])\n",
    "\n",
    "    return x_make, y_make, x_missed, y_missed"
   ]
  },
  {
   "cell_type": "code",
   "execution_count": null,
   "metadata": {},
   "outputs": [],
   "source": []
  },
  {
   "cell_type": "markdown",
   "metadata": {},
   "source": [
    "### Can we impute 3pt from location?"
   ]
  },
  {
   "cell_type": "code",
   "execution_count": null,
   "metadata": {},
   "outputs": [],
   "source": [
    "fig, ax = plt.subplots(2)\n",
    "\n",
    "## def. 3pt\n",
    "df_3pt = df_valid[\n",
    "    np.logical_and(\n",
    "        df_valid.shot_distance.map(lambda a: -1 if a == '' else int(a)) > 22, ## have distance, > 22\n",
    "        df_valid.is_3pt,\n",
    "    )\n",
    "]\n",
    "\n",
    "x_make, y_make, x_missed, y_missed = get_makes_and_misses_half_court(df_3pt)\n",
    "\n",
    "ax[0].scatter(x_missed * x_scale, (100 - y_missed) * y_scale, marker='x', c='red', alpha=.5)\n",
    "ax[0].scatter(x_make * x_scale, (100 - y_make) * y_scale, marker='o', c='blue', alpha=.5)\n",
    "ax[0].axhline(50 * y_scale, c='k', alpha=.5, linestyle= '--')\n",
    "ax[0].imshow(full_court_img)\n",
    "\n",
    "## def. 2pt\n",
    "df_2pt = df_valid[\n",
    "    np.logical_and(\n",
    "        df_valid.shot_distance.map(lambda a: 50 if a == '' else int(a)) < 22, ## have distance, > 22\n",
    "        ~df_valid.is_3pt,\n",
    "    )\n",
    "]\n",
    "\n",
    "x_make, y_make, x_missed, y_missed = get_makes_and_misses_half_court(df_2pt)\n",
    "\n",
    "ax[1].scatter(x_missed * x_scale, (100 - y_missed) * y_scale, marker='x', c='red', alpha=.5)\n",
    "ax[1].scatter(x_make * x_scale, (100 - y_make) * y_scale, marker='o', c='blue', alpha=.5)\n",
    "ax[1].axhline(50 * y_scale, c='k', alpha=.5, linestyle= '--')\n",
    "ax[1].imshow(full_court_img)\n",
    "\n",
    "plt.show()"
   ]
  },
  {
   "cell_type": "code",
   "execution_count": null,
   "metadata": {},
   "outputs": [],
   "source": [
    "fig, ax = plt.subplots()\n",
    "\n",
    "df_unlabeled = df_valid[\n",
    "    np.logical_and(\n",
    "        df_valid.shot_distance.str.len() == 0,\n",
    "        ~df_valid.is_3pt,\n",
    "    )\n",
    "].copy()\n",
    "\n",
    "x_make, y_make, x_missed, y_missed = get_makes_and_misses_half_court(df_unlabeled)\n",
    "\n",
    "ax.scatter(x_missed * x_scale, (100 - y_missed) * y_scale, marker='x', c='red', alpha=.5)\n",
    "ax.scatter(x_make * x_scale, (100 - y_make) * y_scale, marker='o', c='blue', alpha=.5)\n",
    "ax.axhline(50 * y_scale, c='k', alpha=.5, linestyle= '--')\n",
    "ax.imshow(full_court_img)\n",
    "\n",
    "plt.show()"
   ]
  },
  {
   "cell_type": "code",
   "execution_count": null,
   "metadata": {},
   "outputs": [],
   "source": [
    "df_training = pd.concat([\n",
    "    df_3pt[['single_location', 'is_3pt']],\n",
    "    df_2pt[['single_location', 'is_3pt']]\n",
    "]).sample(frac=1)\n",
    "\n",
    "X = df_training.single_location.tolist()\n",
    "y = df_training.is_3pt.astype(int).tolist()\n",
    "\n",
    "model = SVC(random_state=42)\n",
    "model.fit(X, y)\n",
    "\n",
    "model.score(X, y)"
   ]
  },
  {
   "cell_type": "code",
   "execution_count": null,
   "metadata": {},
   "outputs": [],
   "source": [
    "df_unlabeled['predicted_3pt'] = model.predict(df_unlabeled.single_location.tolist())\n",
    "df_unlabeled.is_3pt = df_unlabeled.predicted_3pt.astype(bool)\n",
    "\n",
    "print(len(df_unlabeled[df_unlabeled.is_3pt]))"
   ]
  },
  {
   "cell_type": "code",
   "execution_count": null,
   "metadata": {},
   "outputs": [],
   "source": [
    "fig, ax = plt.subplots()\n",
    "\n",
    "x_make, y_make, x_missed, y_missed = get_makes_and_misses_half_court(\n",
    "    df_unlabeled[df_unlabeled.is_3pt]\n",
    ")\n",
    "\n",
    "ax.scatter(x_missed * x_scale, (100 - y_missed) * y_scale, marker='x', c='red', alpha=.5)\n",
    "ax.scatter(x_make * x_scale, (100 - y_make) * y_scale, marker='o', c='blue', alpha=.5)\n",
    "ax.axhline(50 * y_scale, c='k', alpha=.5, linestyle= '--')\n",
    "ax.imshow(full_court_img)\n",
    "\n",
    "plt.xticks([])\n",
    "plt.yticks([])\n",
    "plt.show()"
   ]
  },
  {
   "cell_type": "code",
   "execution_count": null,
   "metadata": {},
   "outputs": [],
   "source": [
    "for index, row in df_valid.iterrows():\n",
    "    if row['shot_distance'] == '' and not row['is_3pt']:\n",
    "        df_valid.loc[df_valid.index == index, 'is_3pt'] = bool(model.predict([row['single_location']])[0])\n",
    "\n",
    "fig, ax = plt.subplots()\n",
    "\n",
    "x_make, y_make, x_missed, y_missed = get_makes_and_misses_half_court(df_valid[~df_valid['is_3pt']])\n",
    "\n",
    "ax.scatter(x_missed * x_scale, (100 - y_missed) * y_scale, marker='x', c='red', alpha=.5)\n",
    "ax.scatter(x_make * x_scale, (100 - y_make) * y_scale, marker='o', c='blue', alpha=.5)\n",
    "ax.axhline(50 * y_scale, c='k', alpha=.5, linestyle= '--')\n",
    "ax.imshow(full_court_img)\n",
    "\n",
    "plt.xticks([])\n",
    "plt.yticks([])\n",
    "plt.show()"
   ]
  },
  {
   "cell_type": "code",
   "execution_count": null,
   "metadata": {},
   "outputs": [],
   "source": [
    "fig, ax = plt.subplots()\n",
    "\n",
    "x_make, y_make, x_missed, y_missed = get_makes_and_misses_half_court(df_valid[df_valid['is_3pt']])\n",
    "\n",
    "ax.scatter(x_missed * x_scale, (100 - y_missed) * y_scale, marker='x', c='red', alpha=.5)\n",
    "ax.scatter(x_make * x_scale, (100 - y_make) * y_scale, marker='o', c='blue', alpha=.5)\n",
    "ax.axhline(50 * y_scale, c='k', alpha=.5, linestyle= '--')\n",
    "ax.imshow(full_court_img)\n",
    "\n",
    "plt.xticks([])\n",
    "plt.yticks([])\n",
    "plt.show()"
   ]
  },
  {
   "cell_type": "code",
   "execution_count": null,
   "metadata": {},
   "outputs": [],
   "source": []
  },
  {
   "cell_type": "markdown",
   "metadata": {},
   "source": [
    "### View Player Shot Charts"
   ]
  },
  {
   "cell_type": "code",
   "execution_count": null,
   "metadata": {},
   "outputs": [],
   "source": [
    "player = 'Kelsey Plum' ## 'Sylvia Fowles'\n",
    "df_player = df_valid[df_valid.shot_by == player]\n",
    "\n",
    "df_player.head()"
   ]
  },
  {
   "cell_type": "code",
   "execution_count": null,
   "metadata": {},
   "outputs": [],
   "source": []
  },
  {
   "cell_type": "markdown",
   "metadata": {},
   "source": [
    "## Full Shot Chart"
   ]
  },
  {
   "cell_type": "code",
   "execution_count": null,
   "metadata": {},
   "outputs": [],
   "source": [
    "def get_makes_and_misses_full_court(df):\n",
    "    def get_coordinates(df):\n",
    "        x = df.location.map(lambda a: a[1])\n",
    "        y = df.location.map(lambda a: a[0])\n",
    "\n",
    "        return x, y\n",
    "\n",
    "    df_sub = df[df.blocked_by.map(lambda bb: len(bb) == 0)]\n",
    "\n",
    "    x_make, y_make = get_coordinates(df_sub[df_sub.made])\n",
    "    x_missed, y_missed = get_coordinates(df_sub[~df_sub.made])\n",
    "\n",
    "    return x_make, y_make, x_missed, y_missed"
   ]
  },
  {
   "cell_type": "code",
   "execution_count": null,
   "metadata": {},
   "outputs": [],
   "source": [
    "print(f'{player} - shot chart')\n",
    "\n",
    "fig, ax = plt.subplots()\n",
    "\n",
    "x_make, y_make, x_missed, y_missed = get_makes_and_misses_full_court(df_player)\n",
    "ax.scatter(x_missed * x_scale, (100 - y_missed) * y_scale, marker='x', c='red', alpha=.5)\n",
    "ax.scatter(x_make * x_scale, (100 - y_make) * y_scale, marker='o', c='blue', alpha=.5)\n",
    "ax.axhline(50 * y_scale, c='k', alpha=.5, linestyle= '--')\n",
    "\n",
    "## y-axis flips, need to flip the y data...\n",
    "ax.imshow(full_court_img)\n",
    "\n",
    "plt.show()"
   ]
  },
  {
   "cell_type": "code",
   "execution_count": null,
   "metadata": {},
   "outputs": [],
   "source": []
  },
  {
   "cell_type": "markdown",
   "metadata": {},
   "source": [
    "## Half Shot Chart"
   ]
  },
  {
   "cell_type": "code",
   "execution_count": null,
   "metadata": {},
   "outputs": [],
   "source": [
    "def get_makes_and_misses_half_court(df):\n",
    "    def get_coordinates(df):\n",
    "        x = df.single_location.map(lambda a: a[1])\n",
    "        y = df.single_location.map(lambda a: a[0])\n",
    "\n",
    "        return x, y\n",
    "\n",
    "    df_sub = df[df.blocked_by.map(lambda bb: len(bb) == 0)]\n",
    "\n",
    "    x_make, y_make = get_coordinates(df_sub[df_sub.made])\n",
    "    x_missed, y_missed = get_coordinates(df_sub[~df_sub.made])\n",
    "\n",
    "    return x_make, y_make, x_missed, y_missed"
   ]
  },
  {
   "cell_type": "code",
   "execution_count": null,
   "metadata": {},
   "outputs": [],
   "source": [
    "print(f'{player} - shot chart')\n",
    "\n",
    "fig, ax = plt.subplots()\n",
    "\n",
    "x_make, y_make, x_missed, y_missed = get_makes_and_misses_half_court(df_player)\n",
    "\n",
    "ax.scatter(x_missed * x_scale, (100 - y_missed) * y_scale, marker='x', c='red', alpha=.5)\n",
    "ax.scatter(x_make * x_scale, (100 - y_make) * y_scale, marker='o', c='blue', alpha=.5)\n",
    "ax.axhline(50 * y_scale, c='k', alpha=.5, linestyle= '--')\n",
    "\n",
    "ax.imshow(full_court_img)\n",
    "\n",
    "plt.xticks([])\n",
    "plt.yticks([])\n",
    "plt.show()"
   ]
  },
  {
   "cell_type": "code",
   "execution_count": null,
   "metadata": {},
   "outputs": [],
   "source": []
  },
  {
   "cell_type": "markdown",
   "metadata": {},
   "source": [
    "## How well did we pick up 3pt?"
   ]
  },
  {
   "cell_type": "code",
   "execution_count": null,
   "metadata": {},
   "outputs": [],
   "source": [
    "print(f'{player} - shot chart')\n",
    "\n",
    "fig, ax = plt.subplots()\n",
    "\n",
    "x_make, y_make, x_missed, y_missed = get_makes_and_misses_half_court(df_player[df_player.is_3pt])\n",
    "\n",
    "ax.scatter(x_missed * x_scale, (100 - y_missed) * y_scale, marker='x', c='red', alpha=.5)\n",
    "ax.scatter(x_make * x_scale, (100 - y_make) * y_scale, marker='o', c='blue', alpha=.5)\n",
    "ax.axhline(50 * y_scale, c='k', alpha=.5, linestyle= '--')\n",
    "\n",
    "ax.imshow(full_court_img)\n",
    "\n",
    "plt.xticks([])\n",
    "plt.yticks([])\n",
    "plt.show()"
   ]
  },
  {
   "cell_type": "code",
   "execution_count": null,
   "metadata": {},
   "outputs": [],
   "source": [
    "df_player[df_player.is_3pt].groupby(['made', 'side_of_the_half_court']).count()[['game_id']]"
   ]
  },
  {
   "cell_type": "code",
   "execution_count": null,
   "metadata": {},
   "outputs": [],
   "source": [
    "df_agg_makes = df[np.logical_and(np.logical_and(df.shot_by == player, df.is_3pt), df.made)].groupby(['game_id']).count()[['made']]\n",
    "df_agg_misses = df[np.logical_and(np.logical_and(df.shot_by == player, df.is_3pt), ~df.made)].groupby(['game_id']).count()[['made']]\n",
    "df_agg_misses.columns = ['misses']\n",
    "\n",
    "df_totals = df_agg_makes.join(df_agg_misses)\n",
    "def format_3pt(row):\n",
    "    made = row['made']\n",
    "    miss = row['misses']\n",
    "    total = made + miss\n",
    "\n",
    "    return f'{made}-{total}'\n",
    "\n",
    "df_totals['3PT'] = df_totals.apply(format_3pt, axis=1)"
   ]
  },
  {
   "cell_type": "code",
   "execution_count": null,
   "metadata": {},
   "outputs": [],
   "source": [
    "validation = pd.merge(\n",
    "    df_boxscores.loc[df_boxscores.id == 3065570, ['game_id', '3PT']],\n",
    "    df_totals,\n",
    "    how=\"left\",\n",
    "    on='game_id'\n",
    ")[['game_id', '3PT_x', '3PT_y']]\n",
    "\n",
    "validation['is_correct'] = validation['3PT_x'] == validation['3PT_y']\n",
    "\n",
    "validation"
   ]
  },
  {
   "cell_type": "code",
   "execution_count": null,
   "metadata": {},
   "outputs": [],
   "source": []
  },
  {
   "cell_type": "markdown",
   "metadata": {},
   "source": [
    "### Impute Shot Categories"
   ]
  },
  {
   "cell_type": "code",
   "execution_count": null,
   "metadata": {},
   "outputs": [],
   "source": [
    "df_shot_cat_1 = df_valid.loc[df_valid.shot_distance_cat == '0-5 footer']\n",
    "df_shot_cat_2 = df_valid.loc[df_valid.shot_distance_cat == '<= 16 footer']\n",
    "df_shot_cat_3 = df_valid.loc[df_valid.shot_distance_cat == '<= 22 footer']\n",
    "df_shot_cat_4 = df_valid.loc[df_valid.shot_distance_cat == '+22 footer']\n",
    "\n",
    "df_shot_cat_unlabeled = df_valid.loc[df_valid.shot_distance_cat == '']"
   ]
  },
  {
   "cell_type": "code",
   "execution_count": null,
   "metadata": {},
   "outputs": [],
   "source": [
    "fig, ax = plt.subplots()\n",
    "\n",
    "x_make, y_make, x_missed, y_missed = get_makes_and_misses_half_court(df_shot_cat_1)\n",
    "\n",
    "ax.scatter(x_missed * x_scale, (100 - y_missed) * y_scale, marker='x', c='red', alpha=.5)\n",
    "ax.scatter(x_make * x_scale, (100 - y_make) * y_scale, marker='o', c='blue', alpha=.5)\n",
    "ax.axhline(50 * y_scale, c='k', alpha=.5, linestyle= '--')\n",
    "\n",
    "ax.imshow(full_court_img)\n",
    "\n",
    "plt.xticks([])\n",
    "plt.yticks([])\n",
    "plt.show()"
   ]
  },
  {
   "cell_type": "code",
   "execution_count": null,
   "metadata": {},
   "outputs": [],
   "source": [
    "fig, ax = plt.subplots()\n",
    "\n",
    "x_make, y_make, x_missed, y_missed = get_makes_and_misses_half_court(df_shot_cat_2)\n",
    "\n",
    "ax.scatter(x_missed * x_scale, (100 - y_missed) * y_scale, marker='x', c='red', alpha=.5)\n",
    "ax.scatter(x_make * x_scale, (100 - y_make) * y_scale, marker='o', c='blue', alpha=.5)\n",
    "ax.axhline(50 * y_scale, c='k', alpha=.5, linestyle= '--')\n",
    "\n",
    "ax.imshow(full_court_img)\n",
    "\n",
    "plt.xticks([])\n",
    "plt.yticks([])\n",
    "plt.show()"
   ]
  },
  {
   "cell_type": "code",
   "execution_count": null,
   "metadata": {},
   "outputs": [],
   "source": [
    "fig, ax = plt.subplots()\n",
    "\n",
    "x_make, y_make, x_missed, y_missed = get_makes_and_misses_half_court(df_shot_cat_3)\n",
    "\n",
    "ax.scatter(x_missed * x_scale, (100 - y_missed) * y_scale, marker='x', c='red', alpha=.5)\n",
    "ax.scatter(x_make * x_scale, (100 - y_make) * y_scale, marker='o', c='blue', alpha=.5)\n",
    "ax.axhline(50 * y_scale, c='k', alpha=.5, linestyle= '--')\n",
    "\n",
    "ax.imshow(full_court_img)\n",
    "\n",
    "plt.xticks([])\n",
    "plt.yticks([])\n",
    "plt.show()"
   ]
  },
  {
   "cell_type": "code",
   "execution_count": null,
   "metadata": {},
   "outputs": [],
   "source": [
    "fig, ax = plt.subplots()\n",
    "\n",
    "x_make, y_make, x_missed, y_missed = get_makes_and_misses_half_court(df_shot_cat_4)\n",
    "\n",
    "ax.scatter(x_missed * x_scale, (100 - y_missed) * y_scale, marker='x', c='red', alpha=.5)\n",
    "ax.scatter(x_make * x_scale, (100 - y_make) * y_scale, marker='o', c='blue', alpha=.5)\n",
    "ax.axhline(50 * y_scale, c='k', alpha=.5, linestyle= '--')\n",
    "\n",
    "ax.imshow(full_court_img)\n",
    "\n",
    "plt.xticks([])\n",
    "plt.yticks([])\n",
    "plt.show()"
   ]
  },
  {
   "cell_type": "code",
   "execution_count": null,
   "metadata": {},
   "outputs": [],
   "source": [
    "fig, ax = plt.subplots()\n",
    "\n",
    "x_make, y_make, x_missed, y_missed = get_makes_and_misses_half_court(df_shot_cat_unlabeled)\n",
    "\n",
    "ax.scatter(x_missed * x_scale, (100 - y_missed) * y_scale, marker='x', c='red', alpha=.5)\n",
    "ax.scatter(x_make * x_scale, (100 - y_make) * y_scale, marker='o', c='blue', alpha=.5)\n",
    "ax.axhline(50 * y_scale, c='k', alpha=.5, linestyle= '--')\n",
    "\n",
    "ax.imshow(full_court_img)\n",
    "\n",
    "plt.xticks([])\n",
    "plt.yticks([])\n",
    "plt.show()"
   ]
  },
  {
   "cell_type": "code",
   "execution_count": null,
   "metadata": {},
   "outputs": [],
   "source": []
  },
  {
   "cell_type": "markdown",
   "metadata": {},
   "source": [
    "### parsed data"
   ]
  },
  {
   "cell_type": "code",
   "execution_count": null,
   "metadata": {},
   "outputs": [],
   "source": [
    "## shot type\n",
    "df.shot_type.unique()"
   ]
  },
  {
   "cell_type": "code",
   "execution_count": null,
   "metadata": {},
   "outputs": [],
   "source": [
    "## shot type\n",
    "df.shot_distance_cat.unique()"
   ]
  },
  {
   "cell_type": "code",
   "execution_count": null,
   "metadata": {},
   "outputs": [],
   "source": [
    "## shots\n",
    "sorted(df.shot_by.unique(), key=len, reverse=True)[:5]"
   ]
  },
  {
   "cell_type": "code",
   "execution_count": null,
   "metadata": {},
   "outputs": [],
   "source": [
    "## blocks\n",
    "sorted(df.blocked_by.unique(), key=len, reverse=True)[:5]"
   ]
  },
  {
   "cell_type": "code",
   "execution_count": null,
   "metadata": {},
   "outputs": [],
   "source": [
    "## assists\n",
    "sorted(df.assist_by.unique(), key=len, reverse=True)[:5]"
   ]
  },
  {
   "cell_type": "code",
   "execution_count": null,
   "metadata": {},
   "outputs": [],
   "source": [
    "## shot distances\n",
    "\n",
    "## 91.86 ft ..., -1 == 'Not Given'\n",
    "sorted(list(map(lambda a: -1 if a == '' else int(a), df.shot_distance.unique())))[:5]"
   ]
  }
 ],
 "metadata": {
  "kernelspec": {
   "display_name": "Python 3.9.9 ('monte': venv)",
   "language": "python",
   "name": "python3"
  },
  "language_info": {
   "codemirror_mode": {
    "name": "ipython",
    "version": 3
   },
   "file_extension": ".py",
   "mimetype": "text/x-python",
   "name": "python",
   "nbconvert_exporter": "python",
   "pygments_lexer": "ipython3",
   "version": "3.9.13"
  },
  "orig_nbformat": 4,
  "vscode": {
   "interpreter": {
    "hash": "2304a4306d72a9fc8f52cfa19ebef60f8a2cea47ec9230cdf955b20fb7741e1a"
   }
  }
 },
 "nbformat": 4,
 "nbformat_minor": 2
}
