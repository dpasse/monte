{
 "cells": [
  {
   "cell_type": "code",
   "execution_count": 90,
   "metadata": {},
   "outputs": [],
   "source": [
    "import re\n",
    "import os\n",
    "import requests\n",
    "\n",
    "import pandas as pd\n",
    "\n",
    "from bs4 import BeautifulSoup\n",
    "from datetime import datetime"
   ]
  },
  {
   "cell_type": "code",
   "execution_count": null,
   "metadata": {},
   "outputs": [],
   "source": []
  },
  {
   "cell_type": "code",
   "execution_count": 91,
   "metadata": {},
   "outputs": [],
   "source": [
    "def parse_tw(bs):\n",
    "    entries = []\n",
    "    for row in bs.select('.main-header-info'):\n",
    "        link = row.select('.posting-title a')[0]\n",
    "        entries.append({\n",
    "            'title': link.text,\n",
    "            'link': 'https://us63.dayforcehcm.com' + link.attrs['href'],\n",
    "            'ref': 'tw-' + re.search(r'Req #(\\d+)', row.select('.posting-subtitle div')[0].text).group(1),\n",
    "            'date': row.select('.posting-date')[0].text,\n",
    "        })\n",
    "\n",
    "    return entries"
   ]
  },
  {
   "cell_type": "code",
   "execution_count": 92,
   "metadata": {},
   "outputs": [],
   "source": [
    "def merge(df, df_prev):\n",
    "    for index, row in df_prev.loc[~df_prev.index.isin(df.index)].iterrows():\n",
    "        if len(row.closed) == 0:\n",
    "            df_prev.loc[index, ['closed']] = datetime.now().strftime('%Y-%m-%d')\n",
    "\n",
    "    return pd.concat(\n",
    "        [\n",
    "            df_prev,\n",
    "            df.iloc[~df.index.isin(df_prev.index)]\n",
    "        ]\n",
    "    ).sort_values(by='ref', ascending=False)"
   ]
  },
  {
   "cell_type": "code",
   "execution_count": null,
   "metadata": {},
   "outputs": [],
   "source": []
  },
  {
   "cell_type": "code",
   "execution_count": 93,
   "metadata": {},
   "outputs": [],
   "source": [
    "\n",
    "\n",
    "\n",
    "file_path = '../../data/scraps/jobs.csv'\n",
    "parsers = [\n",
    "    ('https://us63.dayforcehcm.com/CandidatePortal/en-US/packportal/', parse_tw)\n",
    "]\n",
    "\n",
    "\n",
    "df = None\n",
    "for url, parser in parsers:\n",
    "    response = requests.get(url)\n",
    "    bs = BeautifulSoup(response.text)\n",
    "\n",
    "    df_temp = pd.DataFrame(parser(bs)).set_index('ref')\n",
    "    df_temp['closed'] = ''\n",
    "\n",
    "    if df is None:\n",
    "        df = df_temp.copy()\n",
    "    else:\n",
    "        df = pd.concat([df, df_temp]).drop_duplicates()\n",
    "\n",
    "\n",
    "if os.path.exists(file_path):\n",
    "    df_prev = pd.read_csv(file_path, index_col='ref')\n",
    "    df_prev['closed'] = df_prev['closed'].fillna('')\n",
    "else:\n",
    "    df_prev = df.copy()\n",
    "\n",
    "\n",
    "merge(df, df_prev).sort_values(by='ref', ascending=False).to_csv(file_path)\n",
    "\n",
    "\n"
   ]
  },
  {
   "cell_type": "code",
   "execution_count": 94,
   "metadata": {},
   "outputs": [
    {
     "data": {
      "text/html": [
       "<div>\n",
       "<style scoped>\n",
       "    .dataframe tbody tr th:only-of-type {\n",
       "        vertical-align: middle;\n",
       "    }\n",
       "\n",
       "    .dataframe tbody tr th {\n",
       "        vertical-align: top;\n",
       "    }\n",
       "\n",
       "    .dataframe thead th {\n",
       "        text-align: right;\n",
       "    }\n",
       "</style>\n",
       "<table border=\"1\" class=\"dataframe\">\n",
       "  <thead>\n",
       "    <tr style=\"text-align: right;\">\n",
       "      <th></th>\n",
       "      <th>title</th>\n",
       "      <th>date</th>\n",
       "      <th>closed</th>\n",
       "    </tr>\n",
       "    <tr>\n",
       "      <th>ref</th>\n",
       "      <th></th>\n",
       "      <th></th>\n",
       "      <th></th>\n",
       "    </tr>\n",
       "  </thead>\n",
       "  <tbody>\n",
       "    <tr>\n",
       "      <th>tw-182</th>\n",
       "      <td>Human Resources Coordinator</td>\n",
       "      <td>Wednesday, October 26, 2022</td>\n",
       "      <td>2022-11-04</td>\n",
       "    </tr>\n",
       "    <tr>\n",
       "      <th>tw-181</th>\n",
       "      <td>Iowa Activation Manager</td>\n",
       "      <td>Monday, October 24, 2022</td>\n",
       "      <td></td>\n",
       "    </tr>\n",
       "    <tr>\n",
       "      <th>tw-180</th>\n",
       "      <td>Lynx Group Events Coordinator</td>\n",
       "      <td>Friday, October 14, 2022</td>\n",
       "      <td></td>\n",
       "    </tr>\n",
       "    <tr>\n",
       "      <th>tw-178</th>\n",
       "      <td>Executive Producer of Digital Video Production</td>\n",
       "      <td>Tuesday, October 11, 2022</td>\n",
       "      <td></td>\n",
       "    </tr>\n",
       "    <tr>\n",
       "      <th>tw-177</th>\n",
       "      <td>Partnership Sales Director</td>\n",
       "      <td>Tuesday, October 11, 2022</td>\n",
       "      <td></td>\n",
       "    </tr>\n",
       "    <tr>\n",
       "      <th>tw-172</th>\n",
       "      <td>Account Executive, Lynx Sales and Service</td>\n",
       "      <td>Monday, September 12, 2022</td>\n",
       "      <td></td>\n",
       "    </tr>\n",
       "    <tr>\n",
       "      <th>tw-157</th>\n",
       "      <td>Network Engineer</td>\n",
       "      <td>Thursday, October 6, 2022</td>\n",
       "      <td></td>\n",
       "    </tr>\n",
       "  </tbody>\n",
       "</table>\n",
       "</div>"
      ],
      "text/plain": [
       "                                                 title  \\\n",
       "ref                                                      \n",
       "tw-182                     Human Resources Coordinator   \n",
       "tw-181                         Iowa Activation Manager   \n",
       "tw-180                   Lynx Group Events Coordinator   \n",
       "tw-178  Executive Producer of Digital Video Production   \n",
       "tw-177                      Partnership Sales Director   \n",
       "tw-172       Account Executive, Lynx Sales and Service   \n",
       "tw-157                                Network Engineer   \n",
       "\n",
       "                               date      closed  \n",
       "ref                                              \n",
       "tw-182  Wednesday, October 26, 2022  2022-11-04  \n",
       "tw-181     Monday, October 24, 2022              \n",
       "tw-180     Friday, October 14, 2022              \n",
       "tw-178    Tuesday, October 11, 2022              \n",
       "tw-177    Tuesday, October 11, 2022              \n",
       "tw-172   Monday, September 12, 2022              \n",
       "tw-157    Thursday, October 6, 2022              "
      ]
     },
     "execution_count": 94,
     "metadata": {},
     "output_type": "execute_result"
    }
   ],
   "source": [
    "pd.read_csv(file_path, index_col='ref').drop(columns=['link']).fillna('')"
   ]
  },
  {
   "cell_type": "code",
   "execution_count": null,
   "metadata": {},
   "outputs": [],
   "source": []
  }
 ],
 "metadata": {
  "kernelspec": {
   "display_name": "Python 3.9.13 ('monte': venv)",
   "language": "python",
   "name": "python3"
  },
  "language_info": {
   "codemirror_mode": {
    "name": "ipython",
    "version": 3
   },
   "file_extension": ".py",
   "mimetype": "text/x-python",
   "name": "python",
   "nbconvert_exporter": "python",
   "pygments_lexer": "ipython3",
   "version": "3.9.13"
  },
  "orig_nbformat": 4,
  "vscode": {
   "interpreter": {
    "hash": "2304a4306d72a9fc8f52cfa19ebef60f8a2cea47ec9230cdf955b20fb7741e1a"
   }
  }
 },
 "nbformat": 4,
 "nbformat_minor": 2
}
