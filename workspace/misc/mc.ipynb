{
 "cells": [
  {
   "cell_type": "code",
   "execution_count": 1,
   "metadata": {},
   "outputs": [],
   "source": [
    "import random\n",
    "\n",
    "import numpy as np\n",
    "import matplotlib.pyplot as plt"
   ]
  },
  {
   "cell_type": "code",
   "execution_count": null,
   "metadata": {},
   "outputs": [],
   "source": []
  },
  {
   "cell_type": "markdown",
   "metadata": {},
   "source": [
    "##### Goal: \"A Monte Carlo simulation is a model used to predict the probability of a variety of outcomes when the potential for random variables is present.\""
   ]
  },
  {
   "cell_type": "code",
   "execution_count": null,
   "metadata": {},
   "outputs": [],
   "source": []
  },
  {
   "cell_type": "markdown",
   "metadata": {},
   "source": [
    "### Simple Coin Toss where we get 5 heads"
   ]
  },
  {
   "cell_type": "code",
   "execution_count": 2,
   "metadata": {},
   "outputs": [
    {
     "name": "stdout",
     "output_type": "stream",
     "text": [
      "0.03185\n"
     ]
    }
   ],
   "source": [
    "def trial(n=5):\n",
    "    ## heads = 0, tails == 1\n",
    "    return [\n",
    "        random.randint(0, 1) for _ in range(n)\n",
    "    ]\n",
    "\n",
    "def is_yes(observations):\n",
    "    return sum(observations) == len(observations)\n",
    "\n",
    "n = 5\n",
    "results = 0\n",
    "iterations = 100000\n",
    "\n",
    "for _ in range(iterations):\n",
    "    observations = trial(n)\n",
    "    results += is_yes(observations)\n",
    "\n",
    "## true: 3.25 %\n",
    "print(\n",
    "    results / iterations\n",
    ")"
   ]
  },
  {
   "cell_type": "code",
   "execution_count": null,
   "metadata": {},
   "outputs": [],
   "source": []
  },
  {
   "cell_type": "markdown",
   "metadata": {},
   "source": [
    "### Rolling a pair of dice"
   ]
  },
  {
   "cell_type": "code",
   "execution_count": 3,
   "metadata": {},
   "outputs": [
    {
     "data": {
      "image/png": "[encoded data removed]",
      "text/plain": [
       "<Figure size 432x288 with 1 Axes>"
      ]
     },
     "metadata": {
      "needs_background": "light"
     },
     "output_type": "display_data"
    }
   ],
   "source": [
    "def roll_dice(sides=6):\n",
    "    return (\n",
    "        random.randint(1, sides+1),\n",
    "        random.randint(1, sides+1),\n",
    "    )\n",
    "\n",
    "results = []\n",
    "iterations = 10000\n",
    "\n",
    "for _ in range(iterations):\n",
    "    die1, die2 = roll_dice(n)\n",
    "    results.append(die1 + die2)\n",
    "\n",
    "\n",
    "plt.hist(results, bins=11)\n",
    "plt.show()"
   ]
  },
  {
   "cell_type": "code",
   "execution_count": null,
   "metadata": {},
   "outputs": [],
   "source": []
  }
 ],
 "metadata": {
  "kernelspec": {
   "display_name": "Python 3.9.13 ('monte': venv)",
   "language": "python",
   "name": "python3"
  },
  "language_info": {
   "codemirror_mode": {
    "name": "ipython",
    "version": 3
   },
   "file_extension": ".py",
   "mimetype": "text/x-python",
   "name": "python",
   "nbconvert_exporter": "python",
   "pygments_lexer": "ipython3",
   "version": "3.9.13"
  },
  "orig_nbformat": 4,
  "vscode": {
   "interpreter": {
    "hash": "2304a4306d72a9fc8f52cfa19ebef60f8a2cea47ec9230cdf955b20fb7741e1a"
   }
  }
 },
 "nbformat": 4,
 "nbformat_minor": 2
}
