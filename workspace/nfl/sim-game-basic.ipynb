{
 "cells": [
  {
   "cell_type": "markdown",
   "metadata": {},
   "source": [
    "<h3>NFL Game Simulation - Basic Example</h3>\n",
    "\n",
    "<p>\n",
    "  <b>Description</b>: Estimate Win Probabilities based on Points For and Points Against from the Regular Season.\n",
    "</p>\n",
    "\n",
    "<p>\n",
    "  <b>Question(s)</b>: Which team has the better chance of winning the game?\n",
    "</p>\n",
    "\n",
    "<br />\n",
    "<br />\n",
    "<br />"
   ]
  },
  {
   "cell_type": "code",
   "execution_count": 1,
   "metadata": {},
   "outputs": [],
   "source": [
    "import random\n",
    "\n",
    "import numpy as np\n",
    "import pandas as pd\n",
    "from scipy.stats import norm"
   ]
  },
  {
   "cell_type": "code",
   "execution_count": 2,
   "metadata": {},
   "outputs": [],
   "source": [
    "year = 2020\n",
    "playoff_schedule = [\n",
    "  ## round 1\n",
    "  ('Tampa Bay Buccaneers', 'Washington Football Team'),\n",
    "  ('New Orleans Saints', 'Chicago Bears'),\n",
    "  ('Seattle Seahawks', 'Los Angeles Rams'),\n",
    "\n",
    "  ## round 2\n",
    "  ('New Orleans Saints', 'Tampa Bay Buccaneers'),\n",
    "  ('Green Bay Packers', 'Los Angeles Rams'),\n",
    "\n",
    "  ## round 3\n",
    "  ('Green Bay Packers', 'Tampa Bay Buccaneers'),\n",
    "]"
   ]
  },
  {
   "cell_type": "code",
   "execution_count": 3,
   "metadata": {},
   "outputs": [
    {
     "data": {
      "text/html": [
       "<div>\n",
       "<style scoped>\n",
       "    .dataframe tbody tr th:only-of-type {\n",
       "        vertical-align: middle;\n",
       "    }\n",
       "\n",
       "    .dataframe tbody tr th {\n",
       "        vertical-align: top;\n",
       "    }\n",
       "\n",
       "    .dataframe thead th {\n",
       "        text-align: right;\n",
       "    }\n",
       "</style>\n",
       "<table border=\"1\" class=\"dataframe\">\n",
       "  <thead>\n",
       "    <tr style=\"text-align: right;\">\n",
       "      <th></th>\n",
       "      <th>pf</th>\n",
       "      <th>pa</th>\n",
       "    </tr>\n",
       "    <tr>\n",
       "      <th>team</th>\n",
       "      <th></th>\n",
       "      <th></th>\n",
       "    </tr>\n",
       "  </thead>\n",
       "  <tbody>\n",
       "    <tr>\n",
       "      <th>Chicago Bears</th>\n",
       "      <td>23.2500</td>\n",
       "      <td>23.1250</td>\n",
       "    </tr>\n",
       "    <tr>\n",
       "      <th>Green Bay Packers</th>\n",
       "      <td>31.8125</td>\n",
       "      <td>23.0625</td>\n",
       "    </tr>\n",
       "    <tr>\n",
       "      <th>Los Angeles Rams</th>\n",
       "      <td>23.2500</td>\n",
       "      <td>18.5000</td>\n",
       "    </tr>\n",
       "    <tr>\n",
       "      <th>New Orleans Saints</th>\n",
       "      <td>30.1250</td>\n",
       "      <td>21.0625</td>\n",
       "    </tr>\n",
       "    <tr>\n",
       "      <th>Seattle Seahawks</th>\n",
       "      <td>28.6875</td>\n",
       "      <td>23.1875</td>\n",
       "    </tr>\n",
       "    <tr>\n",
       "      <th>Tampa Bay Buccaneers</th>\n",
       "      <td>30.7500</td>\n",
       "      <td>22.1875</td>\n",
       "    </tr>\n",
       "    <tr>\n",
       "      <th>Washington Football Team</th>\n",
       "      <td>20.9375</td>\n",
       "      <td>20.5625</td>\n",
       "    </tr>\n",
       "  </tbody>\n",
       "</table>\n",
       "</div>"
      ],
      "text/plain": [
       "                               pf       pa\n",
       "team                                      \n",
       "Chicago Bears             23.2500  23.1250\n",
       "Green Bay Packers         31.8125  23.0625\n",
       "Los Angeles Rams          23.2500  18.5000\n",
       "New Orleans Saints        30.1250  21.0625\n",
       "Seattle Seahawks          28.6875  23.1875\n",
       "Tampa Bay Buccaneers      30.7500  22.1875\n",
       "Washington Football Team  20.9375  20.5625"
      ]
     },
     "execution_count": 3,
     "metadata": {},
     "output_type": "execute_result"
    }
   ],
   "source": [
    "games = pd.read_csv(f'../../data/nfl/pfr-{year}-games.csv', index_col=0)\n",
    "\n",
    "weeks = [str(i+1) for i in range(19)]\n",
    "regular_season = games[games.week.isin(weeks)].copy()\n",
    "ratings = regular_season.groupby('team').mean()[['pf', 'pa']]\n",
    "\n",
    "uniq_teams = np.unique(np.array(playoff_schedule).flatten())\n",
    "ratings.loc[uniq_teams]"
   ]
  },
  {
   "cell_type": "code",
   "execution_count": 4,
   "metadata": {},
   "outputs": [
    {
     "name": "stdout",
     "output_type": "stream",
     "text": [
      "----------------------------------------------------------------------------------------------------\n",
      "Tampa Bay Buccaneers: 68.62\n",
      "Washington Football Team: 31.38\n",
      "----------------------------------------------------------------------------------------------------\n",
      "New Orleans Saints: 72.16\n",
      "Chicago Bears: 27.84\n",
      "----------------------------------------------------------------------------------------------------\n",
      "Seattle Seahawks: 49.36\n",
      "Los Angeles Rams: 50.64\n",
      "----------------------------------------------------------------------------------------------------\n",
      "New Orleans Saints: 52.86\n",
      "Tampa Bay Buccaneers: 47.14\n",
      "----------------------------------------------------------------------------------------------------\n",
      "Green Bay Packers: 55.68\n",
      "Los Angeles Rams: 44.32\n",
      "----------------------------------------------------------------------------------------------------\n",
      "Green Bay Packers: 50.16\n",
      "Tampa Bay Buccaneers: 49.84\n",
      "----------------------------------------------------------------------------------------------------\n"
     ]
    }
   ],
   "source": [
    "avg_points = regular_season['pf'].mean()\n",
    "score_std = regular_season['pf'].std()\n",
    "\n",
    "def play_game(t1, t2):\n",
    "\n",
    "  t1_pf, t1_pa = ratings.loc[t1][['pf', 'pa']]\n",
    "  t2_pf, t2_pa = ratings.loc[t2][['pf', 'pa']]\n",
    "\n",
    "  team1_mu = (t1_pf * t2_pa) / avg_points\n",
    "  team2_mu = (t2_pf * t1_pa) / avg_points\n",
    "\n",
    "  return (\n",
    "    round(norm.ppf(random.random(), team1_mu, score_std), 2),\n",
    "    round(norm.ppf(random.random(), team2_mu, score_std), 2),\n",
    "  )\n",
    "\n",
    "simulations = 10000\n",
    "\n",
    "print('-' * 100)\n",
    "\n",
    "for team1, team2 in playoff_schedule:\n",
    "\n",
    "  scores = [\n",
    "    play_game(team1, team2)\n",
    "    for _ in range(simulations)\n",
    "  ]\n",
    "\n",
    "  t1_wins = sum(\n",
    "    list(map(lambda sc: sc[0] > sc[1], scores))\n",
    "  )\n",
    "\n",
    "  t1_win_percentage = t1_wins / simulations\n",
    "  t2_win_percentage = 1 - t1_win_percentage\n",
    "\n",
    "  print(f'{team1}: {round(t1_win_percentage * 100, 2)}')\n",
    "  print(f'{team2}: {round(t2_win_percentage * 100, 2)}')\n",
    "  print('-' * 100)"
   ]
  },
  {
   "cell_type": "code",
   "execution_count": null,
   "metadata": {},
   "outputs": [],
   "source": []
  }
 ],
 "metadata": {
  "interpreter": {
   "hash": "2304a4306d72a9fc8f52cfa19ebef60f8a2cea47ec9230cdf955b20fb7741e1a"
  },
  "kernelspec": {
   "display_name": "Python 3.9.1 ('monte': venv)",
   "language": "python",
   "name": "python3"
  },
  "language_info": {
   "codemirror_mode": {
    "name": "ipython",
    "version": 3
   },
   "file_extension": ".py",
   "mimetype": "text/x-python",
   "name": "python",
   "nbconvert_exporter": "python",
   "pygments_lexer": "ipython3",
   "version": "3.9.1"
  },
  "orig_nbformat": 4
 },
 "nbformat": 4,
 "nbformat_minor": 2
}
