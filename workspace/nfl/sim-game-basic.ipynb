{
 "cells": [
  {
   "attachments": {},
   "cell_type": "markdown",
   "metadata": {},
   "source": [
    "<h3>NFL Game Simulation - Basic Example</h3>\n",
    "\n",
    "<p>\n",
    "  <b>Description</b>: Estimate Win Probabilities based on Points For and Points Against from the Regular Season.\n",
    "</p>\n",
    "\n",
    "<p>\n",
    "  <b>Question(s)</b>: Which team has the better chance of winning the game?\n",
    "</p>\n",
    "\n",
    "<br />\n",
    "<br />\n",
    "<br />"
   ]
  },
  {
   "cell_type": "code",
   "execution_count": 41,
   "metadata": {},
   "outputs": [],
   "source": [
    "import random\n",
    "\n",
    "import numpy as np\n",
    "import pandas as pd\n",
    "from scipy.stats import norm"
   ]
  },
  {
   "cell_type": "code",
   "execution_count": null,
   "metadata": {},
   "outputs": [],
   "source": []
  },
  {
   "cell_type": "code",
   "execution_count": 49,
   "metadata": {},
   "outputs": [],
   "source": [
    "year = 2022\n",
    "\n",
    "## tuples\n",
    "playoff_schedule = [\n",
    "    ('Kansas City Chiefs', 'Cincinnati Bengals')\n",
    "]"
   ]
  },
  {
   "cell_type": "code",
   "execution_count": null,
   "metadata": {},
   "outputs": [],
   "source": []
  },
  {
   "cell_type": "code",
   "execution_count": 58,
   "metadata": {},
   "outputs": [
    {
     "data": {
      "text/html": [
       "<div>\n",
       "<style scoped>\n",
       "    .dataframe tbody tr th:only-of-type {\n",
       "        vertical-align: middle;\n",
       "    }\n",
       "\n",
       "    .dataframe tbody tr th {\n",
       "        vertical-align: top;\n",
       "    }\n",
       "\n",
       "    .dataframe thead th {\n",
       "        text-align: right;\n",
       "    }\n",
       "</style>\n",
       "<table border=\"1\" class=\"dataframe\">\n",
       "  <thead>\n",
       "    <tr style=\"text-align: right;\">\n",
       "      <th></th>\n",
       "      <th>week</th>\n",
       "      <th>team</th>\n",
       "      <th>pf</th>\n",
       "      <th>pa</th>\n",
       "    </tr>\n",
       "  </thead>\n",
       "  <tbody>\n",
       "    <tr>\n",
       "      <th>0</th>\n",
       "      <td>1</td>\n",
       "      <td>Buffalo Bills</td>\n",
       "      <td>31</td>\n",
       "      <td>10</td>\n",
       "    </tr>\n",
       "    <tr>\n",
       "      <th>13</th>\n",
       "      <td>1</td>\n",
       "      <td>Las Vegas Raiders</td>\n",
       "      <td>19</td>\n",
       "      <td>24</td>\n",
       "    </tr>\n",
       "    <tr>\n",
       "      <th>12</th>\n",
       "      <td>1</td>\n",
       "      <td>Tennessee Titans</td>\n",
       "      <td>20</td>\n",
       "      <td>21</td>\n",
       "    </tr>\n",
       "    <tr>\n",
       "      <th>11</th>\n",
       "      <td>1</td>\n",
       "      <td>Green Bay Packers</td>\n",
       "      <td>7</td>\n",
       "      <td>23</td>\n",
       "    </tr>\n",
       "    <tr>\n",
       "      <th>10</th>\n",
       "      <td>1</td>\n",
       "      <td>Arizona Cardinals</td>\n",
       "      <td>21</td>\n",
       "      <td>44</td>\n",
       "    </tr>\n",
       "  </tbody>\n",
       "</table>\n",
       "</div>"
      ],
      "text/plain": [
       "    week               team  pf  pa\n",
       "0      1      Buffalo Bills  31  10\n",
       "13     1  Las Vegas Raiders  19  24\n",
       "12     1   Tennessee Titans  20  21\n",
       "11     1  Green Bay Packers   7  23\n",
       "10     1  Arizona Cardinals  21  44"
      ]
     },
     "execution_count": 58,
     "metadata": {},
     "output_type": "execute_result"
    }
   ],
   "source": [
    "df = pd.read_csv(f'../../data/nfl/pfr-{year}-games.csv')\n",
    "\n",
    "\n",
    "regular_season = pd.concat(\n",
    "    [\n",
    "        df[['Week', 'Winner/tie', 'Pts', 'Pts.1']].rename(columns={\n",
    "            'Week': 'week',\n",
    "            'Winner/tie': 'team',\n",
    "            'Pts': 'pf',\n",
    "            'Pts.1': 'pa',\n",
    "        }),\n",
    "        df[['Week', 'Loser/tie', 'Pts', 'Pts.1']].rename(columns={\n",
    "            'Week': 'week',\n",
    "            'Loser/tie': 'team',\n",
    "            'Pts.1': 'pf',\n",
    "            'Pts': 'pa',\n",
    "        }),\n",
    "    ]\n",
    ").sort_values(['week'])\n",
    "\n",
    "regular_season.head()"
   ]
  },
  {
   "cell_type": "code",
   "execution_count": 51,
   "metadata": {},
   "outputs": [
    {
     "data": {
      "text/html": [
       "<div>\n",
       "<style scoped>\n",
       "    .dataframe tbody tr th:only-of-type {\n",
       "        vertical-align: middle;\n",
       "    }\n",
       "\n",
       "    .dataframe tbody tr th {\n",
       "        vertical-align: top;\n",
       "    }\n",
       "\n",
       "    .dataframe thead th {\n",
       "        text-align: right;\n",
       "    }\n",
       "</style>\n",
       "<table border=\"1\" class=\"dataframe\">\n",
       "  <thead>\n",
       "    <tr style=\"text-align: right;\">\n",
       "      <th></th>\n",
       "      <th>week</th>\n",
       "      <th>pf</th>\n",
       "      <th>pa</th>\n",
       "    </tr>\n",
       "  </thead>\n",
       "  <tbody>\n",
       "    <tr>\n",
       "      <th>count</th>\n",
       "      <td>542.000000</td>\n",
       "      <td>542.000000</td>\n",
       "      <td>542.000000</td>\n",
       "    </tr>\n",
       "    <tr>\n",
       "      <th>mean</th>\n",
       "      <td>9.450185</td>\n",
       "      <td>21.881919</td>\n",
       "      <td>21.881919</td>\n",
       "    </tr>\n",
       "    <tr>\n",
       "      <th>std</th>\n",
       "      <td>5.292578</td>\n",
       "      <td>9.307883</td>\n",
       "      <td>9.307883</td>\n",
       "    </tr>\n",
       "    <tr>\n",
       "      <th>min</th>\n",
       "      <td>1.000000</td>\n",
       "      <td>0.000000</td>\n",
       "      <td>0.000000</td>\n",
       "    </tr>\n",
       "    <tr>\n",
       "      <th>25%</th>\n",
       "      <td>5.000000</td>\n",
       "      <td>16.000000</td>\n",
       "      <td>16.000000</td>\n",
       "    </tr>\n",
       "    <tr>\n",
       "      <th>50%</th>\n",
       "      <td>9.000000</td>\n",
       "      <td>21.000000</td>\n",
       "      <td>21.000000</td>\n",
       "    </tr>\n",
       "    <tr>\n",
       "      <th>75%</th>\n",
       "      <td>14.000000</td>\n",
       "      <td>27.000000</td>\n",
       "      <td>27.000000</td>\n",
       "    </tr>\n",
       "    <tr>\n",
       "      <th>max</th>\n",
       "      <td>18.000000</td>\n",
       "      <td>54.000000</td>\n",
       "      <td>54.000000</td>\n",
       "    </tr>\n",
       "  </tbody>\n",
       "</table>\n",
       "</div>"
      ],
      "text/plain": [
       "             week          pf          pa\n",
       "count  542.000000  542.000000  542.000000\n",
       "mean     9.450185   21.881919   21.881919\n",
       "std      5.292578    9.307883    9.307883\n",
       "min      1.000000    0.000000    0.000000\n",
       "25%      5.000000   16.000000   16.000000\n",
       "50%      9.000000   21.000000   21.000000\n",
       "75%     14.000000   27.000000   27.000000\n",
       "max     18.000000   54.000000   54.000000"
      ]
     },
     "execution_count": 51,
     "metadata": {},
     "output_type": "execute_result"
    }
   ],
   "source": [
    "regular_season.describe()"
   ]
  },
  {
   "cell_type": "code",
   "execution_count": 52,
   "metadata": {},
   "outputs": [
    {
     "data": {
      "text/plain": [
       "pf    26.125\n",
       "pa    20.125\n",
       "Name: Cincinnati Bengals, dtype: float64"
      ]
     },
     "execution_count": 52,
     "metadata": {},
     "output_type": "execute_result"
    }
   ],
   "source": [
    "ratings = regular_season.groupby('team').mean()[['pf', 'pa']]\n",
    "ratings.loc['Cincinnati Bengals']"
   ]
  },
  {
   "cell_type": "code",
   "execution_count": 53,
   "metadata": {},
   "outputs": [
    {
     "name": "stdout",
     "output_type": "stream",
     "text": [
      "21.881918819188193 9.307882574027339\n"
     ]
    }
   ],
   "source": [
    "avg_points = regular_season['pf'].mean()\n",
    "score_std = regular_season['pf'].std()\n",
    "\n",
    "print(avg_points, score_std)"
   ]
  },
  {
   "cell_type": "code",
   "execution_count": 54,
   "metadata": {},
   "outputs": [
    {
     "data": {
      "image/png": "[encoded data removed]",
      "text/plain": [
       "<Figure size 2000x1000 with 2 Axes>"
      ]
     },
     "metadata": {},
     "output_type": "display_data"
    }
   ],
   "source": [
    "import matplotlib.pyplot as plt\n",
    "\n",
    "def plot_game_cdfs(t1, t2):\n",
    "\n",
    "  t1_pf, t1_pa = ratings.loc[t1][['pf', 'pa']]\n",
    "  t2_pf, t2_pa = ratings.loc[t2][['pf', 'pa']]\n",
    "\n",
    "  _, ax = plt.subplots(1, 2, figsize=(20, 10))\n",
    "\n",
    "  x = np.linspace(-20, 60, 10000)\n",
    "  team1_mu = (t1_pf * t2_pa) / avg_points\n",
    "  vals_1 = norm.cdf(x, team1_mu, score_std)\n",
    "\n",
    "  ax[0].set_title(t1)\n",
    "  ax[0].plot(x, vals_1, alpha=.8)\n",
    "  ax[0].plot(team1_mu, .5, color='red', label='μ', marker='o')\n",
    "  ax[0].vlines([team1_mu+.1], 0, .5, colors='red', alpha=.3, linestyles='dashed')\n",
    "  ax[0].legend()\n",
    "\n",
    "  team2_mu = (t2_pf * t1_pa) / avg_points\n",
    "  vals_2 = norm.cdf(x, team2_mu, score_std)\n",
    "\n",
    "  ax[1].set_title(t2)\n",
    "  ax[1].plot(x, vals_2, alpha=.8)\n",
    "  ax[1].plot(team2_mu, .5, color='red', label='μ', marker='o')\n",
    "  ax[1].vlines([team2_mu+.1], 0, .5, colors='red', alpha=.3, linestyles='dashed')\n",
    "  ax[1].legend()\n",
    "\n",
    "  plt.show()\n",
    "\n",
    "plot_game_cdfs(\n",
    "  'Kansas City Chiefs',\n",
    "  'Indianapolis Colts'\n",
    ")"
   ]
  },
  {
   "cell_type": "code",
   "execution_count": 55,
   "metadata": {},
   "outputs": [
    {
     "name": "stdout",
     "output_type": "stream",
     "text": [
      "----------------------------------------------------------------------------------------------------\n"
     ]
    },
    {
     "name": "stdout",
     "output_type": "stream",
     "text": [
      "Kansas City Chiefs: 53.79\n",
      "Cincinnati Bengals: 46.21\n",
      "----------------------------------------------------------------------------------------------------\n"
     ]
    }
   ],
   "source": [
    "avg_points = regular_season['pf'].mean()\n",
    "score_std = regular_season['pf'].std()\n",
    "\n",
    "def play_game(t1, t2):\n",
    "\n",
    "  t1_pf, t1_pa = ratings.loc[t1][['pf', 'pa']]\n",
    "  t2_pf, t2_pa = ratings.loc[t2][['pf', 'pa']]\n",
    "\n",
    "  team1_mu = (t1_pf * t2_pa) / avg_points\n",
    "  team2_mu = (t2_pf * t1_pa) / avg_points\n",
    "\n",
    "  return (\n",
    "    round(norm.ppf(random.random(), team1_mu, score_std), 2),\n",
    "    round(norm.ppf(random.random(), team2_mu, score_std), 2),\n",
    "  )\n",
    "\n",
    "simulations = 10000\n",
    "\n",
    "print('-' * 100)\n",
    "\n",
    "for team1, team2 in playoff_schedule:\n",
    "\n",
    "  scores = [\n",
    "    play_game(team1, team2)\n",
    "    for _ in range(simulations)\n",
    "  ]\n",
    "\n",
    "  t1_wins = sum(score[0] > score[1] for score in scores)\n",
    "\n",
    "  t1_win_percentage = t1_wins / simulations\n",
    "  t2_win_percentage = 1 - t1_win_percentage\n",
    "\n",
    "  print(f'{team1}: {round(t1_win_percentage * 100, 2)}')\n",
    "  print(f'{team2}: {round(t2_win_percentage * 100, 2)}')\n",
    "  print('-' * 100)"
   ]
  },
  {
   "cell_type": "code",
   "execution_count": null,
   "metadata": {},
   "outputs": [],
   "source": []
  }
 ],
 "metadata": {
  "interpreter": {
   "hash": "2304a4306d72a9fc8f52cfa19ebef60f8a2cea47ec9230cdf955b20fb7741e1a"
  },
  "kernelspec": {
   "display_name": "Python 3.9.1 ('monte': venv)",
   "language": "python",
   "name": "python3"
  },
  "language_info": {
   "codemirror_mode": {
    "name": "ipython",
    "version": 3
   },
   "file_extension": ".py",
   "mimetype": "text/x-python",
   "name": "python",
   "nbconvert_exporter": "python",
   "pygments_lexer": "ipython3",
   "version": "3.9.1"
  },
  "orig_nbformat": 4
 },
 "nbformat": 4,
 "nbformat_minor": 2
}
