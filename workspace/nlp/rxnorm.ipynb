{
 "cells": [
  {
   "cell_type": "code",
   "execution_count": 1,
   "metadata": {},
   "outputs": [],
   "source": [
    "import pandas as pd"
   ]
  },
  {
   "cell_type": "code",
   "execution_count": 2,
   "metadata": {},
   "outputs": [],
   "source": [
    "## url: https://bioportal.bioontology.org/ontologies/RXNORM"
   ]
  },
  {
   "cell_type": "code",
   "execution_count": 3,
   "metadata": {},
   "outputs": [],
   "source": [
    "import warnings\n",
    "\n",
    "warnings.filterwarnings(\"ignore\")"
   ]
  },
  {
   "cell_type": "code",
   "execution_count": 4,
   "metadata": {},
   "outputs": [
    {
     "data": {
      "text/html": [
       "<div>\n",
       "<style scoped>\n",
       "    .dataframe tbody tr th:only-of-type {\n",
       "        vertical-align: middle;\n",
       "    }\n",
       "\n",
       "    .dataframe tbody tr th {\n",
       "        vertical-align: top;\n",
       "    }\n",
       "\n",
       "    .dataframe thead th {\n",
       "        text-align: right;\n",
       "    }\n",
       "</style>\n",
       "<table border=\"1\" class=\"dataframe\">\n",
       "  <thead>\n",
       "    <tr style=\"text-align: right;\">\n",
       "      <th></th>\n",
       "      <th>Label</th>\n",
       "      <th>ID</th>\n",
       "    </tr>\n",
       "  </thead>\n",
       "  <tbody>\n",
       "    <tr>\n",
       "      <th>107249</th>\n",
       "      <td>roflumilast oral product</td>\n",
       "      <td>1156445</td>\n",
       "    </tr>\n",
       "    <tr>\n",
       "      <th>107250</th>\n",
       "      <td>wal-zan</td>\n",
       "      <td>643043</td>\n",
       "    </tr>\n",
       "    <tr>\n",
       "      <th>107251</th>\n",
       "      <td>carya laciniosa pollen extract injectable solu...</td>\n",
       "      <td>2203044</td>\n",
       "    </tr>\n",
       "    <tr>\n",
       "      <th>107252</th>\n",
       "      <td>thyroshield</td>\n",
       "      <td>723798</td>\n",
       "    </tr>\n",
       "    <tr>\n",
       "      <th>107253</th>\n",
       "      <td>velvet grass pollen extract injectable solution</td>\n",
       "      <td>852516</td>\n",
       "    </tr>\n",
       "  </tbody>\n",
       "</table>\n",
       "</div>"
      ],
      "text/plain": [
       "                                                    Label       ID\n",
       "107249                           roflumilast oral product  1156445\n",
       "107250                                            wal-zan   643043\n",
       "107251  carya laciniosa pollen extract injectable solu...  2203044\n",
       "107252                                        thyroshield   723798\n",
       "107253    velvet grass pollen extract injectable solution   852516"
      ]
     },
     "execution_count": 4,
     "metadata": {},
     "output_type": "execute_result"
    }
   ],
   "source": [
    "import re\n",
    "from typing import Optional\n",
    "\n",
    "def parse_rxnorm_identifier(cls_id: str) -> Optional[str]:\n",
    "    match = re.search(r'(?<=\\/)(\\w+)$', cls_id)\n",
    "    if match:\n",
    "        return match.group(0)\n",
    "    \n",
    "    return None\n",
    "\n",
    "df = pd.read_csv('./RXNORM.csv')\n",
    "df['Label'] = df['Preferred Label'].str.lower()\n",
    "df['ID'] = df['Class ID'].map(parse_rxnorm_identifier)\n",
    "\n",
    "df[['Label', 'ID']].tail(n=5)"
   ]
  },
  {
   "cell_type": "code",
   "execution_count": 5,
   "metadata": {},
   "outputs": [
    {
     "data": {
      "text/html": [
       "<div>\n",
       "<style scoped>\n",
       "    .dataframe tbody tr th:only-of-type {\n",
       "        vertical-align: middle;\n",
       "    }\n",
       "\n",
       "    .dataframe tbody tr th {\n",
       "        vertical-align: top;\n",
       "    }\n",
       "\n",
       "    .dataframe thead th {\n",
       "        text-align: right;\n",
       "    }\n",
       "</style>\n",
       "<table border=\"1\" class=\"dataframe\">\n",
       "  <thead>\n",
       "    <tr style=\"text-align: right;\">\n",
       "      <th></th>\n",
       "      <th>ID</th>\n",
       "      <th>Label</th>\n",
       "      <th>Class ID</th>\n",
       "    </tr>\n",
       "  </thead>\n",
       "  <tbody>\n",
       "    <tr>\n",
       "      <th>107249</th>\n",
       "      <td>1156445</td>\n",
       "      <td>roflumilast oral product</td>\n",
       "      <td>http://purl.bioontology.org/ontology/RXNORM/11...</td>\n",
       "    </tr>\n",
       "    <tr>\n",
       "      <th>107250</th>\n",
       "      <td>643043</td>\n",
       "      <td>wal-zan</td>\n",
       "      <td>http://purl.bioontology.org/ontology/RXNORM/64...</td>\n",
       "    </tr>\n",
       "    <tr>\n",
       "      <th>107251</th>\n",
       "      <td>2203044</td>\n",
       "      <td>carya laciniosa pollen extract injectable solu...</td>\n",
       "      <td>http://purl.bioontology.org/ontology/RXNORM/22...</td>\n",
       "    </tr>\n",
       "    <tr>\n",
       "      <th>107252</th>\n",
       "      <td>723798</td>\n",
       "      <td>thyroshield</td>\n",
       "      <td>http://purl.bioontology.org/ontology/RXNORM/72...</td>\n",
       "    </tr>\n",
       "    <tr>\n",
       "      <th>107253</th>\n",
       "      <td>852516</td>\n",
       "      <td>velvet grass pollen extract injectable solution</td>\n",
       "      <td>http://purl.bioontology.org/ontology/RXNORM/85...</td>\n",
       "    </tr>\n",
       "  </tbody>\n",
       "</table>\n",
       "</div>"
      ],
      "text/plain": [
       "             ID                                              Label   \n",
       "107249  1156445                           roflumilast oral product  \\\n",
       "107250   643043                                            wal-zan   \n",
       "107251  2203044  carya laciniosa pollen extract injectable solu...   \n",
       "107252   723798                                        thyroshield   \n",
       "107253   852516    velvet grass pollen extract injectable solution   \n",
       "\n",
       "                                                 Class ID  \n",
       "107249  http://purl.bioontology.org/ontology/RXNORM/11...  \n",
       "107250  http://purl.bioontology.org/ontology/RXNORM/64...  \n",
       "107251  http://purl.bioontology.org/ontology/RXNORM/22...  \n",
       "107252  http://purl.bioontology.org/ontology/RXNORM/72...  \n",
       "107253  http://purl.bioontology.org/ontology/RXNORM/85...  "
      ]
     },
     "execution_count": 5,
     "metadata": {},
     "output_type": "execute_result"
    }
   ],
   "source": [
    "df = df[['ID', 'Label', 'Class ID']]\n",
    "df.tail(n=5)"
   ]
  },
  {
   "cell_type": "code",
   "execution_count": 7,
   "metadata": {},
   "outputs": [],
   "source": [
    "X = df['Label'].unique().tolist()"
   ]
  },
  {
   "cell_type": "code",
   "execution_count": 8,
   "metadata": {},
   "outputs": [],
   "source": [
    "Medications = { i: row.to_dict() for i, row in df.iterrows() }"
   ]
  },
  {
   "cell_type": "code",
   "execution_count": 9,
   "metadata": {},
   "outputs": [
    {
     "data": {
      "text/plain": [
       "{'ID': '1792489',\n",
       " 'Label': 'methoxy polyethylene glycol-epoetin beta 0.4 mg/ml [mircera]',\n",
       " 'Class ID': 'http://purl.bioontology.org/ontology/RXNORM/1792489'}"
      ]
     },
     "execution_count": 9,
     "metadata": {},
     "output_type": "execute_result"
    }
   ],
   "source": [
    "Medications[600]"
   ]
  },
  {
   "cell_type": "code",
   "execution_count": 10,
   "metadata": {},
   "outputs": [],
   "source": [
    "from sklearn.feature_extraction.text import TfidfVectorizer"
   ]
  },
  {
   "cell_type": "code",
   "execution_count": 11,
   "metadata": {},
   "outputs": [],
   "source": [
    "tfidf_vectorizer = TfidfVectorizer(\n",
    "    analyzer='char_wb',\n",
    "    ngram_range=(1,5)\n",
    ")"
   ]
  },
  {
   "cell_type": "code",
   "execution_count": 12,
   "metadata": {},
   "outputs": [],
   "source": [
    "vectors = tfidf_vectorizer.fit_transform(X)"
   ]
  },
  {
   "cell_type": "code",
   "execution_count": 13,
   "metadata": {},
   "outputs": [
    {
     "data": {
      "text/plain": [
       "[({'ID': '202433',\n",
       "   'Label': 'tylenol',\n",
       "   'Class ID': 'http://purl.bioontology.org/ontology/RXNORM/202433'},\n",
       "  0.0),\n",
       " ({'ID': '1187315',\n",
       "   'Label': 'tylenol pill',\n",
       "   'Class ID': 'http://purl.bioontology.org/ontology/RXNORM/1187315'},\n",
       "  0.1033285962675553),\n",
       " ({'ID': '220581',\n",
       "   'Label': 'tylenol pm',\n",
       "   'Class ID': 'http://purl.bioontology.org/ontology/RXNORM/220581'},\n",
       "  0.13853376553646313),\n",
       " ({'ID': '1187311',\n",
       "   'Label': 'tylenol oral product',\n",
       "   'Class ID': 'http://purl.bioontology.org/ontology/RXNORM/1187311'},\n",
       "  0.1474276481504717),\n",
       " ({'ID': '1187314',\n",
       "   'Label': 'tylenol pm pill',\n",
       "   'Class ID': 'http://purl.bioontology.org/ontology/RXNORM/1187314'},\n",
       "  0.21023377341341676)]"
      ]
     },
     "execution_count": 13,
     "metadata": {},
     "output_type": "execute_result"
    }
   ],
   "source": [
    "import numpy as np\n",
    "from sklearn.metrics import pairwise\n",
    "from typing import List, Tuple\n",
    "\n",
    "\n",
    "def query_medications(query_term: str, n=1) -> List[Tuple[dict, float]]:\n",
    "    query_as_vector = tfidf_vectorizer.transform([query_term.strip().lower()])\n",
    "\n",
    "    cosine_similarities = pairwise.pairwise_distances(\n",
    "        vectors,\n",
    "        query_as_vector,\n",
    "        metric='cosine'\n",
    "    ).flatten()\n",
    "\n",
    "    return [\n",
    "        (\n",
    "            Medications[row_id],\n",
    "            cosine_similarities[row_id]\n",
    "        ) for row_id in np.argsort(cosine_similarities)[:n]\n",
    "    ]\n",
    "    \n",
    "query_medications('tylenol', n=5)"
   ]
  },
  {
   "cell_type": "code",
   "execution_count": 14,
   "metadata": {},
   "outputs": [
    {
     "ename": "KeyError",
     "evalue": "'RxNorm ID'",
     "output_type": "error",
     "traceback": [
      "\u001b[1;31m---------------------------------------------------------------------------\u001b[0m",
      "\u001b[1;31mKeyError\u001b[0m                                  Traceback (most recent call last)",
      "Cell \u001b[1;32mIn[14], line 5\u001b[0m\n\u001b[0;32m      2\u001b[0m     med, _ \u001b[39m=\u001b[39m query_medications(query_term, n\u001b[39m=\u001b[39m\u001b[39m1\u001b[39m)[\u001b[39m0\u001b[39m]\n\u001b[0;32m      3\u001b[0m     \u001b[39mreturn\u001b[39;00m med[\u001b[39m'\u001b[39m\u001b[39mRxNorm ID\u001b[39m\u001b[39m'\u001b[39m]\n\u001b[1;32m----> 5\u001b[0m link_medication(\u001b[39m'\u001b[39;49m\u001b[39mtylenol pm\u001b[39;49m\u001b[39m'\u001b[39;49m)\n",
      "Cell \u001b[1;32mIn[14], line 3\u001b[0m, in \u001b[0;36mlink_medication\u001b[1;34m(query_term)\u001b[0m\n\u001b[0;32m      1\u001b[0m \u001b[39mdef\u001b[39;00m \u001b[39mlink_medication\u001b[39m(query_term: \u001b[39mstr\u001b[39m) \u001b[39m-\u001b[39m\u001b[39m>\u001b[39m \u001b[39mstr\u001b[39m:\n\u001b[0;32m      2\u001b[0m     med, _ \u001b[39m=\u001b[39m query_medications(query_term, n\u001b[39m=\u001b[39m\u001b[39m1\u001b[39m)[\u001b[39m0\u001b[39m]\n\u001b[1;32m----> 3\u001b[0m     \u001b[39mreturn\u001b[39;00m med[\u001b[39m'\u001b[39;49m\u001b[39mRxNorm ID\u001b[39;49m\u001b[39m'\u001b[39;49m]\n",
      "\u001b[1;31mKeyError\u001b[0m: 'RxNorm ID'"
     ]
    }
   ],
   "source": [
    "def link_medication(query_term: str) -> str:\n",
    "    med, _ = query_medications(query_term, n=1)[0]\n",
    "    return med['ID']\n",
    "\n",
    "link_medication('tylenol pm')"
   ]
  },
  {
   "cell_type": "code",
   "execution_count": null,
   "metadata": {},
   "outputs": [],
   "source": []
  },
  {
   "cell_type": "code",
   "execution_count": null,
   "metadata": {},
   "outputs": [],
   "source": []
  },
  {
   "cell_type": "code",
   "execution_count": null,
   "metadata": {},
   "outputs": [],
   "source": []
  }
 ],
 "metadata": {
  "kernelspec": {
   "display_name": "env",
   "language": "python",
   "name": "python3"
  },
  "language_info": {
   "codemirror_mode": {
    "name": "ipython",
    "version": 3
   },
   "file_extension": ".py",
   "mimetype": "text/x-python",
   "name": "python",
   "nbconvert_exporter": "python",
   "pygments_lexer": "ipython3",
   "version": "3.9.1"
  },
  "orig_nbformat": 4
 },
 "nbformat": 4,
 "nbformat_minor": 2
}
