{
 "cells": [
  {
   "cell_type": "code",
   "execution_count": 36,
   "metadata": {},
   "outputs": [],
   "source": [
    "import re\n",
    "import time\n",
    "import requests\n",
    "from bs4 import BeautifulSoup"
   ]
  },
  {
   "cell_type": "code",
   "execution_count": 37,
   "metadata": {},
   "outputs": [],
   "source": [
    "class ScrapPlayer():\n",
    "    def get_url(self, player_id, category_type):\n",
    "        category = 'batting' if category_type == 'BATTER' else 'pitching'\n",
    "        return f'https://www.espn.com/mlb/player/gamelog/_/id/{player_id}/year/2022/category/{category}'\n",
    "\n",
    "    def transform(self, player, cols, category_type):\n",
    "        id = player['id']\n",
    "        name = player['name']\n",
    "        if category_type == 'BATTER':\n",
    "            return {\n",
    "                'ID': id,\n",
    "                'NAME': name,\n",
    "                'DATE': re.sub(r'.+?([\\d/]+)', '\\g<1>', cols[0].text),\n",
    "                'OPP': re.sub(r'(@|vs)(.+)', '\\g<1> \\g<2>', cols[1].text),\n",
    "                'RESULT': re.sub(r'(W|L)(.+)', '\\g<1> \\g<2>', cols[2].text),\n",
    "                'AB': cols[3].text,\n",
    "                'R': cols[4].text,\n",
    "                'H': cols[5].text,\n",
    "                '2B': cols[6].text,\n",
    "                '3B': cols[7].text,\n",
    "                'HR': cols[8].text,\n",
    "                'RBI': cols[9].text,\n",
    "                'BB': cols[10].text,\n",
    "                'HBP': cols[11].text,\n",
    "                'SO': cols[12].text,\n",
    "                'SB': cols[13].text,\n",
    "                'CS': cols[14].text,\n",
    "                'AVG': cols[15].text,\n",
    "                'OBP': cols[16].text,\n",
    "                'SLG': cols[17].text,\n",
    "                'OPS': cols[18].text,\n",
    "            }\n",
    "        \n",
    "        return {\n",
    "            'ID': id,\n",
    "            'NAME': name,\n",
    "            'DATE': re.sub(r'.+?([\\d/]+)', '\\g<1>', cols[0].text),\n",
    "            'OPP': re.sub(r'(@|vs)(.+)', '\\g<1> \\g<2>', cols[1].text),\n",
    "            'RESULT': re.sub(r'(W|L)(.+)', '\\g<1> \\g<2>', cols[2].text),\n",
    "            'IP': cols[3].text,\n",
    "            'H': cols[4].text,\n",
    "            'R': cols[5].text,\n",
    "            'ER': cols[6].text,\n",
    "            'HR': cols[7].text,\n",
    "            'BB': cols[8].text,\n",
    "            'K': cols[9].text,\n",
    "            'GB': cols[10].text,\n",
    "            'FB': cols[11].text,\n",
    "            'P': cols[12].text,\n",
    "            'TBF': cols[13].text,\n",
    "            'GSC': cols[14].text,\n",
    "            'DEC': cols[15].text,\n",
    "            'REL': cols[16].text,\n",
    "            'ERA': cols[17].text,\n",
    "        }\n",
    "\n",
    "    def run(self, players, sleep_time_in_seconds = 5):\n",
    "        pitchers, batters = [], []\n",
    "        for player in players:\n",
    "            id = player['id']\n",
    "            for is_a in player['is_a']:\n",
    "                url = self.get_url(id, is_a)\n",
    "                content = requests.get(url).content\n",
    "                bs = BeautifulSoup(content, features='html.parser')\n",
    "\n",
    "                section = bs.select('.gamelog')\n",
    "                if len(section) == 0:\n",
    "                    print(f'error: {url}')\n",
    "                    continue\n",
    "\n",
    "                section = section[0]\n",
    "                \n",
    "                try:\n",
    "                    rows = section.select('.mb5 .Table__TBODY tr')\n",
    "                    stats = [\n",
    "                        self.transform(player, row.find_all('td'), is_a)\n",
    "                        for row\n",
    "                        in rows\n",
    "                        if not 'totals_row' in row.get('class')\n",
    "                    ]\n",
    "\n",
    "                    (batters if is_a == 'BATTER' else pitchers).extend(stats)\n",
    "                except:\n",
    "                    print(f'error: {url}')\n",
    "\n",
    "                time.sleep(sleep_time_in_seconds)\n",
    "\n",
    "        return pitchers, batters"
   ]
  },
  {
   "cell_type": "code",
   "execution_count": 38,
   "metadata": {},
   "outputs": [],
   "source": [
    "import json\n",
    "\n",
    "rosters = {}\n",
    "with open('../../data/mlb/roster-853208662.json', 'r') as roster_json: \n",
    "  for team_roster in json.loads(roster_json.read()):\n",
    "    name = team_roster['name']\n",
    "    rosters[name] = team_roster\n",
    "\n",
    "all = []\n",
    "for player in rosters['Snoring Eeyores']['roster']:\n",
    "  all.append(player)"
   ]
  },
  {
   "cell_type": "code",
   "execution_count": 39,
   "metadata": {},
   "outputs": [
    {
     "data": {
      "text/plain": [
       "[{'id': 39878,\n",
       "  'name': 'Corbin Burnes',\n",
       "  'is_a': ['PITCHER'],\n",
       "  'is_on': 'Snoring Eeyores'}]"
      ]
     },
     "execution_count": 39,
     "metadata": {},
     "output_type": "execute_result"
    }
   ],
   "source": [
    "all[:1]"
   ]
  },
  {
   "cell_type": "code",
   "execution_count": 40,
   "metadata": {},
   "outputs": [
    {
     "name": "stdout",
     "output_type": "stream",
     "text": [
      "[<tr class=\"Table__TR Table__TR--sm Table__even\" data-idx=\"0\"><td class=\"Table__TD\">Sun 5/1</td><td class=\"Table__TD\"><span class=\"flex\"><span class=\"pr2\">vs</span><span class=\"pr2 TeamLink__Logo\"><a class=\"AnchorLink v-mid\" data-clubhouse-uid=\"s:1~l:10~t:16\" href=\"/mlb/team/_/name/chc/chicago-cubs\" tabindex=\"0\" title=\"Team - Chicago Cubs\"><img alt=\"CHC\" class=\"Image Logo v-mid Logo__sm\" data-mptype=\"image\" src=\"data:image/gif;base64,R0lGODlhAQABAIAAAAAAAP///yH5BAEAAAAALAAAAAABAAEAAAIBRAA7\" title=\"CHC\"/></a></span><span><a class=\"AnchorLink v-mid\" data-clubhouse-uid=\"s:1~l:10~t:16\" href=\"/mlb/team/_/name/chc/chicago-cubs\" tabindex=\"0\" title=\"Team - Chicago Cubs\">CHC</a></span></span></td><td class=\"Table__TD\"><a class=\"AnchorLink\" data-game-link=\"true\" href=\"http://www.espn.com/mlb/game/_/gameId/401354569\" tabindex=\"0\"><div class=\"inline flex tl\"><div class=\"inline pr2\"><div class=\"ResultCell tl loss-stat\">L</div></div><span>2-0</span></div></a></td><td class=\"Table__TD\">7.0</td><td class=\"Table__TD\">4</td><td class=\"Table__TD\">2</td><td class=\"Table__TD\">2</td><td class=\"Table__TD\">1</td><td class=\"Table__TD\">1</td><td class=\"Table__TD\">10</td><td class=\"Table__TD\">8</td><td class=\"Table__TD\">7</td><td class=\"Table__TD\">97</td><td class=\"Table__TD\">26</td><td class=\"Table__TD\">70.0</td><td class=\"Table__TD\">L(1-1)</td><td class=\"Table__TD\">-</td><td class=\"Table__TD\">1.93</td></tr>, <tr class=\"totals_row fw-bold ttu Table__TR Table__TR--sm Table__even\" data-idx=\"1\"><td class=\"Table__TD\" colspan=\"3\">may</td><td class=\"Table__TD\"><span>7.0</span></td><td class=\"Table__TD\"><span>4</span></td><td class=\"Table__TD\"><span>2</span></td><td class=\"Table__TD\"><span>2</span></td><td class=\"Table__TD\"><span>1</span></td><td class=\"Table__TD\"><span>1</span></td><td class=\"Table__TD\"><span>10</span></td><td class=\"Table__TD\"><span>8</span></td><td class=\"Table__TD\"><span>7</span></td><td class=\"Table__TD\"><span>97</span></td><td class=\"Table__TD\"><span>26</span></td><td class=\"Table__TD\"><span>70.0</span></td><td class=\"Table__TD\"><span>0-1</span></td><td class=\"Table__TD\"><span>0</span></td><td class=\"Table__TD\"><span>2.57</span></td></tr>, <tr class=\"Table__TR Table__TR--sm Table__even\" data-idx=\"0\"><td class=\"Table__TD\">Mon 4/25</td><td class=\"Table__TD\"><span class=\"flex\"><span class=\"pr2\">vs</span><span class=\"pr2 TeamLink__Logo\"><a class=\"AnchorLink v-mid\" data-clubhouse-uid=\"s:1~l:10~t:26\" href=\"/mlb/team/_/name/sf/san-francisco-giants\" tabindex=\"0\" title=\"Team - San Francisco Giants\"><img alt=\"SF\" class=\"Image Logo v-mid Logo__sm\" data-mptype=\"image\" src=\"data:image/gif;base64,R0lGODlhAQABAIAAAAAAAP///yH5BAEAAAAALAAAAAABAAEAAAIBRAA7\" title=\"SF\"/></a></span><span><a class=\"AnchorLink v-mid\" data-clubhouse-uid=\"s:1~l:10~t:26\" href=\"/mlb/team/_/name/sf/san-francisco-giants\" tabindex=\"0\" title=\"Team - San Francisco Giants\">SF</a></span></span></td><td class=\"Table__TD\"><a class=\"AnchorLink\" data-game-link=\"true\" href=\"http://www.espn.com/mlb/game/_/gameId/401423170\" tabindex=\"0\"><div class=\"inline flex tl\"><div class=\"inline pr2\"><div class=\"ResultCell tl loss-stat\">L</div></div><span>4-2</span></div></a></td><td class=\"Table__TD\">6.2</td><td class=\"Table__TD\">2</td><td class=\"Table__TD\">0</td><td class=\"Table__TD\">0</td><td class=\"Table__TD\">0</td><td class=\"Table__TD\">2</td><td class=\"Table__TD\">11</td><td class=\"Table__TD\">5</td><td class=\"Table__TD\">5</td><td class=\"Table__TD\">106</td><td class=\"Table__TD\">24</td><td class=\"Table__TD\">79.0</td><td class=\"Table__TD\">-</td><td class=\"Table__TD\">-</td><td class=\"Table__TD\">1.75</td></tr>, <tr class=\"filled Table__TR Table__TR--sm Table__even\" data-idx=\"1\"><td class=\"Table__TD\">Tue 4/19</td><td class=\"Table__TD\"><span class=\"flex\"><span class=\"pr2\">vs</span><span class=\"pr2 TeamLink__Logo\"><a class=\"AnchorLink v-mid\" data-clubhouse-uid=\"s:1~l:10~t:23\" href=\"/mlb/team/_/name/pit/pittsburgh-pirates\" tabindex=\"0\" title=\"Team - Pittsburgh Pirates\"><img alt=\"PIT\" class=\"Image Logo v-mid Logo__sm\" data-mptype=\"image\" src=\"data:image/gif;base64,R0lGODlhAQABAIAAAAAAAP///yH5BAEAAAAALAAAAAABAAEAAAIBRAA7\" title=\"PIT\"/></a></span><span><a class=\"AnchorLink v-mid\" data-clubhouse-uid=\"s:1~l:10~t:23\" href=\"/mlb/team/_/name/pit/pittsburgh-pirates\" tabindex=\"0\" title=\"Team - Pittsburgh Pirates\">PIT</a></span></span></td><td class=\"Table__TD\"><a class=\"AnchorLink\" data-game-link=\"true\" href=\"http://www.espn.com/mlb/game/_/gameId/401354410\" tabindex=\"0\"><div class=\"inline flex tl\"><div class=\"inline pr2\"><div class=\"ResultCell tl win-stat\">W</div></div><span>5-2</span></div></a></td><td class=\"Table__TD\">7.0</td><td class=\"Table__TD\">4</td><td class=\"Table__TD\">2</td><td class=\"Table__TD\">2</td><td class=\"Table__TD\">2</td><td class=\"Table__TD\">0</td><td class=\"Table__TD\">10</td><td class=\"Table__TD\">11</td><td class=\"Table__TD\">4</td><td class=\"Table__TD\">107</td><td class=\"Table__TD\">25</td><td class=\"Table__TD\">71.0</td><td class=\"Table__TD\">W(1-0)</td><td class=\"Table__TD\">-</td><td class=\"Table__TD\">2.37</td></tr>, <tr class=\"Table__TR Table__TR--sm Table__even\" data-idx=\"2\"><td class=\"Table__TD\">Wed 4/13</td><td class=\"Table__TD\"><span class=\"flex\"><span class=\"pr2\">@</span><span class=\"pr2 TeamLink__Logo\"><a class=\"AnchorLink v-mid\" data-clubhouse-uid=\"s:1~l:10~t:1\" href=\"/mlb/team/_/name/bal/baltimore-orioles\" tabindex=\"0\" title=\"Team - Baltimore Orioles\"><img alt=\"BAL\" class=\"Image Logo v-mid Logo__sm\" data-mptype=\"image\" src=\"data:image/gif;base64,R0lGODlhAQABAIAAAAAAAP///yH5BAEAAAAALAAAAAABAAEAAAIBRAA7\" title=\"BAL\"/></a></span><span><a class=\"AnchorLink v-mid\" data-clubhouse-uid=\"s:1~l:10~t:1\" href=\"/mlb/team/_/name/bal/baltimore-orioles\" tabindex=\"0\" title=\"Team - Baltimore Orioles\">BAL</a></span></span></td><td class=\"Table__TD\"><a class=\"AnchorLink\" data-game-link=\"true\" href=\"http://www.espn.com/mlb/game/_/gameId/401354327\" tabindex=\"0\"><div class=\"inline flex tl\"><div class=\"inline pr2\"><div class=\"ResultCell tl win-stat\">W</div></div><span>4-2</span></div></a></td><td class=\"Table__TD\">7.0</td><td class=\"Table__TD\">3</td><td class=\"Table__TD\">0</td><td class=\"Table__TD\">0</td><td class=\"Table__TD\">0</td><td class=\"Table__TD\">1</td><td class=\"Table__TD\">8</td><td class=\"Table__TD\">5</td><td class=\"Table__TD\">10</td><td class=\"Table__TD\">97</td><td class=\"Table__TD\">25</td><td class=\"Table__TD\">78.0</td><td class=\"Table__TD\">-</td><td class=\"Table__TD\">-</td><td class=\"Table__TD\">2.25</td></tr>, <tr class=\"filled Table__TR Table__TR--sm Table__even\" data-idx=\"3\"><td class=\"Table__TD\">Thu 4/7</td><td class=\"Table__TD\"><span class=\"flex\"><span class=\"pr2\">@</span><span class=\"pr2 TeamLink__Logo\"><a class=\"AnchorLink v-mid\" data-clubhouse-uid=\"s:1~l:10~t:16\" href=\"/mlb/team/_/name/chc/chicago-cubs\" tabindex=\"0\" title=\"Team - Chicago Cubs\"><img alt=\"CHC\" class=\"Image Logo v-mid Logo__sm\" data-mptype=\"image\" src=\"data:image/gif;base64,R0lGODlhAQABAIAAAAAAAP///yH5BAEAAAAALAAAAAABAAEAAAIBRAA7\" title=\"CHC\"/></a></span><span><a class=\"AnchorLink v-mid\" data-clubhouse-uid=\"s:1~l:10~t:16\" href=\"/mlb/team/_/name/chc/chicago-cubs\" tabindex=\"0\" title=\"Team - Chicago Cubs\">CHC</a></span></span></td><td class=\"Table__TD\"><a class=\"AnchorLink\" data-game-link=\"true\" href=\"http://www.espn.com/mlb/game/_/gameId/401421335\" tabindex=\"0\"><div class=\"inline flex tl\"><div class=\"inline pr2\"><div class=\"ResultCell tl loss-stat\">L</div></div><span>5-4</span></div></a></td><td class=\"Table__TD\">5.0</td><td class=\"Table__TD\">4</td><td class=\"Table__TD\">3</td><td class=\"Table__TD\">3</td><td class=\"Table__TD\">1</td><td class=\"Table__TD\">3</td><td class=\"Table__TD\">4</td><td class=\"Table__TD\">3</td><td class=\"Table__TD\">11</td><td class=\"Table__TD\">83</td><td class=\"Table__TD\">21</td><td class=\"Table__TD\">48.0</td><td class=\"Table__TD\">-</td><td class=\"Table__TD\">-</td><td class=\"Table__TD\">5.40</td></tr>, <tr class=\"totals_row fw-bold ttu Table__TR Table__TR--sm Table__even\" data-idx=\"4\"><td class=\"Table__TD\" colspan=\"3\">april</td><td class=\"Table__TD\"><span>25.2</span></td><td class=\"Table__TD\"><span>13</span></td><td class=\"Table__TD\"><span>5</span></td><td class=\"Table__TD\"><span>5</span></td><td class=\"Table__TD\"><span>3</span></td><td class=\"Table__TD\"><span>6</span></td><td class=\"Table__TD\"><span>33</span></td><td class=\"Table__TD\"><span>24</span></td><td class=\"Table__TD\"><span>30</span></td><td class=\"Table__TD\"><span>393</span></td><td class=\"Table__TD\"><span>95</span></td><td class=\"Table__TD\"><span>69.0</span></td><td class=\"Table__TD\"><span>1-0</span></td><td class=\"Table__TD\"><span>0</span></td><td class=\"Table__TD\"><span>1.75</span></td></tr>]\n"
     ]
    },
    {
     "data": {
      "text/plain": [
       "[{'ID': 39878,\n",
       "  'NAME': 'Corbin Burnes',\n",
       "  'DATE': '5/1',\n",
       "  'OPP': 'vs CHC',\n",
       "  'RESULT': 'L 2-0',\n",
       "  'IP': '7.0',\n",
       "  'H': '4',\n",
       "  'R': '2',\n",
       "  'ER': '2',\n",
       "  'HR': '1',\n",
       "  'BB': '1',\n",
       "  'K': '10',\n",
       "  'GB': '8',\n",
       "  'FB': '7',\n",
       "  'P': '97',\n",
       "  'TBF': '26',\n",
       "  'GSC': '70.0',\n",
       "  'DEC': 'L(1-1)',\n",
       "  'REL': '-',\n",
       "  'ERA': '1.93'},\n",
       " {'ID': 39878,\n",
       "  'NAME': 'Corbin Burnes',\n",
       "  'DATE': '4/25',\n",
       "  'OPP': 'vs SF',\n",
       "  'RESULT': 'L 4-2',\n",
       "  'IP': '6.2',\n",
       "  'H': '2',\n",
       "  'R': '0',\n",
       "  'ER': '0',\n",
       "  'HR': '0',\n",
       "  'BB': '2',\n",
       "  'K': '11',\n",
       "  'GB': '5',\n",
       "  'FB': '5',\n",
       "  'P': '106',\n",
       "  'TBF': '24',\n",
       "  'GSC': '79.0',\n",
       "  'DEC': '-',\n",
       "  'REL': '-',\n",
       "  'ERA': '1.75'},\n",
       " {'ID': 39878,\n",
       "  'NAME': 'Corbin Burnes',\n",
       "  'DATE': '4/19',\n",
       "  'OPP': 'vs PIT',\n",
       "  'RESULT': 'W 5-2',\n",
       "  'IP': '7.0',\n",
       "  'H': '4',\n",
       "  'R': '2',\n",
       "  'ER': '2',\n",
       "  'HR': '2',\n",
       "  'BB': '0',\n",
       "  'K': '10',\n",
       "  'GB': '11',\n",
       "  'FB': '4',\n",
       "  'P': '107',\n",
       "  'TBF': '25',\n",
       "  'GSC': '71.0',\n",
       "  'DEC': 'W(1-0)',\n",
       "  'REL': '-',\n",
       "  'ERA': '2.37'},\n",
       " {'ID': 39878,\n",
       "  'NAME': 'Corbin Burnes',\n",
       "  'DATE': '4/13',\n",
       "  'OPP': '@ BAL',\n",
       "  'RESULT': 'W 4-2',\n",
       "  'IP': '7.0',\n",
       "  'H': '3',\n",
       "  'R': '0',\n",
       "  'ER': '0',\n",
       "  'HR': '0',\n",
       "  'BB': '1',\n",
       "  'K': '8',\n",
       "  'GB': '5',\n",
       "  'FB': '10',\n",
       "  'P': '97',\n",
       "  'TBF': '25',\n",
       "  'GSC': '78.0',\n",
       "  'DEC': '-',\n",
       "  'REL': '-',\n",
       "  'ERA': '2.25'},\n",
       " {'ID': 39878,\n",
       "  'NAME': 'Corbin Burnes',\n",
       "  'DATE': '4/7',\n",
       "  'OPP': '@ CHC',\n",
       "  'RESULT': 'L 5-4',\n",
       "  'IP': '5.0',\n",
       "  'H': '4',\n",
       "  'R': '3',\n",
       "  'ER': '3',\n",
       "  'HR': '1',\n",
       "  'BB': '3',\n",
       "  'K': '4',\n",
       "  'GB': '3',\n",
       "  'FB': '11',\n",
       "  'P': '83',\n",
       "  'TBF': '21',\n",
       "  'GSC': '48.0',\n",
       "  'DEC': '-',\n",
       "  'REL': '-',\n",
       "  'ERA': '5.40'}]"
      ]
     },
     "execution_count": 40,
     "metadata": {},
     "output_type": "execute_result"
    }
   ],
   "source": [
    "pitchers, batters = ScrapPlayer().run(all[:1])\n",
    "pitchers"
   ]
  },
  {
   "cell_type": "code",
   "execution_count": 41,
   "metadata": {},
   "outputs": [],
   "source": [
    "content = requests.get('https://www.espn.com/mlb/player/gamelog/_/id/39878/year/2022/category/pitching').content\n",
    "bs = BeautifulSoup(content, features='html.parser')"
   ]
  },
  {
   "cell_type": "code",
   "execution_count": 42,
   "metadata": {},
   "outputs": [
    {
     "data": {
      "text/plain": [
       "[<tr class=\"Table__TR Table__TR--sm Table__even\" data-idx=\"0\"><td class=\"Table__TD\">Sun 5/1</td><td class=\"Table__TD\"><span class=\"flex\"><span class=\"pr2\">vs</span><span class=\"pr2 TeamLink__Logo\"><a class=\"AnchorLink v-mid\" data-clubhouse-uid=\"s:1~l:10~t:16\" href=\"/mlb/team/_/name/chc/chicago-cubs\" tabindex=\"0\" title=\"Team - Chicago Cubs\"><img alt=\"CHC\" class=\"Image Logo v-mid Logo__sm\" data-mptype=\"image\" src=\"data:image/gif;base64,R0lGODlhAQABAIAAAAAAAP///yH5BAEAAAAALAAAAAABAAEAAAIBRAA7\" title=\"CHC\"/></a></span><span><a class=\"AnchorLink v-mid\" data-clubhouse-uid=\"s:1~l:10~t:16\" href=\"/mlb/team/_/name/chc/chicago-cubs\" tabindex=\"0\" title=\"Team - Chicago Cubs\">CHC</a></span></span></td><td class=\"Table__TD\"><a class=\"AnchorLink\" data-game-link=\"true\" href=\"http://www.espn.com/mlb/game/_/gameId/401354569\" tabindex=\"0\"><div class=\"inline flex tl\"><div class=\"inline pr2\"><div class=\"ResultCell tl loss-stat\">L</div></div><span>2-0</span></div></a></td><td class=\"Table__TD\">7.0</td><td class=\"Table__TD\">4</td><td class=\"Table__TD\">2</td><td class=\"Table__TD\">2</td><td class=\"Table__TD\">1</td><td class=\"Table__TD\">1</td><td class=\"Table__TD\">10</td><td class=\"Table__TD\">8</td><td class=\"Table__TD\">7</td><td class=\"Table__TD\">97</td><td class=\"Table__TD\">26</td><td class=\"Table__TD\">70.0</td><td class=\"Table__TD\">L(1-1)</td><td class=\"Table__TD\">-</td><td class=\"Table__TD\">1.93</td></tr>,\n",
       " <tr class=\"totals_row fw-bold ttu Table__TR Table__TR--sm Table__even\" data-idx=\"1\"><td class=\"Table__TD\" colspan=\"3\">may</td><td class=\"Table__TD\"><span>7.0</span></td><td class=\"Table__TD\"><span>4</span></td><td class=\"Table__TD\"><span>2</span></td><td class=\"Table__TD\"><span>2</span></td><td class=\"Table__TD\"><span>1</span></td><td class=\"Table__TD\"><span>1</span></td><td class=\"Table__TD\"><span>10</span></td><td class=\"Table__TD\"><span>8</span></td><td class=\"Table__TD\"><span>7</span></td><td class=\"Table__TD\"><span>97</span></td><td class=\"Table__TD\"><span>26</span></td><td class=\"Table__TD\"><span>70.0</span></td><td class=\"Table__TD\"><span>0-1</span></td><td class=\"Table__TD\"><span>0</span></td><td class=\"Table__TD\"><span>2.57</span></td></tr>,\n",
       " <tr class=\"Table__TR Table__TR--sm Table__even\" data-idx=\"0\"><td class=\"Table__TD\">Mon 4/25</td><td class=\"Table__TD\"><span class=\"flex\"><span class=\"pr2\">vs</span><span class=\"pr2 TeamLink__Logo\"><a class=\"AnchorLink v-mid\" data-clubhouse-uid=\"s:1~l:10~t:26\" href=\"/mlb/team/_/name/sf/san-francisco-giants\" tabindex=\"0\" title=\"Team - San Francisco Giants\"><img alt=\"SF\" class=\"Image Logo v-mid Logo__sm\" data-mptype=\"image\" src=\"data:image/gif;base64,R0lGODlhAQABAIAAAAAAAP///yH5BAEAAAAALAAAAAABAAEAAAIBRAA7\" title=\"SF\"/></a></span><span><a class=\"AnchorLink v-mid\" data-clubhouse-uid=\"s:1~l:10~t:26\" href=\"/mlb/team/_/name/sf/san-francisco-giants\" tabindex=\"0\" title=\"Team - San Francisco Giants\">SF</a></span></span></td><td class=\"Table__TD\"><a class=\"AnchorLink\" data-game-link=\"true\" href=\"http://www.espn.com/mlb/game/_/gameId/401423170\" tabindex=\"0\"><div class=\"inline flex tl\"><div class=\"inline pr2\"><div class=\"ResultCell tl loss-stat\">L</div></div><span>4-2</span></div></a></td><td class=\"Table__TD\">6.2</td><td class=\"Table__TD\">2</td><td class=\"Table__TD\">0</td><td class=\"Table__TD\">0</td><td class=\"Table__TD\">0</td><td class=\"Table__TD\">2</td><td class=\"Table__TD\">11</td><td class=\"Table__TD\">5</td><td class=\"Table__TD\">5</td><td class=\"Table__TD\">106</td><td class=\"Table__TD\">24</td><td class=\"Table__TD\">79.0</td><td class=\"Table__TD\">-</td><td class=\"Table__TD\">-</td><td class=\"Table__TD\">1.75</td></tr>,\n",
       " <tr class=\"filled Table__TR Table__TR--sm Table__even\" data-idx=\"1\"><td class=\"Table__TD\">Tue 4/19</td><td class=\"Table__TD\"><span class=\"flex\"><span class=\"pr2\">vs</span><span class=\"pr2 TeamLink__Logo\"><a class=\"AnchorLink v-mid\" data-clubhouse-uid=\"s:1~l:10~t:23\" href=\"/mlb/team/_/name/pit/pittsburgh-pirates\" tabindex=\"0\" title=\"Team - Pittsburgh Pirates\"><img alt=\"PIT\" class=\"Image Logo v-mid Logo__sm\" data-mptype=\"image\" src=\"data:image/gif;base64,R0lGODlhAQABAIAAAAAAAP///yH5BAEAAAAALAAAAAABAAEAAAIBRAA7\" title=\"PIT\"/></a></span><span><a class=\"AnchorLink v-mid\" data-clubhouse-uid=\"s:1~l:10~t:23\" href=\"/mlb/team/_/name/pit/pittsburgh-pirates\" tabindex=\"0\" title=\"Team - Pittsburgh Pirates\">PIT</a></span></span></td><td class=\"Table__TD\"><a class=\"AnchorLink\" data-game-link=\"true\" href=\"http://www.espn.com/mlb/game/_/gameId/401354410\" tabindex=\"0\"><div class=\"inline flex tl\"><div class=\"inline pr2\"><div class=\"ResultCell tl win-stat\">W</div></div><span>5-2</span></div></a></td><td class=\"Table__TD\">7.0</td><td class=\"Table__TD\">4</td><td class=\"Table__TD\">2</td><td class=\"Table__TD\">2</td><td class=\"Table__TD\">2</td><td class=\"Table__TD\">0</td><td class=\"Table__TD\">10</td><td class=\"Table__TD\">11</td><td class=\"Table__TD\">4</td><td class=\"Table__TD\">107</td><td class=\"Table__TD\">25</td><td class=\"Table__TD\">71.0</td><td class=\"Table__TD\">W(1-0)</td><td class=\"Table__TD\">-</td><td class=\"Table__TD\">2.37</td></tr>,\n",
       " <tr class=\"Table__TR Table__TR--sm Table__even\" data-idx=\"2\"><td class=\"Table__TD\">Wed 4/13</td><td class=\"Table__TD\"><span class=\"flex\"><span class=\"pr2\">@</span><span class=\"pr2 TeamLink__Logo\"><a class=\"AnchorLink v-mid\" data-clubhouse-uid=\"s:1~l:10~t:1\" href=\"/mlb/team/_/name/bal/baltimore-orioles\" tabindex=\"0\" title=\"Team - Baltimore Orioles\"><img alt=\"BAL\" class=\"Image Logo v-mid Logo__sm\" data-mptype=\"image\" src=\"data:image/gif;base64,R0lGODlhAQABAIAAAAAAAP///yH5BAEAAAAALAAAAAABAAEAAAIBRAA7\" title=\"BAL\"/></a></span><span><a class=\"AnchorLink v-mid\" data-clubhouse-uid=\"s:1~l:10~t:1\" href=\"/mlb/team/_/name/bal/baltimore-orioles\" tabindex=\"0\" title=\"Team - Baltimore Orioles\">BAL</a></span></span></td><td class=\"Table__TD\"><a class=\"AnchorLink\" data-game-link=\"true\" href=\"http://www.espn.com/mlb/game/_/gameId/401354327\" tabindex=\"0\"><div class=\"inline flex tl\"><div class=\"inline pr2\"><div class=\"ResultCell tl win-stat\">W</div></div><span>4-2</span></div></a></td><td class=\"Table__TD\">7.0</td><td class=\"Table__TD\">3</td><td class=\"Table__TD\">0</td><td class=\"Table__TD\">0</td><td class=\"Table__TD\">0</td><td class=\"Table__TD\">1</td><td class=\"Table__TD\">8</td><td class=\"Table__TD\">5</td><td class=\"Table__TD\">10</td><td class=\"Table__TD\">97</td><td class=\"Table__TD\">25</td><td class=\"Table__TD\">78.0</td><td class=\"Table__TD\">-</td><td class=\"Table__TD\">-</td><td class=\"Table__TD\">2.25</td></tr>,\n",
       " <tr class=\"filled Table__TR Table__TR--sm Table__even\" data-idx=\"3\"><td class=\"Table__TD\">Thu 4/7</td><td class=\"Table__TD\"><span class=\"flex\"><span class=\"pr2\">@</span><span class=\"pr2 TeamLink__Logo\"><a class=\"AnchorLink v-mid\" data-clubhouse-uid=\"s:1~l:10~t:16\" href=\"/mlb/team/_/name/chc/chicago-cubs\" tabindex=\"0\" title=\"Team - Chicago Cubs\"><img alt=\"CHC\" class=\"Image Logo v-mid Logo__sm\" data-mptype=\"image\" src=\"data:image/gif;base64,R0lGODlhAQABAIAAAAAAAP///yH5BAEAAAAALAAAAAABAAEAAAIBRAA7\" title=\"CHC\"/></a></span><span><a class=\"AnchorLink v-mid\" data-clubhouse-uid=\"s:1~l:10~t:16\" href=\"/mlb/team/_/name/chc/chicago-cubs\" tabindex=\"0\" title=\"Team - Chicago Cubs\">CHC</a></span></span></td><td class=\"Table__TD\"><a class=\"AnchorLink\" data-game-link=\"true\" href=\"http://www.espn.com/mlb/game/_/gameId/401421335\" tabindex=\"0\"><div class=\"inline flex tl\"><div class=\"inline pr2\"><div class=\"ResultCell tl loss-stat\">L</div></div><span>5-4</span></div></a></td><td class=\"Table__TD\">5.0</td><td class=\"Table__TD\">4</td><td class=\"Table__TD\">3</td><td class=\"Table__TD\">3</td><td class=\"Table__TD\">1</td><td class=\"Table__TD\">3</td><td class=\"Table__TD\">4</td><td class=\"Table__TD\">3</td><td class=\"Table__TD\">11</td><td class=\"Table__TD\">83</td><td class=\"Table__TD\">21</td><td class=\"Table__TD\">48.0</td><td class=\"Table__TD\">-</td><td class=\"Table__TD\">-</td><td class=\"Table__TD\">5.40</td></tr>,\n",
       " <tr class=\"totals_row fw-bold ttu Table__TR Table__TR--sm Table__even\" data-idx=\"4\"><td class=\"Table__TD\" colspan=\"3\">april</td><td class=\"Table__TD\"><span>25.2</span></td><td class=\"Table__TD\"><span>13</span></td><td class=\"Table__TD\"><span>5</span></td><td class=\"Table__TD\"><span>5</span></td><td class=\"Table__TD\"><span>3</span></td><td class=\"Table__TD\"><span>6</span></td><td class=\"Table__TD\"><span>33</span></td><td class=\"Table__TD\"><span>24</span></td><td class=\"Table__TD\"><span>30</span></td><td class=\"Table__TD\"><span>393</span></td><td class=\"Table__TD\"><span>95</span></td><td class=\"Table__TD\"><span>69.0</span></td><td class=\"Table__TD\"><span>1-0</span></td><td class=\"Table__TD\"><span>0</span></td><td class=\"Table__TD\"><span>1.75</span></td></tr>]"
      ]
     },
     "execution_count": 42,
     "metadata": {},
     "output_type": "execute_result"
    }
   ],
   "source": [
    "section = bs.select('.gamelog')\n",
    "section[0].select('.mb5 .Table__TBODY tr')"
   ]
  },
  {
   "cell_type": "code",
   "execution_count": null,
   "metadata": {},
   "outputs": [],
   "source": []
  },
  {
   "cell_type": "code",
   "execution_count": null,
   "metadata": {},
   "outputs": [],
   "source": []
  }
 ],
 "metadata": {
  "interpreter": {
   "hash": "2304a4306d72a9fc8f52cfa19ebef60f8a2cea47ec9230cdf955b20fb7741e1a"
  },
  "kernelspec": {
   "display_name": "Python 3.9.1 ('monte': venv)",
   "language": "python",
   "name": "python3"
  },
  "language_info": {
   "codemirror_mode": {
    "name": "ipython",
    "version": 3
   },
   "file_extension": ".py",
   "mimetype": "text/x-python",
   "name": "python",
   "nbconvert_exporter": "python",
   "pygments_lexer": "ipython3",
   "version": "3.9.1"
  },
  "orig_nbformat": 4
 },
 "nbformat": 4,
 "nbformat_minor": 2
}
