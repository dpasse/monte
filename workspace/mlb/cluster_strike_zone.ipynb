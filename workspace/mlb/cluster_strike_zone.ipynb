{
 "cells": [
  {
   "cell_type": "code",
   "execution_count": 1,
   "metadata": {},
   "outputs": [],
   "source": [
    "import random\n",
    "\n",
    "import numpy as np\n",
    "import matplotlib.pyplot as plt\n",
    "\n",
    "from fractions import Fraction\n",
    "from statistics import mean\n",
    "from collections import defaultdict\n",
    "from matplotlib.patches import Rectangle"
   ]
  },
  {
   "cell_type": "code",
   "execution_count": null,
   "metadata": {},
   "outputs": [],
   "source": []
  },
  {
   "cell_type": "code",
   "execution_count": 2,
   "metadata": {},
   "outputs": [],
   "source": [
    "def get_zone_ranges(strike_zone, width_zones, height_zones):\n",
    "    width, height = strike_zone\n",
    "    \n",
    "    width_start = -1 * (width / 2)\n",
    "    width_zone_length = width / width_zones\n",
    "\n",
    "    height_start = -1 * (height / 2)\n",
    "    height_zone_length = height / height_zones\n",
    "\n",
    "    return [\n",
    "        (round(x1, 3), round(x2, 3))\n",
    "        for x1 in [ width_start + (i * width_zone_length) for i in range(width_zones) ]\n",
    "        for x2 in reversed([ height_start + (i * height_zone_length) for i in range(height_zones) ])\n",
    "    ], width_zone_length, height_zone_length\n",
    "\n",
    "def label_zones(zones):\n",
    "    return [\n",
    "        (i + 1, zone)\n",
    "        for i, zone in enumerate(zones)\n",
    "    ]\n",
    "    \n",
    "def find_zone(x, y, zones_with_labels, zone_width, zone_height):\n",
    "    for item in sorted(zones_with_labels, key=lambda a: a[0]):\n",
    "        _, (zone_x, zone_y) = item\n",
    "        if (x >= zone_x and x <= round(zone_x + zone_width, 3)) and (y >= zone_y and y <= round(zone_y + zone_height, 3)):\n",
    "            return item\n",
    "\n",
    "    return None"
   ]
  },
  {
   "cell_type": "code",
   "execution_count": null,
   "metadata": {},
   "outputs": [],
   "source": []
  },
  {
   "cell_type": "code",
   "execution_count": 3,
   "metadata": {},
   "outputs": [],
   "source": [
    "n_width_zones = 2\n",
    "n_height_zones = 2\n",
    "\n",
    "strike_zone = (17, 24)\n",
    "\n",
    "zones, zone_width, zone_height = get_zone_ranges(strike_zone, n_width_zones, n_height_zones)\n",
    "zones_with_labels = label_zones(zones)"
   ]
  },
  {
   "cell_type": "code",
   "execution_count": null,
   "metadata": {},
   "outputs": [],
   "source": []
  },
  {
   "cell_type": "code",
   "execution_count": 4,
   "metadata": {},
   "outputs": [
    {
     "name": "stdout",
     "output_type": "stream",
     "text": [
      "declarative: 0.75\n",
      "imperative: 0.75\n"
     ]
    }
   ],
   "source": [
    "def is_strike(x, y) -> bool:\n",
    "    return abs(x) <= 8.5 and abs(y) <= 12\n",
    "\n",
    "def get_strike_zone_percentage_by_pitch_type_dec(pitches: list, pitch_type: str) -> float:\n",
    "    return mean(\n",
    "        map(\n",
    "            lambda pitch: int(is_strike(pitch[1], pitch[2])),\n",
    "            filter(\n",
    "                lambda pitch: pitch[0] == pitch_type,\n",
    "                pitches\n",
    "            )\n",
    "        )\n",
    "    )\n",
    "\n",
    "def group_pitches(pitches: list) -> dict:\n",
    "    pitch_mappings = defaultdict(lambda: { 'strikes': 0, 'total': 0 })\n",
    "    for pt, x, y in pitches:\n",
    "        pitch_mappings[pt]['strikes'] += int(is_strike(x, y))\n",
    "        pitch_mappings[pt]['total'] += 1\n",
    "\n",
    "    return pitch_mappings\n",
    "\n",
    "def get_strike_zone_percentage_by_pitch_type(pitches: list, pitch_type: str) -> float:\n",
    "    pitch_mappings = group_pitches(pitches)\n",
    "    \n",
    "    observation = pitch_mappings[pitch_type]\n",
    "    return float(Fraction(observation['strikes'], observation['total']))\n",
    "\n",
    "pitches = [\n",
    "    ['FB', 2.2, -5.8],\n",
    "    ['SL', 3, 5],\n",
    "    ['FB', 8.5, -5.8],\n",
    "    ['FB', -8.5, -5.8],\n",
    "    ['FB', -8.55, -5.8],\n",
    "]\n",
    "\n",
    "print('declarative:', get_strike_zone_percentage_by_pitch_type_dec(pitches, 'FB'))\n",
    "print('imperative:', get_strike_zone_percentage_by_pitch_type(pitches, 'FB'))"
   ]
  },
  {
   "cell_type": "code",
   "execution_count": null,
   "metadata": {},
   "outputs": [],
   "source": []
  },
  {
   "cell_type": "code",
   "execution_count": 5,
   "metadata": {},
   "outputs": [],
   "source": [
    "possible_x = np.linspace(-13, 13, 1000).tolist()\n",
    "possible_y = np.linspace(-18, 18, 1000).tolist()\n",
    "\n",
    "def generate_pitch():\n",
    "    return (\n",
    "        random.choice(possible_x),\n",
    "        random.choice(possible_y),\n",
    "    )\n",
    "\n",
    "pitch_sequence = [\n",
    "    ['FB', *loc]\n",
    "    for loc in ( generate_pitch() for _ in range(15) )\n",
    "]\n",
    "\n",
    "strikes = list(filter(lambda a: is_strike(a[1], a[2]), pitch_sequence))\n",
    "balls = list(filter(lambda a: not is_strike(a[1], a[2]), pitch_sequence))"
   ]
  },
  {
   "cell_type": "code",
   "execution_count": null,
   "metadata": {},
   "outputs": [],
   "source": []
  },
  {
   "cell_type": "code",
   "execution_count": 6,
   "metadata": {},
   "outputs": [
    {
     "data": {
      "image/png": "[encoded data removed]",
      "text/plain": [
       "<Figure size 432x288 with 1 Axes>"
      ]
     },
     "metadata": {
      "needs_background": "light"
     },
     "output_type": "display_data"
    },
    {
     "name": "stdout",
     "output_type": "stream",
     "text": [
      "perc of strikes: 0.5333333333333333\n"
     ]
    }
   ],
   "source": [
    "fig, ax = plt.subplots()\n",
    "\n",
    "for label, zone in zones_with_labels:\n",
    "    x1, x2 = zone\n",
    "    ax.add_patch(\n",
    "        Rectangle(\n",
    "            (x1, x2),\n",
    "            zone_width,\n",
    "            zone_height,\n",
    "            alpha=0.15,\n",
    "            facecolor='k',\n",
    "            edgecolor='k',\n",
    "            linewidth=1\n",
    "        )\n",
    "    )\n",
    "\n",
    "    offset_x = (zone_width/2) - .4\n",
    "    offset_y = (zone_height/2) - .4\n",
    "    ax.annotate(label, xy=(x1 + offset_x, x2 + offset_y), alpha=.7)\n",
    "\n",
    "ax.scatter([ row[1] for row in strikes ], [ row[2] for row in strikes ], c='r', label='strike', alpha=.8)\n",
    "ax.scatter([ row[1] for row in balls ], [ row[2] for row in balls ], c='b', label='ball', alpha=.8)\n",
    "\n",
    "x_zone, y_zone = strike_zone\n",
    "plt.xlim(-1 *((x_zone / 2) + 10), ((x_zone / 2) + 10))\n",
    "plt.ylim(-1 * ((y_zone / 2) + 10), ((y_zone / 2) + 10))\n",
    "\n",
    "plt.legend()\n",
    "plt.show()\n",
    "\n",
    "print(\n",
    "    'perc of strikes:',\n",
    "    get_strike_zone_percentage_by_pitch_type(pitch_sequence, 'FB')\n",
    ")"
   ]
  },
  {
   "cell_type": "code",
   "execution_count": null,
   "metadata": {},
   "outputs": [],
   "source": []
  },
  {
   "cell_type": "code",
   "execution_count": 7,
   "metadata": {},
   "outputs": [
    {
     "data": {
      "text/plain": [
       "[((-3.5525525525525534, -1.6036036036036023), 2),\n",
       " ((1.0020020020020013, -6.504504504504505), 4),\n",
       " ((-3.11011011011011, -6.252252252252253), 2),\n",
       " ((3.2922922922922915, 6.972972972972972), 3),\n",
       " ((1.626626626626626, -6.36036036036036), 4),\n",
       " ((0.611611611611611, -1.4594594594594597), 4),\n",
       " ((1.9129129129129137, 1.8918918918918912), 3),\n",
       " ((8.055055055055053, 10.972972972972972), 3)]"
      ]
     },
     "execution_count": 7,
     "metadata": {},
     "output_type": "execute_result"
    }
   ],
   "source": [
    "cluster_strikes_by_zone = [\n",
    "    ((x, y), find_zone(x, y, zones_with_labels, zone_width, zone_height)[0])\n",
    "    for _, x, y\n",
    "    in strikes\n",
    "]\n",
    "\n",
    "cluster_strikes_by_zone"
   ]
  },
  {
   "cell_type": "code",
   "execution_count": null,
   "metadata": {},
   "outputs": [],
   "source": []
  }
 ],
 "metadata": {
  "kernelspec": {
   "display_name": "Python 3.9.13 ('monte': venv)",
   "language": "python",
   "name": "python3"
  },
  "language_info": {
   "codemirror_mode": {
    "name": "ipython",
    "version": 3
   },
   "file_extension": ".py",
   "mimetype": "text/x-python",
   "name": "python",
   "nbconvert_exporter": "python",
   "pygments_lexer": "ipython3",
   "version": "3.9.13"
  },
  "orig_nbformat": 4,
  "vscode": {
   "interpreter": {
    "hash": "2304a4306d72a9fc8f52cfa19ebef60f8a2cea47ec9230cdf955b20fb7741e1a"
   }
  }
 },
 "nbformat": 4,
 "nbformat_minor": 2
}
