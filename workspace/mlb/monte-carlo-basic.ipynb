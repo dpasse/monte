{
 "cells": [
  {
   "cell_type": "markdown",
   "metadata": {},
   "source": [
    "<h3>Monte Carlo - Basic Example</h3>\n",
    "\n",
    "<p>\n",
    "  <b>Description</b>: Simulate a baseball inning where we have a 30% chance of hitting a HR / 70% chance of getting OUT.\n",
    "</p>\n",
    "\n",
    "<p>\n",
    "  <b>Question(s)</b>: How many HRs can we expect to get per inning?\n",
    "</p>\n",
    "\n",
    "<br />\n",
    "<br />\n",
    "<br />"
   ]
  },
  {
   "cell_type": "code",
   "execution_count": 1,
   "metadata": {},
   "outputs": [],
   "source": [
    "from enum import Enum\n",
    "\n",
    "import numpy as np\n",
    "import matplotlib.pyplot as plt"
   ]
  },
  {
   "cell_type": "code",
   "execution_count": 2,
   "metadata": {},
   "outputs": [],
   "source": [
    "class AT_BAT_OUTCOME(Enum):\n",
    "  OUT = 1\n",
    "  HR = 2"
   ]
  },
  {
   "cell_type": "code",
   "execution_count": 3,
   "metadata": {},
   "outputs": [],
   "source": [
    "def at_bat():\n",
    "  probability = np.random.rand()\n",
    "\n",
    "  ## 30% chance of hitting HR / getting out.\n",
    "  if probability <= .3:\n",
    "    return AT_BAT_OUTCOME.HR\n",
    "\n",
    "  return AT_BAT_OUTCOME.OUT\n",
    "\n",
    "def play_inning():\n",
    "  outs = 0\n",
    "  hrs = 0\n",
    "\n",
    "  while outs < 3:\n",
    "    outcome = at_bat()\n",
    "\n",
    "    if outcome == AT_BAT_OUTCOME.OUT:\n",
    "      outs += 1\n",
    "    else:\n",
    "      hrs += 1\n",
    "\n",
    "  return hrs"
   ]
  },
  {
   "cell_type": "code",
   "execution_count": 4,
   "metadata": {},
   "outputs": [
    {
     "name": "stdout",
     "output_type": "stream",
     "text": [
      "# of hrs per inning: 1.2879\n"
     ]
    },
    {
     "data": {
      "image/png": "[encoded data removed]",
      "text/plain": [
       "<Figure size 720x360 with 1 Axes>"
      ]
     },
     "metadata": {
      "needs_background": "light"
     },
     "output_type": "display_data"
    }
   ],
   "source": [
    "simulations = 100000\n",
    "outcomes = [\n",
    "  play_inning()\n",
    "  for _\n",
    "  in range(simulations)\n",
    "]\n",
    "\n",
    "mu = np.mean(outcomes)\n",
    "print('# of hrs per inning:', mu)\n",
    "\n",
    "plt.figure(figsize=(10, 5))\n",
    "plt.title('Histogram of HRs per inning')\n",
    "plt.xlabel('HR')\n",
    "\n",
    "heights, _, _ = plt.hist(outcomes, bins=10, alpha=0.6)\n",
    "plt.vlines(\n",
    "  [mu],\n",
    "  ymin=min(heights),\n",
    "  ymax=max(heights),\n",
    "  colors='r'\n",
    ")\n",
    "\n",
    "plt.show()"
   ]
  },
  {
   "cell_type": "code",
   "execution_count": null,
   "metadata": {},
   "outputs": [],
   "source": []
  }
 ],
 "metadata": {
  "interpreter": {
   "hash": "2304a4306d72a9fc8f52cfa19ebef60f8a2cea47ec9230cdf955b20fb7741e1a"
  },
  "kernelspec": {
   "display_name": "Python 3.9.1 ('monte': venv)",
   "language": "python",
   "name": "python3"
  },
  "language_info": {
   "codemirror_mode": {
    "name": "ipython",
    "version": 3
   },
   "file_extension": ".py",
   "mimetype": "text/x-python",
   "name": "python",
   "nbconvert_exporter": "python",
   "pygments_lexer": "ipython3",
   "version": "3.9.1"
  },
  "orig_nbformat": 4
 },
 "nbformat": 4,
 "nbformat_minor": 2
}
