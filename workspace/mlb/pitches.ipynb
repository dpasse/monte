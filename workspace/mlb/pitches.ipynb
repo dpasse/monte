{
 "cells": [
  {
   "cell_type": "code",
   "execution_count": 1,
   "metadata": {},
   "outputs": [],
   "source": [
    "import random\n",
    "\n",
    "import numpy as np\n",
    "import matplotlib.pyplot as plt\n",
    "\n",
    "from collections import defaultdict\n",
    "from matplotlib.patches import Rectangle"
   ]
  },
  {
   "cell_type": "code",
   "execution_count": null,
   "metadata": {},
   "outputs": [],
   "source": []
  },
  {
   "cell_type": "code",
   "execution_count": 2,
   "metadata": {},
   "outputs": [
    {
     "name": "stdout",
     "output_type": "stream",
     "text": [
      "half width: 8.5\n",
      "half height: 12.0\n"
     ]
    }
   ],
   "source": [
    "width = 17\n",
    "height = 24\n",
    "\n",
    "half_width = width / 2\n",
    "half_height = height / 2\n",
    "\n",
    "print('half width:', half_width)\n",
    "print('half height:', half_height)"
   ]
  },
  {
   "cell_type": "code",
   "execution_count": null,
   "metadata": {},
   "outputs": [],
   "source": []
  },
  {
   "cell_type": "code",
   "execution_count": 3,
   "metadata": {},
   "outputs": [
    {
     "data": {
      "text/plain": [
       "0.75"
      ]
     },
     "execution_count": 3,
     "metadata": {},
     "output_type": "execute_result"
    }
   ],
   "source": [
    "def is_strike(x, y) -> bool:\n",
    "    return abs(x) <= 8.5 and abs(y) <= 12\n",
    "\n",
    "def get_strike_zone_percentage_by_pitch_type(pitches: list, pitch_type: str) -> float:\n",
    "    pitch_mappings = defaultdict(lambda: { 'strikes': 0, 'total': 0 })\n",
    "    for pt, x, y in pitches:\n",
    "        pitch_mappings[pt]['strikes'] += int(is_strike(x, y))\n",
    "        pitch_mappings[pt]['total'] += 1\n",
    "\n",
    "    observation = pitch_mappings[pitch_type]\n",
    "    return round(0.0 if observation['strikes'] == 0 else (observation['strikes'] / observation['total']), 3)\n",
    "\n",
    "get_strike_zone_percentage_by_pitch_type([\n",
    "    ['FB', 2.2, -5.8],\n",
    "    ['SL', 3, 5],\n",
    "    ['FB', 8.5, -5.8],\n",
    "    ['FB', -8.5, -5.8],\n",
    "    ['FB', -8.55, -5.8],\n",
    "], 'FB')"
   ]
  },
  {
   "cell_type": "code",
   "execution_count": null,
   "metadata": {},
   "outputs": [],
   "source": []
  },
  {
   "cell_type": "code",
   "execution_count": 4,
   "metadata": {},
   "outputs": [],
   "source": [
    "possible_x = np.linspace(-13, 13, 1000).tolist()\n",
    "possible_y = np.linspace(-18, 18, 1000).tolist()\n",
    "\n",
    "def generate_pitch():\n",
    "    return (\n",
    "        random.choice(possible_x),\n",
    "        random.choice(possible_y),\n",
    "    )\n",
    "\n",
    "pitch_sequence = [\n",
    "    ['FB', *loc]\n",
    "    for loc in ( generate_pitch() for _ in range(100) )\n",
    "]\n",
    "\n",
    "strikes = list(filter(lambda a: is_strike(a[1], a[2]), pitch_sequence))\n",
    "balls = list(filter(lambda a: not is_strike(a[1], a[2]), pitch_sequence))"
   ]
  },
  {
   "cell_type": "code",
   "execution_count": 5,
   "metadata": {},
   "outputs": [],
   "source": [
    "x1_range = np.linspace(-8.5, 4.25, 4).tolist()\n",
    "x2_range = np.linspace(-12, 6, 4).tolist()\n",
    "\n",
    "zones = [(x1, x2) for x2 in x2_range for x1 in x1_range]"
   ]
  },
  {
   "cell_type": "code",
   "execution_count": 6,
   "metadata": {},
   "outputs": [
    {
     "data": {
      "image/png": "[encoded data removed]",
      "text/plain": [
       "<Figure size 432x288 with 1 Axes>"
      ]
     },
     "metadata": {
      "needs_background": "light"
     },
     "output_type": "display_data"
    },
    {
     "name": "stdout",
     "output_type": "stream",
     "text": [
      "perc of strikes: 0.41\n"
     ]
    }
   ],
   "source": [
    "fig, ax = plt.subplots()\n",
    "\n",
    "ax.scatter([ row[1] for row in strikes ], [ row[2] for row in strikes ], c='r', label='strike')\n",
    "ax.scatter([ row[1] for row in balls ], [ row[2] for row in balls ], c='b', label='ball')\n",
    "\n",
    "for x1, x2 in zones:\n",
    "    ax.add_patch(\n",
    "        Rectangle((x1, x2), 4.25, 6, alpha=0.15, facecolor='k', edgecolor='k', linewidth=1)\n",
    "    )\n",
    "\n",
    "plt.xlim(-20, 20)\n",
    "plt.ylim(-20, 20)\n",
    "\n",
    "plt.legend()\n",
    "plt.show()\n",
    "\n",
    "print('perc of strikes:', get_strike_zone_percentage_by_pitch_type(pitch_sequence, 'FB'))"
   ]
  },
  {
   "cell_type": "code",
   "execution_count": null,
   "metadata": {},
   "outputs": [],
   "source": []
  }
 ],
 "metadata": {
  "kernelspec": {
   "display_name": "Python 3.9.13 ('monte': venv)",
   "language": "python",
   "name": "python3"
  },
  "language_info": {
   "codemirror_mode": {
    "name": "ipython",
    "version": 3
   },
   "file_extension": ".py",
   "mimetype": "text/x-python",
   "name": "python",
   "nbconvert_exporter": "python",
   "pygments_lexer": "ipython3",
   "version": "3.9.13"
  },
  "orig_nbformat": 4,
  "vscode": {
   "interpreter": {
    "hash": "2304a4306d72a9fc8f52cfa19ebef60f8a2cea47ec9230cdf955b20fb7741e1a"
   }
  }
 },
 "nbformat": 4,
 "nbformat_minor": 2
}
