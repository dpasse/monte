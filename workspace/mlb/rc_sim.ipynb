{
 "cells": [
  {
   "cell_type": "code",
   "execution_count": 1,
   "metadata": {},
   "outputs": [],
   "source": [
    "import math\n",
    "import numpy as np\n",
    "import pandas as pd\n",
    "\n",
    "from common.sim.poco import BatterStats\n",
    "from common.sim.engines import InningSimulator"
   ]
  },
  {
   "cell_type": "code",
   "execution_count": 14,
   "metadata": {},
   "outputs": [],
   "source": [
    "avg_innings_per_game = (26.72 / 3)\n",
    "\n",
    "def run_simulation(batter, iterations=50000):\n",
    "    inning_simulator = InningSimulator(batter)\n",
    "\n",
    "    runs = 0\n",
    "    for i in range(iterations):\n",
    "        inning = inning_simulator.play()\n",
    "        runs += inning.history[-1].scenario.runs\n",
    "\n",
    "    return runs / iterations"
   ]
  },
  {
   "cell_type": "code",
   "execution_count": 3,
   "metadata": {},
   "outputs": [],
   "source": [
    "ichiro = {\n",
    "    'AB': 704, ## Appearance\n",
    "    'SH': 2, ## Sac Bunts\n",
    "    'SF': 3, ## Sac Flys\n",
    "    'K': 63,\n",
    "    'BB': 49,\n",
    "    'HBP': 4,\n",
    "    '1B': 225,\n",
    "    '2B': 24,\n",
    "    '3B': 5,\n",
    "    'HR': 8\n",
    "}"
   ]
  },
  {
   "cell_type": "code",
   "execution_count": 22,
   "metadata": {},
   "outputs": [
    {
     "name": "stdout",
     "output_type": "stream",
     "text": [
      "0.737\n",
      "6.564213333333333 runs per game\n",
      "1063.40256 runs per season\n"
     ]
    }
   ],
   "source": [
    "player = BatterStats.create('ichiro', ichiro)\n",
    "\n",
    "ichiro_runs = run_simulation(player, 1000)\n",
    "\n",
    "print(ichiro_runs)\n",
    "print(ichiro_runs * avg_innings_per_game, 'runs per game')\n",
    "\n",
    "runs_per_season = (ichiro_runs * avg_innings_per_game) * 162\n",
    "print(runs_per_season, 'runs per season')"
   ]
  },
  {
   "cell_type": "code",
   "execution_count": null,
   "metadata": {},
   "outputs": [],
   "source": []
  },
  {
   "cell_type": "code",
   "execution_count": null,
   "metadata": {},
   "outputs": [],
   "source": []
  },
  {
   "cell_type": "code",
   "execution_count": null,
   "metadata": {},
   "outputs": [],
   "source": []
  },
  {
   "cell_type": "code",
   "execution_count": null,
   "metadata": {},
   "outputs": [],
   "source": []
  },
  {
   "cell_type": "code",
   "execution_count": 3,
   "metadata": {},
   "outputs": [],
   "source": [
    "columns = ['PA', 'AB', 'SH', 'SF', 'K', 'BB', 'HBP', '1B', '2B', '3B', 'HR', 'R', 'G']"
   ]
  },
  {
   "cell_type": "code",
   "execution_count": 3,
   "metadata": {},
   "outputs": [
    {
     "ename": "FileNotFoundError",
     "evalue": "[Errno 2] No such file or directory: '../../data/mlb/batting/player_aggregates.csv'",
     "output_type": "error",
     "traceback": [
      "\u001b[1;31m---------------------------------------------------------------------------\u001b[0m",
      "\u001b[1;31mFileNotFoundError\u001b[0m                         Traceback (most recent call last)",
      "Cell \u001b[1;32mIn[3], line 1\u001b[0m\n\u001b[1;32m----> 1\u001b[0m df_players \u001b[39m=\u001b[39m pd\u001b[39m.\u001b[39;49mread_csv(\u001b[39m'\u001b[39;49m\u001b[39m../../data/mlb/batting/player_aggregates.csv\u001b[39;49m\u001b[39m'\u001b[39;49m, index_col\u001b[39m=\u001b[39;49m\u001b[39mNone\u001b[39;49;00m)\n\u001b[0;32m      2\u001b[0m df_players\u001b[39m.\u001b[39mseason \u001b[39m=\u001b[39m df_players\u001b[39m.\u001b[39mseason\u001b[39m.\u001b[39mastype(\u001b[39mstr\u001b[39m)\n\u001b[0;32m      3\u001b[0m df_players \u001b[39m=\u001b[39m df_players[np\u001b[39m.\u001b[39mlogical_and(df_players\u001b[39m.\u001b[39mplayer \u001b[39m==\u001b[39m \u001b[39m'\u001b[39m\u001b[39mcorreca01\u001b[39m\u001b[39m'\u001b[39m, df_players\u001b[39m.\u001b[39mseason \u001b[39m==\u001b[39m \u001b[39m'\u001b[39m\u001b[39m2022\u001b[39m\u001b[39m'\u001b[39m)]\n",
      "File \u001b[1;32mc:\\Users\\dmpas\\Documents\\GitHub\\monte\\env\\lib\\site-packages\\pandas\\io\\parsers\\readers.py:912\u001b[0m, in \u001b[0;36mread_csv\u001b[1;34m(filepath_or_buffer, sep, delimiter, header, names, index_col, usecols, dtype, engine, converters, true_values, false_values, skipinitialspace, skiprows, skipfooter, nrows, na_values, keep_default_na, na_filter, verbose, skip_blank_lines, parse_dates, infer_datetime_format, keep_date_col, date_parser, date_format, dayfirst, cache_dates, iterator, chunksize, compression, thousands, decimal, lineterminator, quotechar, quoting, doublequote, escapechar, comment, encoding, encoding_errors, dialect, on_bad_lines, delim_whitespace, low_memory, memory_map, float_precision, storage_options, dtype_backend)\u001b[0m\n\u001b[0;32m    899\u001b[0m kwds_defaults \u001b[39m=\u001b[39m _refine_defaults_read(\n\u001b[0;32m    900\u001b[0m     dialect,\n\u001b[0;32m    901\u001b[0m     delimiter,\n\u001b[1;32m   (...)\u001b[0m\n\u001b[0;32m    908\u001b[0m     dtype_backend\u001b[39m=\u001b[39mdtype_backend,\n\u001b[0;32m    909\u001b[0m )\n\u001b[0;32m    910\u001b[0m kwds\u001b[39m.\u001b[39mupdate(kwds_defaults)\n\u001b[1;32m--> 912\u001b[0m \u001b[39mreturn\u001b[39;00m _read(filepath_or_buffer, kwds)\n",
      "File \u001b[1;32mc:\\Users\\dmpas\\Documents\\GitHub\\monte\\env\\lib\\site-packages\\pandas\\io\\parsers\\readers.py:577\u001b[0m, in \u001b[0;36m_read\u001b[1;34m(filepath_or_buffer, kwds)\u001b[0m\n\u001b[0;32m    574\u001b[0m _validate_names(kwds\u001b[39m.\u001b[39mget(\u001b[39m\"\u001b[39m\u001b[39mnames\u001b[39m\u001b[39m\"\u001b[39m, \u001b[39mNone\u001b[39;00m))\n\u001b[0;32m    576\u001b[0m \u001b[39m# Create the parser.\u001b[39;00m\n\u001b[1;32m--> 577\u001b[0m parser \u001b[39m=\u001b[39m TextFileReader(filepath_or_buffer, \u001b[39m*\u001b[39m\u001b[39m*\u001b[39mkwds)\n\u001b[0;32m    579\u001b[0m \u001b[39mif\u001b[39;00m chunksize \u001b[39mor\u001b[39;00m iterator:\n\u001b[0;32m    580\u001b[0m     \u001b[39mreturn\u001b[39;00m parser\n",
      "File \u001b[1;32mc:\\Users\\dmpas\\Documents\\GitHub\\monte\\env\\lib\\site-packages\\pandas\\io\\parsers\\readers.py:1407\u001b[0m, in \u001b[0;36mTextFileReader.__init__\u001b[1;34m(self, f, engine, **kwds)\u001b[0m\n\u001b[0;32m   1404\u001b[0m     \u001b[39mself\u001b[39m\u001b[39m.\u001b[39moptions[\u001b[39m\"\u001b[39m\u001b[39mhas_index_names\u001b[39m\u001b[39m\"\u001b[39m] \u001b[39m=\u001b[39m kwds[\u001b[39m\"\u001b[39m\u001b[39mhas_index_names\u001b[39m\u001b[39m\"\u001b[39m]\n\u001b[0;32m   1406\u001b[0m \u001b[39mself\u001b[39m\u001b[39m.\u001b[39mhandles: IOHandles \u001b[39m|\u001b[39m \u001b[39mNone\u001b[39;00m \u001b[39m=\u001b[39m \u001b[39mNone\u001b[39;00m\n\u001b[1;32m-> 1407\u001b[0m \u001b[39mself\u001b[39m\u001b[39m.\u001b[39m_engine \u001b[39m=\u001b[39m \u001b[39mself\u001b[39;49m\u001b[39m.\u001b[39;49m_make_engine(f, \u001b[39mself\u001b[39;49m\u001b[39m.\u001b[39;49mengine)\n",
      "File \u001b[1;32mc:\\Users\\dmpas\\Documents\\GitHub\\monte\\env\\lib\\site-packages\\pandas\\io\\parsers\\readers.py:1661\u001b[0m, in \u001b[0;36mTextFileReader._make_engine\u001b[1;34m(self, f, engine)\u001b[0m\n\u001b[0;32m   1659\u001b[0m     \u001b[39mif\u001b[39;00m \u001b[39m\"\u001b[39m\u001b[39mb\u001b[39m\u001b[39m\"\u001b[39m \u001b[39mnot\u001b[39;00m \u001b[39min\u001b[39;00m mode:\n\u001b[0;32m   1660\u001b[0m         mode \u001b[39m+\u001b[39m\u001b[39m=\u001b[39m \u001b[39m\"\u001b[39m\u001b[39mb\u001b[39m\u001b[39m\"\u001b[39m\n\u001b[1;32m-> 1661\u001b[0m \u001b[39mself\u001b[39m\u001b[39m.\u001b[39mhandles \u001b[39m=\u001b[39m get_handle(\n\u001b[0;32m   1662\u001b[0m     f,\n\u001b[0;32m   1663\u001b[0m     mode,\n\u001b[0;32m   1664\u001b[0m     encoding\u001b[39m=\u001b[39;49m\u001b[39mself\u001b[39;49m\u001b[39m.\u001b[39;49moptions\u001b[39m.\u001b[39;49mget(\u001b[39m\"\u001b[39;49m\u001b[39mencoding\u001b[39;49m\u001b[39m\"\u001b[39;49m, \u001b[39mNone\u001b[39;49;00m),\n\u001b[0;32m   1665\u001b[0m     compression\u001b[39m=\u001b[39;49m\u001b[39mself\u001b[39;49m\u001b[39m.\u001b[39;49moptions\u001b[39m.\u001b[39;49mget(\u001b[39m\"\u001b[39;49m\u001b[39mcompression\u001b[39;49m\u001b[39m\"\u001b[39;49m, \u001b[39mNone\u001b[39;49;00m),\n\u001b[0;32m   1666\u001b[0m     memory_map\u001b[39m=\u001b[39;49m\u001b[39mself\u001b[39;49m\u001b[39m.\u001b[39;49moptions\u001b[39m.\u001b[39;49mget(\u001b[39m\"\u001b[39;49m\u001b[39mmemory_map\u001b[39;49m\u001b[39m\"\u001b[39;49m, \u001b[39mFalse\u001b[39;49;00m),\n\u001b[0;32m   1667\u001b[0m     is_text\u001b[39m=\u001b[39;49mis_text,\n\u001b[0;32m   1668\u001b[0m     errors\u001b[39m=\u001b[39;49m\u001b[39mself\u001b[39;49m\u001b[39m.\u001b[39;49moptions\u001b[39m.\u001b[39;49mget(\u001b[39m\"\u001b[39;49m\u001b[39mencoding_errors\u001b[39;49m\u001b[39m\"\u001b[39;49m, \u001b[39m\"\u001b[39;49m\u001b[39mstrict\u001b[39;49m\u001b[39m\"\u001b[39;49m),\n\u001b[0;32m   1669\u001b[0m     storage_options\u001b[39m=\u001b[39;49m\u001b[39mself\u001b[39;49m\u001b[39m.\u001b[39;49moptions\u001b[39m.\u001b[39;49mget(\u001b[39m\"\u001b[39;49m\u001b[39mstorage_options\u001b[39;49m\u001b[39m\"\u001b[39;49m, \u001b[39mNone\u001b[39;49;00m),\n\u001b[0;32m   1670\u001b[0m )\n\u001b[0;32m   1671\u001b[0m \u001b[39massert\u001b[39;00m \u001b[39mself\u001b[39m\u001b[39m.\u001b[39mhandles \u001b[39mis\u001b[39;00m \u001b[39mnot\u001b[39;00m \u001b[39mNone\u001b[39;00m\n\u001b[0;32m   1672\u001b[0m f \u001b[39m=\u001b[39m \u001b[39mself\u001b[39m\u001b[39m.\u001b[39mhandles\u001b[39m.\u001b[39mhandle\n",
      "File \u001b[1;32mc:\\Users\\dmpas\\Documents\\GitHub\\monte\\env\\lib\\site-packages\\pandas\\io\\common.py:859\u001b[0m, in \u001b[0;36mget_handle\u001b[1;34m(path_or_buf, mode, encoding, compression, memory_map, is_text, errors, storage_options)\u001b[0m\n\u001b[0;32m    854\u001b[0m \u001b[39melif\u001b[39;00m \u001b[39misinstance\u001b[39m(handle, \u001b[39mstr\u001b[39m):\n\u001b[0;32m    855\u001b[0m     \u001b[39m# Check whether the filename is to be opened in binary mode.\u001b[39;00m\n\u001b[0;32m    856\u001b[0m     \u001b[39m# Binary mode does not support 'encoding' and 'newline'.\u001b[39;00m\n\u001b[0;32m    857\u001b[0m     \u001b[39mif\u001b[39;00m ioargs\u001b[39m.\u001b[39mencoding \u001b[39mand\u001b[39;00m \u001b[39m\"\u001b[39m\u001b[39mb\u001b[39m\u001b[39m\"\u001b[39m \u001b[39mnot\u001b[39;00m \u001b[39min\u001b[39;00m ioargs\u001b[39m.\u001b[39mmode:\n\u001b[0;32m    858\u001b[0m         \u001b[39m# Encoding\u001b[39;00m\n\u001b[1;32m--> 859\u001b[0m         handle \u001b[39m=\u001b[39m \u001b[39mopen\u001b[39;49m(\n\u001b[0;32m    860\u001b[0m             handle,\n\u001b[0;32m    861\u001b[0m             ioargs\u001b[39m.\u001b[39;49mmode,\n\u001b[0;32m    862\u001b[0m             encoding\u001b[39m=\u001b[39;49mioargs\u001b[39m.\u001b[39;49mencoding,\n\u001b[0;32m    863\u001b[0m             errors\u001b[39m=\u001b[39;49merrors,\n\u001b[0;32m    864\u001b[0m             newline\u001b[39m=\u001b[39;49m\u001b[39m\"\u001b[39;49m\u001b[39m\"\u001b[39;49m,\n\u001b[0;32m    865\u001b[0m         )\n\u001b[0;32m    866\u001b[0m     \u001b[39melse\u001b[39;00m:\n\u001b[0;32m    867\u001b[0m         \u001b[39m# Binary mode\u001b[39;00m\n\u001b[0;32m    868\u001b[0m         handle \u001b[39m=\u001b[39m \u001b[39mopen\u001b[39m(handle, ioargs\u001b[39m.\u001b[39mmode)\n",
      "\u001b[1;31mFileNotFoundError\u001b[0m: [Errno 2] No such file or directory: '../../data/mlb/batting/player_aggregates.csv'"
     ]
    }
   ],
   "source": [
    "df_players = pd.read_csv('../../data/mlb/batting/player_aggregates.csv', index_col=None)\n",
    "df_players.season = df_players.season.astype(str)\n",
    "df_players = df_players[np.logical_and(df_players.player == 'correca01', df_players.season == '2022')]\n",
    "df_players = df_players.rename(columns={\n",
    "    'SO': 'K'\n",
    "})\n",
    "\n",
    "correa = df_players[columns].to_dict('records')[0]\n",
    "\n",
    "df_teams = pd.read_csv('../../data/mlb/batting/season_aggregates.csv', index_col=None)\n",
    "df_teams.season = df_teams.season.astype(str)\n",
    "df_teams = df_teams[df_teams.season == '2022']\n",
    "df_teams = df_teams.rename(columns={\n",
    "    'SO': 'K'\n",
    "})\n",
    "\n",
    "avg_team = df_teams[columns].mean().to_frame().T.to_dict('records')[0]\n",
    "for key in avg_team.keys():\n",
    "    avg_team[key] = math.floor(avg_team[key])\n",
    "    \n",
    "avg_team['R/G'] = avg_team['R'] / avg_team['G']\n",
    "\n",
    "twins_columns = columns + ['R/G']\n",
    "twins = df_teams.loc[df_teams.team == 17, columns + ['R/G']].to_dict('records')[0]"
   ]
  },
  {
   "cell_type": "code",
   "execution_count": 3,
   "metadata": {},
   "outputs": [],
   "source": [
    "ichiro = {\n",
    "    'AB': 704, ## Appearance\n",
    "    'SH': 2, ## Sac Bunts\n",
    "    'SF': 3, ## Sac Flys\n",
    "    'K': 63,\n",
    "    'BB': 49,\n",
    "    'HBP': 4,\n",
    "    '1B': 225,\n",
    "    '2B': 24,\n",
    "    '3B': 5,\n",
    "    'HR': 8\n",
    "}"
   ]
  },
  {
   "cell_type": "code",
   "execution_count": 2,
   "metadata": {},
   "outputs": [],
   "source": []
  },
  {
   "cell_type": "code",
   "execution_count": 15,
   "metadata": {},
   "outputs": [
    {
     "data": {
      "text/plain": [
       "[(0.01706036745406824,\n",
       "  <EventVariable name=\"Error\" probability=\"0.01706036745406824\">),\n",
       " (0.14803018372703414,\n",
       "  <EventVariable name=\"GIDP\" probability=\"0.1309698162729659\">),\n",
       " (0.279,\n",
       "  <EventVariable name=\"NormalGroundBall\" probability=\"0.1309698162729659\">),\n",
       " (0.353492125984252,\n",
       "  <EventVariable name=\"LineDriveInfieldFly\" probability=\"0.07449212598425196\">),\n",
       " (0.3835811023622048,\n",
       "  <EventVariable name=\"LongFly\" probability=\"0.030088976377952756\">),\n",
       " (0.45880354330708667,\n",
       "  <EventVariable name=\"MediumFly\" probability=\"0.07522244094488188\">),\n",
       " (0.5039370078740157,\n",
       "  <EventVariable name=\"ShortFly\" probability=\"0.04513346456692913\">),\n",
       " (0.5866141732283464,\n",
       "  <EventVariable name=\"Strikeout\" probability=\"0.08267716535433071\">),\n",
       " (0.6509186351706037,\n",
       "  <EventVariable name=\"Walk\" probability=\"0.06430446194225722\">),\n",
       " (0.6561679790026247,\n",
       "  <EventVariable name=\"HBP\" probability=\"0.005249343832020997\">),\n",
       " (0.744750656167979,\n",
       "  <EventVariable name=\"LongSingle\" probability=\"0.08858267716535433\">),\n",
       " (0.8923884514435695,\n",
       "  <EventVariable name=\"MediumSingle\" probability=\"0.14763779527559054\">),\n",
       " (0.9514435695538057,\n",
       "  <EventVariable name=\"ShortSingle\" probability=\"0.05905511811023622\">),\n",
       " (0.9766404199475065,\n",
       "  <EventVariable name=\"ShortDouble\" probability=\"0.025196850393700787\">),\n",
       " (0.9829396325459316,\n",
       "  <EventVariable name=\"LongDouble\" probability=\"0.006299212598425197\">),\n",
       " (0.9895013123359578,\n",
       "  <EventVariable name=\"Triple\" probability=\"0.006561679790026247\">),\n",
       " (1, <EventVariable name=\"HR\" probability=\"0.010498687664041995\">)]"
      ]
     },
     "execution_count": 15,
     "metadata": {},
     "output_type": "execute_result"
    }
   ],
   "source": [
    "batters._Batters__lookup[0]"
   ]
  },
  {
   "cell_type": "code",
   "execution_count": 6,
   "metadata": {},
   "outputs": [
    {
     "data": {
      "text/plain": [
       "[(0.01706036745406824, <EventCodes.Error: 4>),\n",
       " (0.14803018372703414, <EventCodes.GIDP: 12>),\n",
       " (0.279, <EventCodes.NormalGroundBall: 13>),\n",
       " (0.353492125984252, <EventCodes.LineDriveInfieldFly: 15>),\n",
       " (0.3835811023622048, <EventCodes.LongFly: 16>),\n",
       " (0.45880354330708667, <EventCodes.MediumFly: 17>),\n",
       " (0.5039370078740157, <EventCodes.ShortFly: 18>),\n",
       " (0.5866141732283464, <EventCodes.Strikeout: 1>),\n",
       " (0.6509186351706037, <EventCodes.Walk: 2>),\n",
       " (0.6561679790026247, <EventCodes.HBP: 3>),\n",
       " (0.744750656167979, <EventCodes.LongSingle: 5>),\n",
       " (0.8923884514435695, <EventCodes.MediumSingle: 6>),\n",
       " (0.9514435695538057, <EventCodes.ShortSingle: 7>),\n",
       " (0.9766404199475065, <EventCodes.ShortDouble: 8>),\n",
       " (0.9829396325459316, <EventCodes.LongDouble: 9>),\n",
       " (0.9895013123359578, <EventCodes.Triple: 10>),\n",
       " 1.0]"
      ]
     },
     "execution_count": 6,
     "metadata": {},
     "output_type": "execute_result"
    }
   ],
   "source": [
    "player, _ = batters.next()\n",
    "\n",
    "ugh(player.likelihoods())"
   ]
  },
  {
   "attachments": {},
   "cell_type": "markdown",
   "metadata": {},
   "source": [
    "#### Ichiro - 2004"
   ]
  },
  {
   "cell_type": "code",
   "execution_count": 9,
   "metadata": {},
   "outputs": [
    {
     "name": "stdout",
     "output_type": "stream",
     "text": [
      "0.99\n",
      "8.817599999999999 runs per game\n",
      "1428.4511999999997 runs per season\n"
     ]
    }
   ],
   "source": [
    "player = BatterStats.create('ichiro', ichiro)\n",
    "\n",
    "ichiro_runs = run_simulation(player, 100)\n",
    "\n",
    "print(ichiro_runs)\n",
    "print(ichiro_runs * avg_innings_per_game, 'runs per game')\n",
    "\n",
    "runs_per_season = (ichiro_runs * avg_innings_per_game) * 162\n",
    "print(runs_per_season, 'runs per season')"
   ]
  },
  {
   "attachments": {},
   "cell_type": "markdown",
   "metadata": {},
   "source": [
    "#### Average Team - 2022"
   ]
  },
  {
   "cell_type": "code",
   "execution_count": null,
   "metadata": {},
   "outputs": [
    {
     "name": "stdout",
     "output_type": "stream",
     "text": [
      "0.4653\n",
      "4.144272 runs per game vs 4.277777777777778\n",
      "671.372064 runs per season\n"
     ]
    }
   ],
   "source": [
    "batters = BattersFactory().create_batters([\n",
    "    ('avg_team', avg_team, 1)\n",
    "])\n",
    "\n",
    "avg_team_runs = run_simulation(batters)\n",
    "\n",
    "print(avg_team_runs)\n",
    "print(avg_team_runs * avg_innings_per_game, 'runs per game', 'vs', avg_team['R/G'])\n",
    "print((avg_team_runs * avg_innings_per_game) * 162, 'runs per season')"
   ]
  },
  {
   "attachments": {},
   "cell_type": "markdown",
   "metadata": {},
   "source": [
    "#### Correa - 2022"
   ]
  },
  {
   "cell_type": "code",
   "execution_count": null,
   "metadata": {},
   "outputs": [
    {
     "name": "stdout",
     "output_type": "stream",
     "text": [
      "0.67742\n",
      "6.033554133333333 runs per game\n",
      "977.4357696 runs per season\n"
     ]
    }
   ],
   "source": [
    "batters = BattersFactory().create_batters([\n",
    "    ('correa', correa, 1)\n",
    "])\n",
    "\n",
    "correa_runs = run_simulation(batters)\n",
    "\n",
    "print(correa_runs)\n",
    "print(correa_runs * avg_innings_per_game, 'runs per game')\n",
    "print((correa_runs * avg_innings_per_game) * 162, 'runs per season')"
   ]
  },
  {
   "attachments": {},
   "cell_type": "markdown",
   "metadata": {},
   "source": [
    "#### Correa on Average Team - 2022"
   ]
  },
  {
   "cell_type": "code",
   "execution_count": null,
   "metadata": {},
   "outputs": [
    {
     "name": "stdout",
     "output_type": "stream",
     "text": [
      "0.4867\n",
      "4.334874666666667 runs per game\n",
      "702.2496960000001 runs per season\n"
     ]
    }
   ],
   "source": [
    "correa_hits_prob = correa['PA'] / avg_team['PA']\n",
    "avg_team_hits_prob = 1 - correa_hits_prob\n",
    "\n",
    "## have correa play ~ 9 % of the PA for an avg team\n",
    "batters = BattersFactory().create_batters([\n",
    "    ('correa', correa, correa_hits_prob),\n",
    "    ('avg_team', avg_team, avg_team_hits_prob)\n",
    "])\n",
    "\n",
    "correa_avg_team_runs = run_simulation(batters)\n",
    "\n",
    "print(correa_avg_team_runs)\n",
    "print(correa_avg_team_runs * avg_innings_per_game, 'runs per game')\n",
    "print((correa_avg_team_runs * avg_innings_per_game) * 162, 'runs per season')"
   ]
  },
  {
   "attachments": {},
   "cell_type": "markdown",
   "metadata": {},
   "source": [
    "#### Twins - 2022"
   ]
  },
  {
   "cell_type": "code",
   "execution_count": null,
   "metadata": {},
   "outputs": [
    {
     "name": "stdout",
     "output_type": "stream",
     "text": [
      "0.47726\n",
      "4.250795733333334 runs per game vs 4.3\n",
      "688.6289088000001 runs per season vs 696.6\n"
     ]
    }
   ],
   "source": [
    "batters = BattersFactory().create_batters([\n",
    "    ('twins', twins, 1),\n",
    "])\n",
    "\n",
    "twins_runs = run_simulation(batters)\n",
    "\n",
    "print(twins_runs)\n",
    "print(twins_runs * avg_innings_per_game, 'runs per game', 'vs', twins['R/G'])\n",
    "twins_runs_per_season = (twins_runs * avg_innings_per_game) * 162\n",
    "print(twins_runs_per_season, 'runs per season', 'vs', twins['R/G'] * 162)"
   ]
  },
  {
   "attachments": {},
   "cell_type": "markdown",
   "metadata": {},
   "source": [
    "#### Twins minus Correa - 2022"
   ]
  },
  {
   "cell_type": "code",
   "execution_count": null,
   "metadata": {},
   "outputs": [],
   "source": [
    "def remove_player_from_team(team, player):\n",
    "    team_minus_player = team.copy()\n",
    "\n",
    "    for key in player.keys():\n",
    "        team_minus_player[key] = team_minus_player[key] - player[key]\n",
    "\n",
    "    return team_minus_player"
   ]
  },
  {
   "cell_type": "code",
   "execution_count": null,
   "metadata": {},
   "outputs": [
    {
     "name": "stdout",
     "output_type": "stream",
     "text": [
      "0.46206\n",
      "4.1154144 runs per game\n",
      "666.6971328 runs per season\n"
     ]
    }
   ],
   "source": [
    "batters = BattersFactory().create_batters([\n",
    "    ('twins_minus_correa', remove_player_from_team(twins, correa), 1),\n",
    "])\n",
    "\n",
    "twins_minus_correa_runs = run_simulation(batters)\n",
    "\n",
    "print(twins_minus_correa_runs)\n",
    "print(twins_minus_correa_runs * avg_innings_per_game, 'runs per game')\n",
    "\n",
    "twins_minus_correa_runs_per_season = (twins_minus_correa_runs * avg_innings_per_game) * 162\n",
    "print(twins_minus_correa_runs_per_season, 'runs per season')"
   ]
  },
  {
   "attachments": {},
   "cell_type": "markdown",
   "metadata": {},
   "source": [
    "#### Wins Created by Correa for 2022 Twins"
   ]
  },
  {
   "cell_type": "code",
   "execution_count": null,
   "metadata": {},
   "outputs": [
    {
     "name": "stdout",
     "output_type": "stream",
     "text": [
      "wins w/out correa: 78.89399999999999\n",
      "wins w correa: 81.486\n",
      "wins created: 2.592000000000013\n"
     ]
    }
   ],
   "source": [
    "## 82-80, 696 Runs, 684 Runs Allowed\n",
    "\n",
    "runs_allowed = 684\n",
    "\n",
    "def pythagorean(runs_scored, runs_allowed, exp = 2):\n",
    "    rate = (runs_scored / runs_allowed) ** exp\n",
    "    return round(rate / (rate + 1), 3)\n",
    "\n",
    "print('wins w/out correa:', pythagorean(twins_minus_correa_runs_per_season, runs_allowed) * 162)\n",
    "print('wins w correa:', pythagorean(twins_runs_per_season, runs_allowed) * 162)\n",
    "\n",
    "print(\n",
    "    'wins created:',\n",
    "    (pythagorean(twins_runs_per_season, runs_allowed) * 162) - (pythagorean(twins_minus_correa_runs_per_season, runs_allowed) * 162)\n",
    ")"
   ]
  },
  {
   "cell_type": "code",
   "execution_count": null,
   "metadata": {},
   "outputs": [],
   "source": []
  }
 ],
 "metadata": {
  "kernelspec": {
   "display_name": "rc",
   "language": "python",
   "name": "python3"
  },
  "language_info": {
   "codemirror_mode": {
    "name": "ipython",
    "version": 3
   },
   "file_extension": ".py",
   "mimetype": "text/x-python",
   "name": "python",
   "nbconvert_exporter": "python",
   "pygments_lexer": "ipython3",
   "version": "3.9.1"
  },
  "orig_nbformat": 4,
  "vscode": {
   "interpreter": {
    "hash": "95020b902a2df746e83905ddddf9b388e83686c9ac0c7e3287244bbc1a1e2884"
   }
  }
 },
 "nbformat": 4,
 "nbformat_minor": 2
}
