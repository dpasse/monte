{
 "cells": [
  {
   "cell_type": "code",
   "execution_count": 12,
   "metadata": {},
   "outputs": [],
   "source": [
    "import json\n",
    "import requests"
   ]
  },
  {
   "cell_type": "code",
   "execution_count": 13,
   "metadata": {},
   "outputs": [],
   "source": [
    "season = '2022'\n",
    "league_id = '853208662'\n",
    "url_template = f'https://fantasy.espn.com/apis/v3/games/flb/seasons/{season}/segments/0/leagues/{league_id}?view=mSettings&view=mRoster&view=mTeam&view=modular&view=mNav'\n",
    "\n",
    "response = requests.get(url_template)\n",
    "\n",
    "assert response.status_code == 200"
   ]
  },
  {
   "cell_type": "code",
   "execution_count": 14,
   "metadata": {},
   "outputs": [],
   "source": [
    "obj = response.json()\n",
    "\n",
    "teams = []\n",
    "for team in obj['teams']:\n",
    "  location = team['location']\n",
    "  nickname = team['nickname']\n",
    "  team_name = f'{location} {nickname}'\n",
    "\n",
    "  roster = []\n",
    "  for individual in team['roster']['entries']:\n",
    "    player = individual['playerPoolEntry']['player']\n",
    "    slots = player['eligibleSlots']\n",
    "\n",
    "    ## bench, il\n",
    "    slots.remove(16)\n",
    "    slots.remove(17)\n",
    "\n",
    "    roster.append({\n",
    "      'id': player['id'],\n",
    "      'name': player['fullName'],\n",
    "      'slots': slots,\n",
    "      'isPitcher': 13 in slots or 14 in slots or 15 in slots,\n",
    "      'isBatter': any(filter(lambda x: x < 13, slots)),\n",
    "    })\n",
    "\n",
    "  teams.append({\n",
    "    'name': team_name,\n",
    "    'roster': roster,\n",
    "  })\n",
    "\n",
    "with open('../../data/mlb/roster.json', 'w') as output:\n",
    "  output.write(\n",
    "    json.dumps(teams, indent=3)\n",
    "  )"
   ]
  },
  {
   "cell_type": "code",
   "execution_count": null,
   "metadata": {},
   "outputs": [],
   "source": []
  },
  {
   "cell_type": "code",
   "execution_count": null,
   "metadata": {},
   "outputs": [],
   "source": []
  }
 ],
 "metadata": {
  "interpreter": {
   "hash": "2304a4306d72a9fc8f52cfa19ebef60f8a2cea47ec9230cdf955b20fb7741e1a"
  },
  "kernelspec": {
   "display_name": "Python 3.9.1 ('monte': venv)",
   "language": "python",
   "name": "python3"
  },
  "language_info": {
   "codemirror_mode": {
    "name": "ipython",
    "version": 3
   },
   "file_extension": ".py",
   "mimetype": "text/x-python",
   "name": "python",
   "nbconvert_exporter": "python",
   "pygments_lexer": "ipython3",
   "version": "3.9.1"
  },
  "orig_nbformat": 4
 },
 "nbformat": 4,
 "nbformat_minor": 2
}
