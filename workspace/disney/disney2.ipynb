{
 "cells": [
  {
   "cell_type": "code",
   "execution_count": 98,
   "metadata": {},
   "outputs": [
    {
     "name": "stderr",
     "output_type": "stream",
     "text": [
      "[nltk_data] Downloading package stopwords to\n",
      "[nltk_data]     /Users/danpasse/nltk_data...\n",
      "[nltk_data]   Package stopwords is already up-to-date!\n",
      "[nltk_data] Downloading package omw-1.4 to\n",
      "[nltk_data]     /Users/danpasse/nltk_data...\n",
      "[nltk_data]   Package omw-1.4 is already up-to-date!\n"
     ]
    }
   ],
   "source": [
    "import re\n",
    "import os\n",
    "import json\n",
    "from collections import Counter\n",
    "import pandas as pd\n",
    "import numpy as np\n",
    "import itertools\n",
    "\n",
    "import nltk\n",
    "from nltk.tokenize import sent_tokenize, word_tokenize\n",
    "from nltk.corpus import stopwords\n",
    "from nltk.stem import WordNetLemmatizer\n",
    "\n",
    "nltk.download('stopwords')\n",
    "nltk.download('omw-1.4')\n",
    "\n",
    "from sklearn.pipeline import Pipeline\n",
    "from sklearn.feature_extraction.text import CountVectorizer, TfidfTransformer\n",
    "\n",
    "import matplotlib.pyplot as plt\n",
    "\n",
    "from gensim import corpora\n",
    "from gensim.models.ldamodel import LdaModel\n",
    "\n",
    "settings = {\n",
    "  'model': {\n",
    "    'version': 1,\n",
    "    'cache': False,\n",
    "  },\n",
    "}"
   ]
  },
  {
   "cell_type": "markdown",
   "metadata": {},
   "source": [
    "### Step 1\n",
    "\n",
    "- build dataset"
   ]
  },
  {
   "cell_type": "code",
   "execution_count": 75,
   "metadata": {},
   "outputs": [
    {
     "data": {
      "text/plain": [
       "{'cat_id': 391,\n",
       " 'job_id': 19757793040,\n",
       " 'step_1': ['* You are passionate about your area of expertise, deeply inquisitive and open minded, informed, but not limited, by your domain of expertise.\\n* You enjoy intellectual debate.\\n* You are comfortable guiding other team members but willing to get your hands dirty and help build research systems when needed\\n* You are driven to perform research that is not simply novel, but deeply impactful to the company and society have a deep desire to reduce the research to practice in the form of prototypes and technology demonstrators.\\n* You are excited by the platform provided by Disney to connect with children and guests of all ages to have a positive impact on the world.\\n* You have a deep sensitivity for ethical use of technology and data.\\n* You thrive in a fast-paced collaborative environment.\\n* You are self-directed and independent, but open to constructive feedback.\\n* You are a team player, able to work in collaborative interdisciplinary groups\\n* You are willing to take the time necessary to understand the business and adapt your knowledge to maximize the value of your contributions.\\n* You understand that communicating the value of your research to non-technical stakeholders is critical to continued investment.\\n* You understand that there are times when deep scientific rigor is necessary to validate a concept, and times when this is counterproductive, and are eager to discern the difference.\\n* You value sharing knowledge with the world but understand the need to drive and retain value in a private company.']}"
      ]
     },
     "execution_count": 75,
     "metadata": {},
     "output_type": "execute_result"
    }
   ],
   "source": [
    "documents = []\n",
    "with open('../../data/disney/job_descriptions.json', 'r') as reader:\n",
    "  for description in json.loads(reader.read()):\n",
    "    items = [\n",
    "      item['text']\n",
    "      for item in description['sections']\n",
    "      if item['section'] == 'Basic Qualifications' or item['section'] == 'Preferred Qualifications'\n",
    "    ]\n",
    "\n",
    "    if len(items) == 0:\n",
    "      continue\n",
    "\n",
    "    qualification = {\n",
    "      'cat_id': description['cat_id'],\n",
    "      'job_id': description['job_id'],\n",
    "      'step_1': items\n",
    "    }\n",
    "\n",
    "    documents.append(qualification)\n",
    "\n",
    "documents[0]"
   ]
  },
  {
   "cell_type": "markdown",
   "metadata": {},
   "source": [
    "### Step 2\n",
    "\n",
    "- text to sentences"
   ]
  },
  {
   "cell_type": "code",
   "execution_count": 76,
   "metadata": {},
   "outputs": [
    {
     "name": "stdout",
     "output_type": "stream",
     "text": [
      "* You are passionate about your area of expertise, deeply inquisitive and open minded, informed, but not limited, by your domain of expertise.\n",
      "* You enjoy intellectual debate.\n",
      "* You are comfortable guiding other team members but willing to get your hands dirty and help build research systems when needed\n",
      "* You are driven to perform research that is not simply novel, but deeply impactful to the company and society have a deep desire to reduce the research to practice in the form of prototypes and technology demonstrators.\n",
      "* You are excited by the platform provided by Disney to connect with children and guests of all ages to have a positive impact on the world.\n",
      "* You have a deep sensitivity for ethical use of technology and data.\n",
      "* You thrive in a fast-paced collaborative environment.\n",
      "* You are self-directed and independent, but open to constructive feedback.\n",
      "* You are a team player, able to work in collaborative interdisciplinary groups\n",
      "* You are willing to take the time necessary to understand the business and adapt your knowledge to maximize the value of your contributions.\n",
      "* You understand that communicating the value of your research to non-technical stakeholders is critical to continued investment.\n",
      "* You understand that there are times when deep scientific rigor is necessary to validate a concept, and times when this is counterproductive, and are eager to discern the difference.\n",
      "* You value sharing knowledge with the world but understand the need to drive and retain value in a private company.\n",
      "\n",
      "you are passionate about your area of expertise deeply inquisitive and open minded informed but not limited by your domain of expertise\n"
     ]
    }
   ],
   "source": [
    "def transform_text(text):\n",
    "  def clean_sentence(sentence):\n",
    "    sentence = re.sub(r'[`\\'’#]', '', sentence)\n",
    "    sentence = re.sub(r'[,.!?:;\"“”%_–-]', ' ', sentence)\n",
    "    sentence = re.sub(r'\\s+', ' ', sentence)\n",
    "\n",
    "    return sentence.strip()\n",
    "\n",
    "  text = re.sub(r'(e\\.g\\.|\\/)', ' ', text)\n",
    "  text = re.sub(r'etc\\.', 'etc', text)\n",
    "  text = re.sub(r'[*•●\"()]', ' ', text)\n",
    "  text = re.sub(r'&', ' and ', text)\n",
    "\n",
    "  return [ clean_sentence(sentence) for sentence in sent_tokenize(text.lower()) ]\n",
    "\n",
    "for document in documents:\n",
    "  document['step_2'] = []\n",
    "  for section_text in document['step_1']:\n",
    "    document['step_2'].extend(transform_text(section_text))\n",
    "\n",
    "print(documents[0]['step_1'][0])\n",
    "print()\n",
    "print(documents[0]['step_2'][0])"
   ]
  },
  {
   "cell_type": "markdown",
   "metadata": {},
   "source": [
    "### Step 3\n",
    "\n",
    "- sentences to individual tokens"
   ]
  },
  {
   "cell_type": "code",
   "execution_count": 77,
   "metadata": {},
   "outputs": [
    {
     "name": "stdout",
     "output_type": "stream",
     "text": [
      "you are excited by the platform provided by disney to connect with children and guests of all ages to have a positive impact on the world\n",
      "\n",
      "['excited', 'platform', 'provided', 'disney', 'connect', 'child', 'guest', 'age', 'positive', 'impact', 'world']\n"
     ]
    }
   ],
   "source": [
    "wnl = WordNetLemmatizer()\n",
    "trash = list(stopwords.words('english'))\n",
    "\n",
    "def tokenize(sentence):\n",
    "  return [\n",
    "    wnl.lemmatize(token)\n",
    "    for token\n",
    "    in word_tokenize(sentence)\n",
    "    if not token in trash\n",
    "  ]\n",
    "\n",
    "for document in documents:\n",
    "  document['step_3'] = []\n",
    "  for sentence in document['step_2']:\n",
    "    document['step_3'].append(tokenize(sentence))\n",
    "  \n",
    "print(documents[0]['step_2'][3])\n",
    "print()\n",
    "print(documents[0]['step_3'][3])"
   ]
  },
  {
   "cell_type": "markdown",
   "metadata": {},
   "source": [
    "### Step 4\n",
    "\n",
    "- build ngrams"
   ]
  },
  {
   "cell_type": "code",
   "execution_count": 78,
   "metadata": {},
   "outputs": [
    {
     "name": "stdout",
     "output_type": "stream",
     "text": [
      "['passionate', 'area', 'expertise', 'deeply', 'inquisitive', 'open', 'minded', 'informed', 'limited', 'domain', 'expertise']\n",
      "\n",
      "['passionate_area', 'area_expertise', 'expertise_deeply', 'deeply_inquisitive', 'inquisitive_open', 'open_minded', 'minded_informed', 'informed_limited', 'limited_domain', 'domain_expertise', 'passionate_area_expertise', 'area_expertise_deeply', 'expertise_deeply_inquisitive', 'deeply_inquisitive_open', 'inquisitive_open_minded', 'open_minded_informed', 'minded_informed_limited', 'informed_limited_domain', 'limited_domain_expertise']\n"
     ]
    }
   ],
   "source": [
    "n_gram_ranges = [2, 3]\n",
    "\n",
    "def format(tup):\n",
    "  return '_'.join(tup)\n",
    "\n",
    "for document in documents:\n",
    "  document['step_4'] = []\n",
    "  for tokens in document['step_3']:\n",
    "    sentence_grams = []\n",
    "    for n in n_gram_ranges:\n",
    "      sentence_grams.extend([ format(tup) for tup in nltk.ngrams(tokens, n)])\n",
    "    \n",
    "    document['step_4'].append(sentence_grams)\n",
    "\n",
    "print(documents[0]['step_3'][0])\n",
    "print()\n",
    "print(documents[0]['step_4'][0])"
   ]
  },
  {
   "cell_type": "markdown",
   "metadata": {},
   "source": [
    "### Step 5\n",
    "\n",
    "- final document"
   ]
  },
  {
   "cell_type": "code",
   "execution_count": 79,
   "metadata": {},
   "outputs": [
    {
     "name": "stdout",
     "output_type": "stream",
     "text": [
      "['passionate_area', 'area_expertise', 'expertise_deeply', 'deeply_inquisitive', 'inquisitive_open', 'open_minded', 'minded_informed', 'informed_limited', 'limited_domain', 'domain_expertise', 'passionate_area_expertise', 'area_expertise_deeply', 'expertise_deeply_inquisitive', 'deeply_inquisitive_open', 'inquisitive_open_minded', 'open_minded_informed', 'minded_informed_limited', 'informed_limited_domain', 'limited_domain_expertise']\n",
      "\n",
      "['passionate_area', 'area_expertise', 'expertise_deeply', 'deeply_inquisitive', 'inquisitive_open']\n"
     ]
    }
   ],
   "source": [
    "for document in documents:\n",
    "  document['step_5'] = []\n",
    "  for tokens in document['step_4']:\n",
    "    document['step_5'].extend(tokens)\n",
    "  \n",
    "print(documents[0]['step_4'][0])\n",
    "print()\n",
    "print(documents[0]['step_5'][:5])"
   ]
  },
  {
   "cell_type": "markdown",
   "metadata": {},
   "source": [
    "### Step 6\n",
    "\n",
    "- filter out ngrams"
   ]
  },
  {
   "cell_type": "code",
   "execution_count": 80,
   "metadata": {},
   "outputs": [],
   "source": [
    "document_sentences = [ document['step_3'] for document in documents ]\n",
    "qualifications = [ document['step_5'] for document in documents ]"
   ]
  },
  {
   "cell_type": "code",
   "execution_count": 81,
   "metadata": {},
   "outputs": [
    {
     "name": "stdout",
     "output_type": "stream",
     "text": [
      "[['communication_skill' '70']\n",
      " ['year_experience' '54']\n",
      " ['experience_working' '45']\n",
      " ['skill_ability' '38']\n",
      " ['ability_work' '36']]\n",
      "\n",
      "[['includes_respect_variety' '1']\n",
      " ['respect_variety_voice' '1']\n",
      " ['variety_voice_identity' '1']\n",
      " ['voice_identity_background' '1']\n",
      " ['identity_background_experience' '1']]\n"
     ]
    }
   ],
   "source": [
    "bag_words = Counter(\n",
    "  itertools.chain(*qualifications)\n",
    ")\n",
    "\n",
    "n = 5\n",
    "print(np.array(bag_words.most_common(n)))\n",
    "print()\n",
    "print(np.array(bag_words.most_common()[-(n+1):-1]))"
   ]
  },
  {
   "cell_type": "code",
   "execution_count": 82,
   "metadata": {},
   "outputs": [
    {
     "data": {
      "image/png": "[encoded data removed]",
      "text/plain": [
       "<Figure size 576x576 with 1 Axes>"
      ]
     },
     "metadata": {
      "needs_background": "light"
     },
     "output_type": "display_data"
    }
   ],
   "source": [
    "dump_data_out = False\n",
    "dump_out_cv_features_file_path = '../../data/disney/cv_features.txt'\n",
    "\n",
    "model = Pipeline([\n",
    "  ('cv', CountVectorizer(preprocessor=lambda a: a, tokenizer=lambda a: a)),\n",
    "  ('tfidf', TfidfTransformer(use_idf=True, smooth_idf=True))\n",
    "])\n",
    "\n",
    "model.fit(qualifications)\n",
    "\n",
    "if dump_data_out:\n",
    "  with open(dump_out_cv_features_file_path, 'w') as trash:\n",
    "    for tk in model.get_feature_names_out():\n",
    "      trash.write(f'{tk}\\n')\n",
    "else:\n",
    "  if os.path.exists(dump_out_cv_features_file_path):\n",
    "    os.remove(dump_out_cv_features_file_path)\n",
    "\n",
    "count_dataset = list(\n",
    "  map(\n",
    "    lambda a: (a[0], a[1], bag_words.get(a[0])),\n",
    "    zip(model.get_feature_names_out(), model['tfidf'].idf_)\n",
    "  )\n",
    ")\n",
    "\n",
    "x = list(map(lambda a: a[1], count_dataset)) ## idf\n",
    "y = list(map(lambda a: a[2], count_dataset)) ## freq\n",
    "\n",
    "\n",
    "fig = plt.figure(figsize=(8, 8))\n",
    "plt.scatter(x, y)\n",
    "plt.xlabel('idf score')\n",
    "plt.ylabel('frequency')\n",
    "\n",
    "plt.axhline(y=1, color='r', linestyle='-')\n",
    "plt.axvline(x=3.5, color='r', linestyle='-')\n",
    "\n",
    "plt.show()"
   ]
  },
  {
   "cell_type": "code",
   "execution_count": 83,
   "metadata": {},
   "outputs": [
    {
     "name": "stdout",
     "output_type": "stream",
     "text": [
      "17683\n",
      "['2_year' '5+_year' '5_year' ... 'zone_responsibility_must' 'zoom_working'\n",
      " 'zoom_working_window']\n"
     ]
    }
   ],
   "source": [
    "stop_words = []\n",
    "stop_words.extend(\n",
    "  list(map(lambda a: a[0], filter(lambda a: a[1] < 3.5, count_dataset))) ## how common across the corpus\n",
    ")\n",
    "stop_words.extend(\n",
    "  list(map(lambda a: a[0], filter(lambda a: a[2] == 1, count_dataset))) ## how common across the corpus\n",
    ")\n",
    "\n",
    "print(len(stop_words))\n",
    "print(np.array(stop_words))\n",
    "\n",
    "stop_words = { term: 0 for term in stop_words }"
   ]
  },
  {
   "cell_type": "code",
   "execution_count": 84,
   "metadata": {},
   "outputs": [
    {
     "name": "stdout",
     "output_type": "stream",
     "text": [
      "['passionate_area', 'area_expertise', 'expertise_deeply', 'deeply_inquisitive', 'inquisitive_open']\n",
      "\n",
      "['informed_limited', 'team_member', 'hand_dirty', 'help_build', 'driven_perform']\n"
     ]
    }
   ],
   "source": [
    "def should_we_take(gram):\n",
    "  if gram in stop_words:\n",
    "    return False\n",
    "\n",
    "  return True\n",
    "\n",
    "for document in documents:\n",
    "  document['final'] = [ token for token in document['step_5'] if should_we_take(token) ]\n",
    "  \n",
    "print(documents[0]['step_5'][:5])\n",
    "print()\n",
    "print(documents[0]['final'][:5])"
   ]
  },
  {
   "cell_type": "markdown",
   "metadata": {},
   "source": [
    "### Step 7\n",
    "\n",
    "- lda"
   ]
  },
  {
   "cell_type": "code",
   "execution_count": 85,
   "metadata": {},
   "outputs": [],
   "source": [
    "documents_to_process = [ document['final'] for document in documents ]\n",
    "dictionary = corpora.Dictionary(documents_to_process)\n",
    "document_term_matrix = [dictionary.doc2bow(doc) for doc in documents_to_process]\n",
    "\n",
    "num_topics = 8\n",
    "\n",
    "model = LdaModel(\n",
    "  document_term_matrix,\n",
    "  num_topics=num_topics,\n",
    "  id2word=dictionary,\n",
    "  passes=100,\n",
    ")"
   ]
  },
  {
   "cell_type": "code",
   "execution_count": 86,
   "metadata": {},
   "outputs": [
    {
     "name": "stdout",
     "output_type": "stream",
     "text": [
      "[['0'\n",
      "  '0.003*\"audio_video\" + 0.003*\"experience_building\" + 0.003*\"product_management\" + 0.002*\"video_player\" + 0.002*\"audio_video_lighting\" + 0.002*\"video_lighting\" + 0.002*\"management_experience\" + 0.002*\"guest_service\" + 0.002*\"programming_language\" + 0.002*\"experience_technical\" + 0.002*\"knowledge_experience\" + 0.002*\"youve_demonstrated\" + 0.002*\"video_streaming\" + 0.002*\"previous_experience\" + 0.002*\"software_development\"']\n",
      " ['1'\n",
      "  '0.003*\"per_week\" + 0.003*\"full_availability\" + 0.002*\"including_night\" + 0.002*\"day_per\" + 0.002*\"day_per_week\" + 0.002*\"week_including\" + 0.002*\"week_including_night\" + 0.002*\"per_week_including\" + 0.002*\"availability_shift\" + 0.002*\"full_availability_shift\" + 0.002*\"part_team\" + 0.002*\"mathematics_statistic_economics\" + 0.002*\"economics_engineering\" + 0.002*\"mathematics_statistic\" + 0.002*\"statistic_economics_engineering\"']\n",
      " ['2'\n",
      "  '0.004*\"method_experience\" + 0.003*\"disney_resort\" + 0.003*\"shanghai_disney_resort\" + 0.003*\"shanghai_disney\" + 0.003*\"obtain_certificate\" + 0.003*\"training_assessment_including\" + 0.003*\"training_assessment\" + 0.003*\"complete_pas\" + 0.003*\"complete_pas_post\" + 0.003*\"obtain_certificate_qualification\" + 0.003*\"job_training\" + 0.003*\"limited_job_training\" + 0.003*\"job_complete\" + 0.003*\"required_performing_job\" + 0.003*\"assessment_including\"']\n",
      " ['3'\n",
      "  '0.003*\"data_management\" + 0.003*\"computer_science\" + 0.003*\"experience_designing\" + 0.003*\"per_week\" + 0.002*\"experience_managing\" + 0.002*\"work_collaboratively\" + 0.002*\"strong_understanding\" + 0.002*\"excellent_communication\" + 0.002*\"excellent_communication_skill\" + 0.002*\"experience_project\" + 0.002*\"2+_year\" + 0.002*\"high_level\" + 0.002*\"related_field\" + 0.002*\"experience_experience\" + 0.002*\"degree_computer_science\"']\n",
      " ['4'\n",
      "  '0.004*\"design_construction\" + 0.003*\"leadership_experience\" + 0.003*\"machine_learning\" + 0.003*\"experience_plus\" + 0.003*\"track_record\" + 0.003*\"related_field\" + 0.002*\"analytical_skill\" + 0.002*\"project_team\" + 0.002*\"excel_powerpoint\" + 0.002*\"non_technical\" + 0.002*\"collaborative_environment\" + 0.002*\"complex_project\" + 0.002*\"business_unit\" + 0.002*\"work_collaborative\" + 0.002*\"understand_business\"']\n",
      " ['5'\n",
      "  '0.003*\"manage_multiple\" + 0.003*\"interpersonal_skill\" + 0.003*\"written_verbal_communication\" + 0.003*\"skill_including\" + 0.003*\"handle_multiple\" + 0.002*\"digital_medium\" + 0.002*\"multiple_priority\" + 0.002*\"shifting_priority\" + 0.002*\"quickly_shifting\" + 0.002*\"quickly_shifting_priority\" + 0.002*\"handle_multiple_priority\" + 0.002*\"thrive_fast\" + 0.002*\"thrive_fast_paced\" + 0.002*\"strong_communication_skill\" + 0.002*\"strong_communication\"']\n",
      " ['6'\n",
      "  '0.005*\"experience_using\" + 0.005*\"graphic_design\" + 0.004*\"environmental_graphic\" + 0.002*\"system_experience\" + 0.002*\"verbal_written\" + 0.002*\"m_office\" + 0.002*\"office_suite\" + 0.002*\"written_verbal_communication\" + 0.002*\"minimum_5\" + 0.002*\"ability_handle\" + 0.002*\"game_engine\" + 0.002*\"communication_skill_ability\" + 0.002*\"environmental_graphic_design\" + 0.002*\"jira_confluence\" + 0.002*\"reporting_tool\"']\n",
      " ['7'\n",
      "  '0.003*\"best_practice\" + 0.002*\"adobe_creative\" + 0.002*\"adobe_creative_suite\" + 0.002*\"creative_suite\" + 0.002*\"written_communication_skill\" + 0.002*\"written_communication\" + 0.002*\"knowledge_experience\" + 0.002*\"mechanical_system\" + 0.002*\"knowledge_basic\" + 0.002*\"critical_thinker\" + 0.002*\"strong_familiarity\" + 0.002*\"design_skill\" + 0.001*\"demonstrate_ability\" + 0.001*\"m_office\" + 0.001*\"thorough_understanding_data\"']]\n"
     ]
    }
   ],
   "source": [
    "print(np.array(model.print_topics(num_topics=num_topics, num_words=15)))"
   ]
  },
  {
   "cell_type": "code",
   "execution_count": null,
   "metadata": {},
   "outputs": [],
   "source": []
  },
  {
   "cell_type": "code",
   "execution_count": 87,
   "metadata": {},
   "outputs": [],
   "source": [
    "titles = {}\n",
    "\n",
    "df = pd.read_csv('../../data/disney/jobs.csv')\n",
    "for _, row in df.iterrows():\n",
    "  cat_id = row['cat_id']\n",
    "  job_id = row['job_id']\n",
    "\n",
    "  titles[f'{cat_id}_{job_id}'] = row['title']"
   ]
  },
  {
   "cell_type": "code",
   "execution_count": 88,
   "metadata": {},
   "outputs": [
    {
     "name": "stdout",
     "output_type": "stream",
     "text": [
      "\"Researcher, Disney Research Imagineering\" -> (4, 0.9947909)\n",
      "\"Associate R&D Imagineer - Creative Technologist\" -> (7, 0.97915393)\n",
      "\"R&D Imagineer Principal - Business Manager\" -> (3, 0.9851651)\n",
      "\"R&D Imagineer Sr. - Mechanical Design Engineer\" -> (3, 0.98906004)\n",
      "\"Sr. R&D Imagineer-TPM for Intelligent Interactive Character Studio\" -> (3, 0.990689)\n",
      "\"Associate R&D Imagineer-Tools Software Engineer\" -> (6, 0.96193016)\n",
      "\"Senior AI/ML Research Scientist, Disney Research Imagineering\" -> (4, 0.9955575)\n",
      "\"Intern, Creative Design Related\" -> (1, 0.9582714)\n",
      "\"Executive Assistant (Project Hire)\" -> (5, 0.9582958)\n",
      "\"PH-Mechanical Engineer\" -> (4, 0.97175884)\n",
      "\"Product Mgr Sr - Business\" -> (0, 0.9485029)\n",
      "\"Show Mechanical Engineer Principal\" -> (7, 0.9834793)\n",
      "\"PH-Graphic Fabrication Designer\" -> (6, 0.9858839)\n",
      "\"PH- Associate Environmental Fabrication Designer\" -> (6, 0.99088365)\n",
      "\"PH-Construction Manager Sr\" -> (0, 0.9873136)\n",
      "\"WDI Special Effects & Illusion Development Internship–Summer/Fall 2022\" -> (1, 0.96870196)\n",
      "\"PH-Sound Editor Mixer Sr\" -> (5, 0.9649729)\n",
      "\"Show Writer\" -> (3, 0.255133) (4, 0.7135821)\n",
      "\"Show Electronic Engineer (Imaging Engineer)\" -> (2, 0.5838467) (5, 0.3940756)\n",
      "\"Senior Financial Analyst, Deal Analysis\" -> (6, 0.9663036)\n",
      "\"Control Software Dev Principal\" -> (0, 0.990487)\n",
      "\"Analyst, Income Tax\" -> (6, 0.97080314)\n",
      "\"Senior Visual Effects Designer – Expression of Interest\" -> (6, 0.9562265)\n",
      "\"UX Engineer II\" -> (7, 0.99211437)\n",
      "\"WDI Project Coordination Internship (Glendale) – Summer/Fall 2022\" -> (4, 0.98817354)\n",
      "\"Staff Coordinator\" -> (7, 0.97810405)\n",
      "\"WDI Color and Paint Internship (Orlando) - Summer/Fall 2022\" -> (3, 0.9484887)\n",
      "\"WDI Project Coordination Internship (Orlando) – Summer/Fall 2022\" -> (4, 0.98919475)\n",
      "\"WDI Graphic Design Internship (Orlando) – Summer/Fall 2022\" -> (6, 0.98693585)\n",
      "\"WDI Producer Design Services Intern (Orlando) - Summer/Fall 2022\" -> (5, 0.96756)\n",
      "\"WDI Visual Effects Design Intern – Glendale – Summer/Fall 2022\" -> (7, 0.96497357)\n",
      "\"Workflow TD\" -> (7, 0.953902)\n",
      "\"Illusion Production Mgr Sr\" -> (3, 0.961934)\n",
      "\"Manager, Fan Engagement\" -> (4, 0.9619346)\n",
      "\"Associate Show Electronic Designer (Show A/V Engineer)\" -> (2, 0.9906886)\n",
      "\"Associate Show Electronic Designer (Show Control Hardware)\" -> (2, 0.98674023)\n",
      "\"Digital Marketing Coordinator\" -> (7, 0.96497667)\n",
      "\"BIM & VDC Mgr\" -> (4, 0.9834817)\n",
      "\"Manager, Creative Marketing Brand Partnerships\" -> (5, 0.9326421)\n",
      "\"Director, Enterprise Architecture\" -> (6, 0.9484874)\n",
      "\"Business Operations Manager\" -> (5, 0.99211305)\n",
      "\"Software Dev Lead\" -> (0, 0.99048644)\n",
      "\"Sr. (Data) Marketing Scientist\" -> (5, 0.9871237)\n",
      "\"Project Interpreter/Translator (English/Japanese)\" -> (0, 0.9708053)\n",
      "\"Associate Product Manager (PH)\" -> (0, 0.68753505) (4, 0.059448913) (5, 0.22174783)\n",
      "\"Editor, Disney Publishing Worldwide\" -> (0, 0.011369714) (1, 0.011367934) (2, 0.011367875) (3, 0.011368789) (4, 0.011370685) (5, 0.9204094) (6, 0.011372165) (7, 0.011373446)\n",
      "\"Senior Production Accountant\" -> (4, 0.9786445)\n",
      "\"Sr Analyst, Data Visualization\" -> (6, 0.9326569)\n",
      "\"Senior Designer, Publishing\" -> (7, 0.96630996)\n",
      "\"Senior Researcher, Consumer Insight\" -> (7, 0.9649688)\n",
      "\"2D Character Designer - Expression of Interest Marvel Animation\" -> (0, 0.017862186) (1, 0.017859323) (2, 0.017861411) (3, 0.8749768) (4, 0.017861845) (5, 0.017861014) (6, 0.0178587) (7, 0.017858699)\n",
      "\"Secretary 1 (Project Hire)\" -> (6, 0.98692936)\n",
      "\"Manager, Product Design - Globalization\" -> (3, 0.97634095)\n",
      "\"WDI Set Decoration Internship (Orlando) – Summer/Fall 2022\" -> (0, 0.9809603)\n",
      "\"Director Product - Identity Platforms\" -> (4, 0.9849056)\n",
      "\"Health & Safety Supervisor, Marketing and Content (PH)\" -> (7, 0.9786325)\n",
      "\"Associate Project Manager, Repurposing\" -> (0, 0.97345847)\n",
      "\"Manager, Creative Advertising\" -> (5, 0.99150175)\n",
      "\"Executive Director, Marketing Science\" -> (0, 0.9416125)\n",
      "\"Director, Product Management, Partner Growth\" -> (0, 0.011370783) (1, 0.01136634) (2, 0.0113739725) (3, 0.011371672) (4, 0.92041016) (5, 0.01136816) (6, 0.011370955) (7, 0.011367932)\n",
      "\"Senior Manager, Finance, Disney Publishing\" -> (4, 0.9734636)\n",
      "\"PH-Superintendent\" -> (0, 0.98316604)\n",
      "\"Streaming Media Assistant\" -> (5, 0.9837912)\n",
      "\"Multicultural Marketing Strategy Associate\" -> (2, 0.98436594)\n",
      "\"Senior Production Accountant\" -> (2, 0.97962785)\n",
      "\"Streaming Media Assistant\" -> (5, 0.99005085)\n",
      "\"Land Surveyor- Infrastructure Program Development\" -> (6, 0.93264204)\n",
      "\"Culinary Cook 2 (Prep Cook)- Full Time, Walt Disney World\" -> (7, 0.9963378)\n",
      "\"Culinary Cook 2 (Prep Cook)- Part Time, Walt Disney World\" -> (7, 0.9962275)\n",
      "\"Senior Manager - Marketing Strategy (Multicultural)\" -> (2, 0.9813695)\n",
      "\"Senior Manager-Packaging Design\" -> (3, 0.9749913)\n",
      "\"HR Data & Process Analyst (IA)\" -> (4, 0.9874883)\n",
      "\"Manager - Production Finance\" -> (2, 0.97914386)\n",
      "\"Workday Talent Acquisition Analyst (12 month Project Hire)\" -> (5, 0.9933701)\n",
      "\"Workday Reporting Analyst (12 month Project Hire)\" -> (5, 0.9940465)\n",
      "\"Workday Reporting Analyst (12 month Project Hire)\" -> (5, 0.9940465)\n",
      "\"Data Integration Analyst (PH)\" -> (7, 0.9890598)\n",
      "\"Data Integration Analyst-Replatform (PH)\" -> (7, 0.9890598)\n",
      "\"HR Decision Science Engineer-Remote\" -> (0, 0.3210994) (1, 0.66847223)\n",
      "\"Senior Network Operator\" -> (6, 0.99532)\n",
      "\"Lifeguard - Part Time\" -> (1, 0.9863201)\n",
      "\"Senior Network Operator\" -> (6, 0.99532)\n",
      "\"Data Integration Engineer\" -> (7, 0.99068654)\n",
      "\"Host/ Hostess, Front Desk (Part Time)\" -> (2, 0.7531058) (3, 0.23864983)\n",
      "\"Senior Manager Research & Development F&B M/F - Permanent Contract\" -> (0, 0.93738854)\n",
      "\"Senior Mechanical Engineer-Utility and Sustaining\" -> (7, 0.992707)\n",
      "\"Staff Mechanical Engineer-Utility and Sustaining\" -> (7, 0.9927673)\n",
      "\"Manager-Records & Information Management\" -> (5, 0.9910696)\n",
      "\"Communications Technology Specialist\" -> (1, 0.91326904) (7, 0.073318735)\n",
      "\"Sr UX Engineer (IA)\" -> (7, 0.993053)\n",
      "\"Sr. Art Director- CPGP\" -> (1, 0.99341965)\n",
      "\"Manager, Finance, Marvel/Fox/Softlines\" -> (0, 0.98052996)\n",
      "\"Director, Graphic Design\" -> (0, 0.56695163) (6, 0.41028795)\n",
      "\"Business Affairs Manager\" -> (7, 0.9635112)\n",
      "\"Assistant Manager, Communications\" -> (0, 0.0113764675) (1, 0.92033714) (2, 0.0113698095) (3, 0.011391859) (4, 0.011384031) (5, 0.01137798) (6, 0.011380243) (7, 0.01138242)\n",
      "\"WDI Project Management Internship, Glendale, CA - Summer 2022\" -> (0, 0.9756697)\n",
      "\"Senior Workforce Analyst\" -> (6, 0.99115187)\n",
      "\"Senior Executive Assistant\" -> (0, 0.9649543)\n",
      "\"Senior IT Auditor\" -> (1, 0.9937917)\n",
      "\"Junior Designer\" -> (5, 0.97753847)\n",
      "\"Records & Information (RIM) Manager\" -> (5, 0.99158436)\n",
      "\"Procurement Spend Analyst\" -> (5, 0.97634083)\n",
      "\"Senior Finance Analyst - FMCG\" -> (0, 0.92034376) (1, 0.011368906) (2, 0.011371116) (3, 0.0113878725) (4, 0.011392097) (5, 0.011391421) (6, 0.011375191) (7, 0.011369612)\n",
      "\"Senior Copywriter - CPGP\" -> (1, 0.9883308)\n",
      "\"Senior Art Director- CPGP\" -> (1, 0.99341965)\n",
      "\"QE Operator (Part-Time)\" -> (3, 0.97864616)\n",
      "\"Data Analyst\" -> (2, 0.99316245)\n",
      "\"Sr Data Analyst\" -> (2, 0.99321544)\n",
      "\"HR Decision Scientist (PH)\" -> (1, 0.996338)\n",
      "\"Manager, Data Governance\" -> (3, 0.99027437)\n",
      "\"Manager, Technology (SRE)\" -> (0, 0.9663145)\n",
      "\"Sr Product Manager II, Player Tools and Testing\" -> (0, 0.98712796)\n",
      "\"HR Decision Scientist-Remote\" -> (1, 0.996338)\n",
      "\"Lead Technical Analyst\" -> (0, 0.94160455)\n",
      "\"Sr Manager, Product Marketing, Combo+\" -> (5, 0.98436284)\n",
      "\"Manager, Data Integration\" -> (3, 0.99196965)\n",
      "\"Technical Analyst- Distribution Operations ( 2 pm-10 pm PST)\" -> (0, 0.015640311) (1, 0.01564392) (2, 0.8904509) (3, 0.015657496) (4, 0.01563502) (5, 0.015684433) (6, 0.015645165) (7, 0.015642744)\n",
      "\"Ad Operations Executive\" -> (0, 0.97174495)\n",
      "\"Senior/Ride Technician - Electrical & Instrumental/Mechanical\" -> (7, 0.9562055)\n",
      "\"Cook\" -> (2, 0.97347295)\n",
      "\"Host/ Hostess, Bell Services - ￥2500 Sign-on Bonus\" -> (2, 0.9749939)\n",
      "\"Host/ Hostess, Front Desk - ￥2500 Sign-on Bonus\" -> (2, 0.9834885)\n",
      "\"Stage Technician, Entertainment (Repair and Maintenance Technician)\" -> (0, 0.9891897)\n",
      "\"Yellow Shoes Creative Art Direction Internship, Fall 2022\" -> (1, 0.6622006) (4, 0.3269199)\n",
      "\"Host/Hostess, Park Greeter and Ticket Seller\" -> (2, 0.5901781) (6, 0.39925408)\n",
      "\"Host/Hostess, Security\" -> (0, 0.015634004) (1, 0.015639106) (2, 0.89053255) (3, 0.015631698) (4, 0.015633278) (5, 0.015643377) (6, 0.015629185) (7, 0.015656786)\n",
      "\"Fire Safety Operator\" -> (2, 0.973478)\n",
      "\"Host/Hostess, Custodial\" -> (2, 0.61981) (6, 0.36828196)\n",
      "\"Product and Design Intern, Technology and Digital Internship Program\" -> (1, 0.9945295)\n",
      "\"Engineering Intern, Technology and Digital Internship Program\" -> (1, 0.9942418)\n",
      "\"Vacation Club Guide-Timeshare Sales, Disney Vacation Club\" -> (0, 0.99600357)\n",
      "\"Vacation Club Guide-Timeshare Sales, Disney Vacation Club\" -> (0, 0.99602175)\n",
      "\"Food & Beverage FOH, Cashier and Food Service Worker-Part Time\" -> (1, 0.9965675)\n",
      "\"Senior Manager, Digital Accounts Management\" -> (5, 0.98463887)\n",
      "\"Senior Financial Reporting Analyst\" -> (4, 0.5603475) (7, 0.42133576)\n",
      "\"Senior Manager, Financial Systems\" -> (6, 0.9924546)\n",
      "\"Creative Services Executive\" -> (3, 0.9837861)\n",
      "\"Food Prep - Part Time - $1,000 Hiring Bonus\" -> (1, 0.9908816)\n",
      "\"Parks Food & Beverage Busser - Part Time - $1,000 Hiring Bonus\" -> (1, 0.996554)\n",
      "\"Stage Technician (Lighting/Audio/Video/Rigging/Props/Automation)\" -> (5, 0.9813727)\n",
      "\"Chef de Partie\" -> (2, 0.98516273)\n",
      "\"Data Analyst, Disney+\" -> (5, 0.9883257)\n",
      "\"H/H, Merchandise–Hongqiao Airport Store\" -> (2, 0.97696596)\n",
      "\"Technical Program Manager\" -> (6, 0.9649798)\n",
      "\"Sr. Product Manager I, Native Video Player\" -> (0, 0.9966077)\n",
      "\"Costuming Service Attendant （Part-time）\" -> (3, 0.97634137)\n",
      "\"Sr. Product Manager I, Video Player\" -> (0, 0.99594814)\n",
      "\"Electronic Technician (Sound Mechanic) - Full Time\" -> (1, 0.98095965)\n",
      "\"Associate Manager, Operating Participants\" -> (4, 0.98347956)\n",
      "\"Host/Hostess, Table service restaurant (waiter/waitress)\" -> (2, 0.9452667)\n",
      "\"Host/Hostess, Merchandise ICS\" -> (2, 0.99078727)\n",
      "\"Manager, HR Business Partner\" -> (0, 0.39333597) (4, 0.59393376)\n",
      "\"Disney Central Orlando Job Fair - $1,500 New Hire Bonus, May 9, 2022\" -> (1, 0.9943892)\n",
      "\"Sr Software Engineer\" -> (7, 0.96980196)\n",
      "\"Character Event Captain\" -> (2, 0.94529545)\n",
      "\"Captain, Table Service Restaurants (fine dining)\" -> (2, 0.9890585)\n",
      "\"WDI Communications Manager\" -> (5, 0.9687137)\n",
      "\"Holiday Services Craft Support Decorator, Seasonal\" -> (3, 0.95135677)\n",
      "\"Sign Painter - Full Time\" -> (7, 0.95828754)\n",
      "\"Director of Development, WDAS\" -> (5, 0.9697994)\n",
      "\"Public Relations Assistant Manager, CPGP\" -> (1, 0.48983732) (5, 0.48593488)\n",
      "\"Sourcing Specialist III\" -> (4, 0.39956856) (5, 0.5874898)\n",
      "\"PH-Show Lighting Designer, Sr\" -> (5, 0.9763347)\n",
      "\"Content Operations Associate\" -> (3, 0.9675684)\n",
      "\"Manager, Communications & Public Affairs (CPGP)\" -> (6, 0.96193194)\n",
      "\"Director - Operating Participants, Account Management\" -> (4, 0.97568226)\n",
      "\"Copywriter\" -> (1, 0.97865134)\n",
      "\"Information Designer\" -> (6, 0.97963154)\n",
      "\"Lifeguard\" -> (2, 0.98588115)\n",
      "\"Senior Integrated Auditor\" -> (1, 0.99374706)\n",
      "\"Manager, Financial Systems\" -> (6, 0.9907871)\n",
      "\"Software Engineer\" -> (0, 0.010424591) (1, 0.010429387) (2, 0.010422493) (3, 0.010437546) (4, 0.01042388) (5, 0.55805576) (6, 0.010423162) (7, 0.37938318)\n"
     ]
    }
   ],
   "source": [
    "for document in documents:\n",
    "    job_id = document['job_id']\n",
    "    cat_id = document['cat_id']\n",
    "    bow = dictionary.doc2bow(document['final'])\n",
    "    topic = model.get_document_topics(bow)\n",
    "\n",
    "    title = titles[f'{cat_id}_{job_id}']\n",
    "    print(f'\"{title}\"', '->', *topic)"
   ]
  },
  {
   "cell_type": "code",
   "execution_count": null,
   "metadata": {},
   "outputs": [],
   "source": []
  },
  {
   "cell_type": "markdown",
   "metadata": {},
   "source": [
    "### Save model"
   ]
  },
  {
   "cell_type": "code",
   "execution_count": 95,
   "metadata": {},
   "outputs": [],
   "source": [
    "if settings['model']['cahce']:\n",
    "  model_version = settings['model']['version']\n",
    "  directory_path = f'../../data/disney/models/lda_v{model_version}/'\n",
    "  if not os.path.exists(directory_path):\n",
    "    os.mkdir(directory_path)\n",
    "\n",
    "  model.save(f'{directory_path}/lda_v{model_version}')\n",
    "\n",
    "  with open(f'{directory_path}/lda_v{model_version}_documents.csv', 'w') as output:\n",
    "    output.write('cat_id,job_id\\n')\n",
    "    for cat_id, job_id in [(document['cat_id'], document['job_id']) for document in documents]:\n",
    "      output.write(f'{cat_id},{job_id}\\n')\n",
    "  "
   ]
  },
  {
   "cell_type": "code",
   "execution_count": null,
   "metadata": {},
   "outputs": [],
   "source": []
  }
 ],
 "metadata": {
  "interpreter": {
   "hash": "2304a4306d72a9fc8f52cfa19ebef60f8a2cea47ec9230cdf955b20fb7741e1a"
  },
  "kernelspec": {
   "display_name": "Python 3.9.1 ('monte': venv)",
   "language": "python",
   "name": "python3"
  },
  "language_info": {
   "codemirror_mode": {
    "name": "ipython",
    "version": 3
   },
   "file_extension": ".py",
   "mimetype": "text/x-python",
   "name": "python",
   "nbconvert_exporter": "python",
   "pygments_lexer": "ipython3",
   "version": "3.9.1"
  },
  "orig_nbformat": 4
 },
 "nbformat": 4,
 "nbformat_minor": 2
}
